{
 "cells": [
  {
   "cell_type": "markdown",
   "metadata": {
    "tags": []
   },
   "source": [
    "# Импорт библиотек"
   ]
  },
  {
   "cell_type": "code",
   "execution_count": 1,
   "metadata": {},
   "outputs": [],
   "source": [
    "import os\n",
    "from tqdm import tqdm\n",
    "\n",
    "import numpy as np\n",
    "import pandas as pd\n",
    "\n",
    "import matplotlib.pyplot as plt\n",
    "import seaborn as sns\n",
    "\n",
    "from catboost import CatBoostClassifier, CatBoostRegressor\n",
    "from sklearn.model_selection import *\n",
    "\n",
    "from dateutil.relativedelta import relativedelta"
   ]
  },
  {
   "cell_type": "markdown",
   "metadata": {
    "tags": []
   },
   "source": [
    "# Метрика"
   ]
  },
  {
   "cell_type": "code",
   "execution_count": 2,
   "metadata": {},
   "outputs": [],
   "source": [
    "np.random.seed(17)\n",
    "gt = np.random.randint(0, 5, size=100,)\n",
    "pr = np.random.randint(0, 5, size=100)"
   ]
  },
  {
   "cell_type": "code",
   "execution_count": 3,
   "metadata": {},
   "outputs": [],
   "source": [
    "def compete_metric(gt, pr):\n",
    "\n",
    "    res = 0\n",
    "    norm_coef = [4, 3, 2, 3, 4]\n",
    "    \n",
    "    for j in range(5):\n",
    "        \n",
    "        diff = 0\n",
    "        N = 0\n",
    "    \n",
    "        for i in range(gt.shape[0]):\n",
    "            \n",
    "            gt_val = gt[i]\n",
    "            pr_val = pr[i]\n",
    "            \n",
    "            if gt_val == j:\n",
    "            \n",
    "                diff += abs(pr_val - gt_val)\n",
    "                N += 1\n",
    "                \n",
    "        res += diff / N / norm_coef[j]\n",
    "        \n",
    "    return 1 - res / 5"
   ]
  },
  {
   "cell_type": "code",
   "execution_count": 4,
   "metadata": {},
   "outputs": [
    {
     "data": {
      "text/plain": [
       "0.5213859456826209"
      ]
     },
     "execution_count": 4,
     "metadata": {},
     "output_type": "execute_result"
    }
   ],
   "source": [
    "compete_metric(gt, pr)"
   ]
  },
  {
   "cell_type": "markdown",
   "metadata": {
    "tags": []
   },
   "source": [
    "# Создание датасета для обучения"
   ]
  },
  {
   "cell_type": "code",
   "execution_count": 73,
   "metadata": {},
   "outputs": [
    {
     "data": {
      "text/html": [
       "<div>\n",
       "<style scoped>\n",
       "    .dataframe tbody tr th:only-of-type {\n",
       "        vertical-align: middle;\n",
       "    }\n",
       "\n",
       "    .dataframe tbody tr th {\n",
       "        vertical-align: top;\n",
       "    }\n",
       "\n",
       "    .dataframe thead th {\n",
       "        text-align: right;\n",
       "    }\n",
       "</style>\n",
       "<table border=\"1\" class=\"dataframe\">\n",
       "  <thead>\n",
       "    <tr style=\"text-align: right;\">\n",
       "      <th></th>\n",
       "      <th>idx</th>\n",
       "      <th>DATE</th>\n",
       "      <th>KT_RESULT</th>\n",
       "    </tr>\n",
       "  </thead>\n",
       "  <tbody>\n",
       "    <tr>\n",
       "      <th>0</th>\n",
       "      <td>301478</td>\n",
       "      <td>2020-04-17</td>\n",
       "      <td>КТ-1</td>\n",
       "    </tr>\n",
       "  </tbody>\n",
       "</table>\n",
       "</div>"
      ],
      "text/plain": [
       "      idx        DATE KT_RESULT\n",
       "0  301478  2020-04-17      КТ-1"
      ]
     },
     "execution_count": 73,
     "metadata": {},
     "output_type": "execute_result"
    }
   ],
   "source": [
    "# 2. Файл с результатами КТ-исследований (train) и файл аналогичной структуры для валидации результатов (evaluate).\n",
    "# Необходимо проставить классы в таком же формате (КТ-0-4), в каком они указаны в исходном файле.\n",
    "# IDX - анонимизированный идентификатор пациента. по нему файлы связаны между собой.\n",
    "# DATE - Дата исследования\n",
    "# KT_Result - Результат\n",
    "kt_train = pd.read_csv('data/data_for_science_KT_train.csv', sep=',')\n",
    "\n",
    "kt_test = pd.read_csv('data/data_for_science_KT_evaluate.csv', sep=',')\n",
    "kt_train.head(1)"
   ]
  },
  {
   "cell_type": "code",
   "execution_count": 376,
   "metadata": {},
   "outputs": [],
   "source": [
    "data_train = kt_train.copy()\n",
    "data_test = kt_test.copy()"
   ]
  },
  {
   "cell_type": "markdown",
   "metadata": {
    "jp-MarkdownHeadingCollapsed": true,
    "tags": [],
    "toc-hr-collapsed": true
   },
   "source": [
    "## Работа с kt"
   ]
  },
  {
   "cell_type": "markdown",
   "metadata": {
    "tags": []
   },
   "source": [
    "### Обработка kt_train и удаление грязи"
   ]
  },
  {
   "cell_type": "code",
   "execution_count": 377,
   "metadata": {},
   "outputs": [],
   "source": [
    "# перевожу кт_резалт в инт\n",
    "data_train.KT_RESULT = data_train.KT_RESULT.apply(lambda x: int(x.split('-')[-1]))"
   ]
  },
  {
   "cell_type": "code",
   "execution_count": 378,
   "metadata": {},
   "outputs": [],
   "source": [
    "# убираю пользователей у которых в одну дату был не один диагноз\n",
    "temp = data_train.groupby(['idx', 'DATE']).KT_RESULT.nunique().reset_index().rename(columns={'KT_RESULT': 'val'})\n",
    "data_train = pd.merge(data_train, temp, on=['idx', 'DATE'], how='left')\n",
    "data_train = data_train[data_train.val == 1].reset_index(drop=True).drop('val', axis=1)"
   ]
  },
  {
   "cell_type": "code",
   "execution_count": 379,
   "metadata": {},
   "outputs": [
    {
     "data": {
      "text/html": [
       "<div>\n",
       "<style scoped>\n",
       "    .dataframe tbody tr th:only-of-type {\n",
       "        vertical-align: middle;\n",
       "    }\n",
       "\n",
       "    .dataframe tbody tr th {\n",
       "        vertical-align: top;\n",
       "    }\n",
       "\n",
       "    .dataframe thead th {\n",
       "        text-align: right;\n",
       "    }\n",
       "</style>\n",
       "<table border=\"1\" class=\"dataframe\">\n",
       "  <thead>\n",
       "    <tr style=\"text-align: right;\">\n",
       "      <th></th>\n",
       "      <th>idx</th>\n",
       "      <th>DATE</th>\n",
       "      <th>KT_RESULT</th>\n",
       "    </tr>\n",
       "  </thead>\n",
       "  <tbody>\n",
       "    <tr>\n",
       "      <th>0</th>\n",
       "      <td>6</td>\n",
       "      <td>2020-05-16</td>\n",
       "      <td>1</td>\n",
       "    </tr>\n",
       "    <tr>\n",
       "      <th>1</th>\n",
       "      <td>589147</td>\n",
       "      <td>2020-05-06</td>\n",
       "      <td>1</td>\n",
       "    </tr>\n",
       "    <tr>\n",
       "      <th>2</th>\n",
       "      <td>589147</td>\n",
       "      <td>2020-04-20</td>\n",
       "      <td>1</td>\n",
       "    </tr>\n",
       "    <tr>\n",
       "      <th>3</th>\n",
       "      <td>589146</td>\n",
       "      <td>2020-05-05</td>\n",
       "      <td>1</td>\n",
       "    </tr>\n",
       "    <tr>\n",
       "      <th>4</th>\n",
       "      <td>589141</td>\n",
       "      <td>2020-04-22</td>\n",
       "      <td>1</td>\n",
       "    </tr>\n",
       "    <tr>\n",
       "      <th>...</th>\n",
       "      <td>...</td>\n",
       "      <td>...</td>\n",
       "      <td>...</td>\n",
       "    </tr>\n",
       "    <tr>\n",
       "      <th>131984</th>\n",
       "      <td>172690</td>\n",
       "      <td>2020-05-26</td>\n",
       "      <td>1</td>\n",
       "    </tr>\n",
       "    <tr>\n",
       "      <th>131985</th>\n",
       "      <td>172682</td>\n",
       "      <td>2020-05-26</td>\n",
       "      <td>1</td>\n",
       "    </tr>\n",
       "    <tr>\n",
       "      <th>131986</th>\n",
       "      <td>172673</td>\n",
       "      <td>2020-05-26</td>\n",
       "      <td>1</td>\n",
       "    </tr>\n",
       "    <tr>\n",
       "      <th>131987</th>\n",
       "      <td>172483</td>\n",
       "      <td>2020-05-01</td>\n",
       "      <td>1</td>\n",
       "    </tr>\n",
       "    <tr>\n",
       "      <th>131988</th>\n",
       "      <td>1297531</td>\n",
       "      <td>2020-04-30</td>\n",
       "      <td>1</td>\n",
       "    </tr>\n",
       "  </tbody>\n",
       "</table>\n",
       "<p>131989 rows × 3 columns</p>\n",
       "</div>"
      ],
      "text/plain": [
       "            idx        DATE  KT_RESULT\n",
       "0             6  2020-05-16          1\n",
       "1        589147  2020-05-06          1\n",
       "2        589147  2020-04-20          1\n",
       "3        589146  2020-05-05          1\n",
       "4        589141  2020-04-22          1\n",
       "...         ...         ...        ...\n",
       "131984   172690  2020-05-26          1\n",
       "131985   172682  2020-05-26          1\n",
       "131986   172673  2020-05-26          1\n",
       "131987   172483  2020-05-01          1\n",
       "131988  1297531  2020-04-30          1\n",
       "\n",
       "[131989 rows x 3 columns]"
      ]
     },
     "execution_count": 379,
     "metadata": {},
     "output_type": "execute_result"
    }
   ],
   "source": [
    "data_train.groupby(['idx', 'DATE']).KT_RESULT.nunique().sort_values().reset_index()"
   ]
  },
  {
   "cell_type": "code",
   "execution_count": 380,
   "metadata": {},
   "outputs": [
    {
     "data": {
      "text/plain": [
       "KT_RESULT\n",
       "КТ-0    48092\n",
       "КТ-1    55685\n",
       "КТ-2    21231\n",
       "КТ-3     6678\n",
       "КТ-4      603\n",
       "Name: idx, dtype: int64"
      ]
     },
     "execution_count": 380,
     "metadata": {},
     "output_type": "execute_result"
    }
   ],
   "source": [
    "kt_train.groupby('KT_RESULT').idx.count()"
   ]
  },
  {
   "cell_type": "code",
   "execution_count": 381,
   "metadata": {},
   "outputs": [
    {
     "data": {
      "text/plain": [
       "KT_RESULT\n",
       "0    47984\n",
       "1    55564\n",
       "2    21171\n",
       "3     6667\n",
       "4      603\n",
       "Name: idx, dtype: int64"
      ]
     },
     "execution_count": 381,
     "metadata": {},
     "output_type": "execute_result"
    }
   ],
   "source": [
    "data_train.groupby('KT_RESULT').idx.count()"
   ]
  },
  {
   "cell_type": "code",
   "execution_count": 382,
   "metadata": {},
   "outputs": [
    {
     "data": {
      "text/html": [
       "<div>\n",
       "<style scoped>\n",
       "    .dataframe tbody tr th:only-of-type {\n",
       "        vertical-align: middle;\n",
       "    }\n",
       "\n",
       "    .dataframe tbody tr th {\n",
       "        vertical-align: top;\n",
       "    }\n",
       "\n",
       "    .dataframe thead th {\n",
       "        text-align: right;\n",
       "    }\n",
       "</style>\n",
       "<table border=\"1\" class=\"dataframe\">\n",
       "  <thead>\n",
       "    <tr style=\"text-align: right;\">\n",
       "      <th></th>\n",
       "      <th>idx</th>\n",
       "      <th>DATE</th>\n",
       "      <th>KT_RESULT</th>\n",
       "    </tr>\n",
       "  </thead>\n",
       "  <tbody>\n",
       "  </tbody>\n",
       "</table>\n",
       "</div>"
      ],
      "text/plain": [
       "Empty DataFrame\n",
       "Columns: [idx, DATE, KT_RESULT]\n",
       "Index: []"
      ]
     },
     "execution_count": 382,
     "metadata": {},
     "output_type": "execute_result"
    }
   ],
   "source": [
    "data_test[data_test.idx.isin(data_train.idx.unique())]"
   ]
  },
  {
   "cell_type": "markdown",
   "metadata": {
    "tags": []
   },
   "source": [
    "### Добавление признака предыдущих КТ"
   ]
  },
  {
   "cell_type": "code",
   "execution_count": 383,
   "metadata": {},
   "outputs": [],
   "source": [
    "data_train = data_train.sort_values(['idx', 'DATE']).reset_index(drop=True)\n",
    "data_test = data_test.sort_values(['idx', 'DATE']).reset_index(drop=True)"
   ]
  },
  {
   "cell_type": "code",
   "execution_count": 384,
   "metadata": {},
   "outputs": [],
   "source": [
    "# последний КТ"
   ]
  },
  {
   "cell_type": "code",
   "execution_count": 385,
   "metadata": {},
   "outputs": [],
   "source": [
    "shift_train = data_train[~data_train[['idx', 'DATE']].duplicated()].copy()\n",
    "shift_test = data_test[~data_test[['idx', 'DATE']].duplicated()].copy()"
   ]
  },
  {
   "cell_type": "code",
   "execution_count": 386,
   "metadata": {},
   "outputs": [],
   "source": [
    "shift_train['shift_DATE'] = shift_train.groupby(['idx']).DATE.shift(1)\n",
    "shift_train['days_btw_last_kt'] = (pd.to_datetime(shift_train.DATE) \n",
    "                                   - pd.to_datetime(shift_train.shift_DATE)).apply(lambda x: x.days).fillna(0)\n",
    "\n",
    "shift_test['shift_DATE'] = shift_test.groupby(['idx']).DATE.shift(1)\n",
    "shift_test['days_btw_last_kt'] = (pd.to_datetime(shift_test.DATE) \n",
    "                                  - pd.to_datetime(shift_test.shift_DATE)).apply(lambda x: x.days).fillna(0)"
   ]
  },
  {
   "cell_type": "code",
   "execution_count": 387,
   "metadata": {},
   "outputs": [
    {
     "data": {
      "text/html": [
       "<div>\n",
       "<style scoped>\n",
       "    .dataframe tbody tr th:only-of-type {\n",
       "        vertical-align: middle;\n",
       "    }\n",
       "\n",
       "    .dataframe tbody tr th {\n",
       "        vertical-align: top;\n",
       "    }\n",
       "\n",
       "    .dataframe thead th {\n",
       "        text-align: right;\n",
       "    }\n",
       "</style>\n",
       "<table border=\"1\" class=\"dataframe\">\n",
       "  <thead>\n",
       "    <tr style=\"text-align: right;\">\n",
       "      <th></th>\n",
       "      <th>idx</th>\n",
       "      <th>DATE</th>\n",
       "      <th>KT_RESULT</th>\n",
       "      <th>shift_DATE</th>\n",
       "      <th>days_btw_last_kt</th>\n",
       "    </tr>\n",
       "  </thead>\n",
       "  <tbody>\n",
       "    <tr>\n",
       "      <th>7</th>\n",
       "      <td>60</td>\n",
       "      <td>2020-05-17</td>\n",
       "      <td>1</td>\n",
       "      <td>2020-05-16</td>\n",
       "      <td>1.0</td>\n",
       "    </tr>\n",
       "    <tr>\n",
       "      <th>14</th>\n",
       "      <td>92</td>\n",
       "      <td>2020-06-29</td>\n",
       "      <td>0</td>\n",
       "      <td>2020-05-17</td>\n",
       "      <td>43.0</td>\n",
       "    </tr>\n",
       "    <tr>\n",
       "      <th>22</th>\n",
       "      <td>157</td>\n",
       "      <td>2020-05-16</td>\n",
       "      <td>0</td>\n",
       "      <td>2020-05-05</td>\n",
       "      <td>11.0</td>\n",
       "    </tr>\n",
       "    <tr>\n",
       "      <th>27</th>\n",
       "      <td>173</td>\n",
       "      <td>2020-05-17</td>\n",
       "      <td>1</td>\n",
       "      <td>2020-05-07</td>\n",
       "      <td>10.0</td>\n",
       "    </tr>\n",
       "    <tr>\n",
       "      <th>29</th>\n",
       "      <td>177</td>\n",
       "      <td>2020-06-06</td>\n",
       "      <td>0</td>\n",
       "      <td>2020-05-17</td>\n",
       "      <td>20.0</td>\n",
       "    </tr>\n",
       "    <tr>\n",
       "      <th>...</th>\n",
       "      <td>...</td>\n",
       "      <td>...</td>\n",
       "      <td>...</td>\n",
       "      <td>...</td>\n",
       "      <td>...</td>\n",
       "    </tr>\n",
       "    <tr>\n",
       "      <th>131686</th>\n",
       "      <td>1277418</td>\n",
       "      <td>2020-07-04</td>\n",
       "      <td>2</td>\n",
       "      <td>2020-06-29</td>\n",
       "      <td>5.0</td>\n",
       "    </tr>\n",
       "    <tr>\n",
       "      <th>131720</th>\n",
       "      <td>1280015</td>\n",
       "      <td>2020-05-07</td>\n",
       "      <td>1</td>\n",
       "      <td>2020-04-26</td>\n",
       "      <td>11.0</td>\n",
       "    </tr>\n",
       "    <tr>\n",
       "      <th>131755</th>\n",
       "      <td>1283676</td>\n",
       "      <td>2020-07-11</td>\n",
       "      <td>1</td>\n",
       "      <td>2020-07-02</td>\n",
       "      <td>9.0</td>\n",
       "    </tr>\n",
       "    <tr>\n",
       "      <th>131816</th>\n",
       "      <td>1290593</td>\n",
       "      <td>2020-07-07</td>\n",
       "      <td>1</td>\n",
       "      <td>2020-06-14</td>\n",
       "      <td>23.0</td>\n",
       "    </tr>\n",
       "    <tr>\n",
       "      <th>131873</th>\n",
       "      <td>1292653</td>\n",
       "      <td>2020-07-08</td>\n",
       "      <td>1</td>\n",
       "      <td>2020-07-03</td>\n",
       "      <td>5.0</td>\n",
       "    </tr>\n",
       "  </tbody>\n",
       "</table>\n",
       "<p>20899 rows × 5 columns</p>\n",
       "</div>"
      ],
      "text/plain": [
       "            idx        DATE  KT_RESULT  shift_DATE  days_btw_last_kt\n",
       "7            60  2020-05-17          1  2020-05-16               1.0\n",
       "14           92  2020-06-29          0  2020-05-17              43.0\n",
       "22          157  2020-05-16          0  2020-05-05              11.0\n",
       "27          173  2020-05-17          1  2020-05-07              10.0\n",
       "29          177  2020-06-06          0  2020-05-17              20.0\n",
       "...         ...         ...        ...         ...               ...\n",
       "131686  1277418  2020-07-04          2  2020-06-29               5.0\n",
       "131720  1280015  2020-05-07          1  2020-04-26              11.0\n",
       "131755  1283676  2020-07-11          1  2020-07-02               9.0\n",
       "131816  1290593  2020-07-07          1  2020-06-14              23.0\n",
       "131873  1292653  2020-07-08          1  2020-07-03               5.0\n",
       "\n",
       "[20899 rows x 5 columns]"
      ]
     },
     "execution_count": 387,
     "metadata": {},
     "output_type": "execute_result"
    }
   ],
   "source": [
    "shift_train[shift_train.shift_DATE.notnull()]"
   ]
  },
  {
   "cell_type": "code",
   "execution_count": 388,
   "metadata": {},
   "outputs": [
    {
     "data": {
      "text/plain": [
       "count    33037.000000\n",
       "mean         3.225384\n",
       "std          9.480197\n",
       "min          0.000000\n",
       "25%          0.000000\n",
       "50%          0.000000\n",
       "75%          0.000000\n",
       "max         81.000000\n",
       "Name: days_btw_last_kt, dtype: float64"
      ]
     },
     "execution_count": 388,
     "metadata": {},
     "output_type": "execute_result"
    }
   ],
   "source": [
    "shift_test.days_btw_last_kt.describe()"
   ]
  },
  {
   "cell_type": "code",
   "execution_count": 389,
   "metadata": {},
   "outputs": [],
   "source": [
    "# количество КТ"
   ]
  },
  {
   "cell_type": "code",
   "execution_count": 390,
   "metadata": {},
   "outputs": [
    {
     "name": "stdout",
     "output_type": "stream",
     "text": [
      "7\n"
     ]
    }
   ],
   "source": [
    "# максимальное количество КТ на человека\n",
    "print(max(shift_train.groupby(['idx']).DATE.nunique().max(), shift_test.groupby(['idx']).DATE.nunique().max()))"
   ]
  },
  {
   "cell_type": "code",
   "execution_count": 391,
   "metadata": {},
   "outputs": [],
   "source": [
    "# делаем шифт до 7, послее считаем ненулевые"
   ]
  },
  {
   "cell_type": "code",
   "execution_count": 392,
   "metadata": {},
   "outputs": [],
   "source": [
    "for i in range(1, 8):\n",
    "    shift_train['shift{}'.format(i)] = shift_train.groupby(['idx']).DATE.shift(i).notnull()\n",
    "    \n",
    "shift_train['KT_number'] = shift_train[shift_train.columns[5:]].apply(lambda x: x.sum(), axis=1)\n",
    "\n",
    "for i in range(1, 8):\n",
    "    shift_test['shift{}'.format(i)] = shift_test.groupby(['idx']).DATE.shift(i).notnull()\n",
    "    \n",
    "shift_test['KT_number'] = shift_test[shift_test.columns[5:]].apply(lambda x: x.sum(), axis=1)"
   ]
  },
  {
   "cell_type": "code",
   "execution_count": 393,
   "metadata": {},
   "outputs": [
    {
     "data": {
      "text/html": [
       "<div>\n",
       "<style scoped>\n",
       "    .dataframe tbody tr th:only-of-type {\n",
       "        vertical-align: middle;\n",
       "    }\n",
       "\n",
       "    .dataframe tbody tr th {\n",
       "        vertical-align: top;\n",
       "    }\n",
       "\n",
       "    .dataframe thead th {\n",
       "        text-align: right;\n",
       "    }\n",
       "</style>\n",
       "<table border=\"1\" class=\"dataframe\">\n",
       "  <thead>\n",
       "    <tr style=\"text-align: right;\">\n",
       "      <th></th>\n",
       "      <th>idx</th>\n",
       "      <th>DATE</th>\n",
       "      <th>KT_RESULT</th>\n",
       "      <th>shift_DATE</th>\n",
       "      <th>days_btw_last_kt</th>\n",
       "      <th>shift1</th>\n",
       "      <th>shift2</th>\n",
       "      <th>shift3</th>\n",
       "      <th>shift4</th>\n",
       "      <th>shift5</th>\n",
       "      <th>shift6</th>\n",
       "      <th>shift7</th>\n",
       "      <th>KT_number</th>\n",
       "    </tr>\n",
       "  </thead>\n",
       "  <tbody>\n",
       "    <tr>\n",
       "      <th>5199</th>\n",
       "      <td>24062</td>\n",
       "      <td>2020-06-17</td>\n",
       "      <td>0</td>\n",
       "      <td>2020-05-31</td>\n",
       "      <td>17.0</td>\n",
       "      <td>True</td>\n",
       "      <td>True</td>\n",
       "      <td>True</td>\n",
       "      <td>True</td>\n",
       "      <td>True</td>\n",
       "      <td>True</td>\n",
       "      <td>False</td>\n",
       "      <td>6</td>\n",
       "    </tr>\n",
       "    <tr>\n",
       "      <th>41440</th>\n",
       "      <td>158709</td>\n",
       "      <td>2020-06-27</td>\n",
       "      <td>1</td>\n",
       "      <td>2020-06-07</td>\n",
       "      <td>20.0</td>\n",
       "      <td>True</td>\n",
       "      <td>True</td>\n",
       "      <td>True</td>\n",
       "      <td>True</td>\n",
       "      <td>True</td>\n",
       "      <td>True</td>\n",
       "      <td>False</td>\n",
       "      <td>6</td>\n",
       "    </tr>\n",
       "  </tbody>\n",
       "</table>\n",
       "</div>"
      ],
      "text/plain": [
       "          idx        DATE  KT_RESULT  shift_DATE  days_btw_last_kt  shift1  \\\n",
       "5199    24062  2020-06-17          0  2020-05-31              17.0    True   \n",
       "41440  158709  2020-06-27          1  2020-06-07              20.0    True   \n",
       "\n",
       "       shift2  shift3  shift4  shift5  shift6  shift7  KT_number  \n",
       "5199     True    True    True    True    True   False          6  \n",
       "41440    True    True    True    True    True   False          6  "
      ]
     },
     "execution_count": 393,
     "metadata": {},
     "output_type": "execute_result"
    }
   ],
   "source": [
    "shift_train[shift_train['KT_number'] > 5]"
   ]
  },
  {
   "cell_type": "code",
   "execution_count": 394,
   "metadata": {},
   "outputs": [
    {
     "data": {
      "text/html": [
       "<div>\n",
       "<style scoped>\n",
       "    .dataframe tbody tr th:only-of-type {\n",
       "        vertical-align: middle;\n",
       "    }\n",
       "\n",
       "    .dataframe tbody tr th {\n",
       "        vertical-align: top;\n",
       "    }\n",
       "\n",
       "    .dataframe thead th {\n",
       "        text-align: right;\n",
       "    }\n",
       "</style>\n",
       "<table border=\"1\" class=\"dataframe\">\n",
       "  <thead>\n",
       "    <tr style=\"text-align: right;\">\n",
       "      <th></th>\n",
       "      <th>idx</th>\n",
       "      <th>DATE</th>\n",
       "      <th>KT_RESULT</th>\n",
       "      <th>shift_DATE</th>\n",
       "      <th>days_btw_last_kt</th>\n",
       "      <th>shift1</th>\n",
       "      <th>shift2</th>\n",
       "      <th>shift3</th>\n",
       "      <th>shift4</th>\n",
       "      <th>shift5</th>\n",
       "      <th>shift6</th>\n",
       "      <th>shift7</th>\n",
       "      <th>KT_number</th>\n",
       "    </tr>\n",
       "  </thead>\n",
       "  <tbody>\n",
       "    <tr>\n",
       "      <th>7747</th>\n",
       "      <td>121260</td>\n",
       "      <td>2020-06-27</td>\n",
       "      <td>NaN</td>\n",
       "      <td>2020-06-23</td>\n",
       "      <td>4.0</td>\n",
       "      <td>True</td>\n",
       "      <td>True</td>\n",
       "      <td>True</td>\n",
       "      <td>True</td>\n",
       "      <td>True</td>\n",
       "      <td>True</td>\n",
       "      <td>False</td>\n",
       "      <td>6</td>\n",
       "    </tr>\n",
       "  </tbody>\n",
       "</table>\n",
       "</div>"
      ],
      "text/plain": [
       "         idx        DATE  KT_RESULT  shift_DATE  days_btw_last_kt  shift1  \\\n",
       "7747  121260  2020-06-27        NaN  2020-06-23               4.0    True   \n",
       "\n",
       "      shift2  shift3  shift4  shift5  shift6  shift7  KT_number  \n",
       "7747    True    True    True    True    True   False          6  "
      ]
     },
     "execution_count": 394,
     "metadata": {},
     "output_type": "execute_result"
    }
   ],
   "source": [
    "shift_test[shift_test['KT_number'] > 5]"
   ]
  },
  {
   "cell_type": "code",
   "execution_count": 395,
   "metadata": {},
   "outputs": [],
   "source": [
    "# объединение результатов с data"
   ]
  },
  {
   "cell_type": "code",
   "execution_count": 396,
   "metadata": {},
   "outputs": [],
   "source": [
    "data_train = pd.merge(data_train, shift_train[['idx', 'DATE', 'days_btw_last_kt', 'KT_number']],\n",
    "                      on=['idx', 'DATE'], how='left')\n",
    "\n",
    "data_test = pd.merge(data_test, shift_test[['idx', 'DATE', 'days_btw_last_kt', 'KT_number']],\n",
    "                     on=['idx', 'DATE'], how='left')"
   ]
  },
  {
   "cell_type": "markdown",
   "metadata": {
    "tags": []
   },
   "source": [
    "### Добавление признака будущих КТ"
   ]
  },
  {
   "cell_type": "code",
   "execution_count": 397,
   "metadata": {},
   "outputs": [],
   "source": [
    "data_train = data_train.sort_values(['idx', 'DATE']).reset_index(drop=True)\n",
    "data_test = data_test.sort_values(['idx', 'DATE']).reset_index(drop=True)"
   ]
  },
  {
   "cell_type": "code",
   "execution_count": 398,
   "metadata": {},
   "outputs": [],
   "source": [
    "# последний КТ"
   ]
  },
  {
   "cell_type": "code",
   "execution_count": 399,
   "metadata": {},
   "outputs": [],
   "source": [
    "shift_train = data_train[~data_train[['idx', 'DATE']].duplicated()][['idx', 'DATE']].copy()\n",
    "shift_test = data_test[~data_test[['idx', 'DATE']].duplicated()][['idx', 'DATE']].copy()"
   ]
  },
  {
   "cell_type": "code",
   "execution_count": 400,
   "metadata": {},
   "outputs": [],
   "source": [
    "shift_train['shift_DATE'] = shift_train.groupby(['idx']).DATE.shift(-1)\n",
    "shift_train['days_btw_next_kt'] = (pd.to_datetime(shift_train.shift_DATE) \n",
    "                                   - pd.to_datetime(shift_train.DATE)).apply(lambda x: x.days).fillna(0)\n",
    "\n",
    "shift_test['shift_DATE'] = shift_test.groupby(['idx']).DATE.shift(-1)\n",
    "shift_test['days_btw_next_kt'] = (pd.to_datetime(shift_test.shift_DATE) \n",
    "                                  - pd.to_datetime(shift_test.DATE)).apply(lambda x: x.days).fillna(0)"
   ]
  },
  {
   "cell_type": "code",
   "execution_count": 401,
   "metadata": {},
   "outputs": [
    {
     "data": {
      "text/html": [
       "<div>\n",
       "<style scoped>\n",
       "    .dataframe tbody tr th:only-of-type {\n",
       "        vertical-align: middle;\n",
       "    }\n",
       "\n",
       "    .dataframe tbody tr th {\n",
       "        vertical-align: top;\n",
       "    }\n",
       "\n",
       "    .dataframe thead th {\n",
       "        text-align: right;\n",
       "    }\n",
       "</style>\n",
       "<table border=\"1\" class=\"dataframe\">\n",
       "  <thead>\n",
       "    <tr style=\"text-align: right;\">\n",
       "      <th></th>\n",
       "      <th>idx</th>\n",
       "      <th>DATE</th>\n",
       "      <th>shift_DATE</th>\n",
       "      <th>days_btw_next_kt</th>\n",
       "    </tr>\n",
       "  </thead>\n",
       "  <tbody>\n",
       "    <tr>\n",
       "      <th>6</th>\n",
       "      <td>60</td>\n",
       "      <td>2020-05-16</td>\n",
       "      <td>2020-05-17</td>\n",
       "      <td>1.0</td>\n",
       "    </tr>\n",
       "    <tr>\n",
       "      <th>13</th>\n",
       "      <td>92</td>\n",
       "      <td>2020-05-17</td>\n",
       "      <td>2020-06-29</td>\n",
       "      <td>43.0</td>\n",
       "    </tr>\n",
       "    <tr>\n",
       "      <th>21</th>\n",
       "      <td>157</td>\n",
       "      <td>2020-05-05</td>\n",
       "      <td>2020-05-16</td>\n",
       "      <td>11.0</td>\n",
       "    </tr>\n",
       "    <tr>\n",
       "      <th>26</th>\n",
       "      <td>173</td>\n",
       "      <td>2020-05-07</td>\n",
       "      <td>2020-05-17</td>\n",
       "      <td>10.0</td>\n",
       "    </tr>\n",
       "    <tr>\n",
       "      <th>28</th>\n",
       "      <td>177</td>\n",
       "      <td>2020-05-17</td>\n",
       "      <td>2020-06-06</td>\n",
       "      <td>20.0</td>\n",
       "    </tr>\n",
       "    <tr>\n",
       "      <th>...</th>\n",
       "      <td>...</td>\n",
       "      <td>...</td>\n",
       "      <td>...</td>\n",
       "      <td>...</td>\n",
       "    </tr>\n",
       "    <tr>\n",
       "      <th>131685</th>\n",
       "      <td>1277418</td>\n",
       "      <td>2020-06-29</td>\n",
       "      <td>2020-07-04</td>\n",
       "      <td>5.0</td>\n",
       "    </tr>\n",
       "    <tr>\n",
       "      <th>131719</th>\n",
       "      <td>1280015</td>\n",
       "      <td>2020-04-26</td>\n",
       "      <td>2020-05-07</td>\n",
       "      <td>11.0</td>\n",
       "    </tr>\n",
       "    <tr>\n",
       "      <th>131754</th>\n",
       "      <td>1283676</td>\n",
       "      <td>2020-07-02</td>\n",
       "      <td>2020-07-11</td>\n",
       "      <td>9.0</td>\n",
       "    </tr>\n",
       "    <tr>\n",
       "      <th>131815</th>\n",
       "      <td>1290593</td>\n",
       "      <td>2020-06-14</td>\n",
       "      <td>2020-07-07</td>\n",
       "      <td>23.0</td>\n",
       "    </tr>\n",
       "    <tr>\n",
       "      <th>131872</th>\n",
       "      <td>1292653</td>\n",
       "      <td>2020-07-03</td>\n",
       "      <td>2020-07-08</td>\n",
       "      <td>5.0</td>\n",
       "    </tr>\n",
       "  </tbody>\n",
       "</table>\n",
       "<p>20899 rows × 4 columns</p>\n",
       "</div>"
      ],
      "text/plain": [
       "            idx        DATE  shift_DATE  days_btw_next_kt\n",
       "6            60  2020-05-16  2020-05-17               1.0\n",
       "13           92  2020-05-17  2020-06-29              43.0\n",
       "21          157  2020-05-05  2020-05-16              11.0\n",
       "26          173  2020-05-07  2020-05-17              10.0\n",
       "28          177  2020-05-17  2020-06-06              20.0\n",
       "...         ...         ...         ...               ...\n",
       "131685  1277418  2020-06-29  2020-07-04               5.0\n",
       "131719  1280015  2020-04-26  2020-05-07              11.0\n",
       "131754  1283676  2020-07-02  2020-07-11               9.0\n",
       "131815  1290593  2020-06-14  2020-07-07              23.0\n",
       "131872  1292653  2020-07-03  2020-07-08               5.0\n",
       "\n",
       "[20899 rows x 4 columns]"
      ]
     },
     "execution_count": 401,
     "metadata": {},
     "output_type": "execute_result"
    }
   ],
   "source": [
    "shift_train[shift_train.shift_DATE.notnull()]"
   ]
  },
  {
   "cell_type": "code",
   "execution_count": 402,
   "metadata": {},
   "outputs": [
    {
     "data": {
      "text/plain": [
       "count    33037.000000\n",
       "mean         3.225384\n",
       "std          9.480197\n",
       "min          0.000000\n",
       "25%          0.000000\n",
       "50%          0.000000\n",
       "75%          0.000000\n",
       "max         81.000000\n",
       "Name: days_btw_next_kt, dtype: float64"
      ]
     },
     "execution_count": 402,
     "metadata": {},
     "output_type": "execute_result"
    }
   ],
   "source": [
    "shift_test.days_btw_next_kt.describe()"
   ]
  },
  {
   "cell_type": "code",
   "execution_count": 403,
   "metadata": {},
   "outputs": [],
   "source": [
    "# количество КТ"
   ]
  },
  {
   "cell_type": "code",
   "execution_count": 404,
   "metadata": {},
   "outputs": [
    {
     "name": "stdout",
     "output_type": "stream",
     "text": [
      "7\n"
     ]
    }
   ],
   "source": [
    "# максимальное количество КТ на человека\n",
    "print(max(shift_train.groupby(['idx']).DATE.nunique().max(), shift_test.groupby(['idx']).DATE.nunique().max()))"
   ]
  },
  {
   "cell_type": "code",
   "execution_count": 405,
   "metadata": {},
   "outputs": [],
   "source": [
    "# делаем шифт до 7, послее считаем ненулевые"
   ]
  },
  {
   "cell_type": "code",
   "execution_count": 406,
   "metadata": {},
   "outputs": [],
   "source": [
    "for i in range(1, 8):\n",
    "    shift_train['shift{}'.format(-i)] = shift_train.groupby(['idx']).DATE.shift(-i).notnull()\n",
    "    \n",
    "shift_train['next_KT_number'] = shift_train[shift_train.columns[5:]].apply(lambda x: x.sum(), axis=1)\n",
    "\n",
    "for i in range(1, 8):\n",
    "    shift_test['shift{}'.format(-i)] = shift_test.groupby(['idx']).DATE.shift(-i).notnull()\n",
    "    \n",
    "shift_test['next_KT_number'] = shift_test[shift_test.columns[5:]].apply(lambda x: x.sum(), axis=1)"
   ]
  },
  {
   "cell_type": "code",
   "execution_count": 407,
   "metadata": {},
   "outputs": [
    {
     "data": {
      "text/html": [
       "<div>\n",
       "<style scoped>\n",
       "    .dataframe tbody tr th:only-of-type {\n",
       "        vertical-align: middle;\n",
       "    }\n",
       "\n",
       "    .dataframe tbody tr th {\n",
       "        vertical-align: top;\n",
       "    }\n",
       "\n",
       "    .dataframe thead th {\n",
       "        text-align: right;\n",
       "    }\n",
       "</style>\n",
       "<table border=\"1\" class=\"dataframe\">\n",
       "  <thead>\n",
       "    <tr style=\"text-align: right;\">\n",
       "      <th></th>\n",
       "      <th>idx</th>\n",
       "      <th>DATE</th>\n",
       "      <th>shift_DATE</th>\n",
       "      <th>days_btw_next_kt</th>\n",
       "      <th>shift-1</th>\n",
       "      <th>shift-2</th>\n",
       "      <th>shift-3</th>\n",
       "      <th>shift-4</th>\n",
       "      <th>shift-5</th>\n",
       "      <th>shift-6</th>\n",
       "      <th>shift-7</th>\n",
       "      <th>next_KT_number</th>\n",
       "    </tr>\n",
       "  </thead>\n",
       "  <tbody>\n",
       "    <tr>\n",
       "      <th>5193</th>\n",
       "      <td>24062</td>\n",
       "      <td>2020-04-28</td>\n",
       "      <td>2020-05-07</td>\n",
       "      <td>9.0</td>\n",
       "      <td>True</td>\n",
       "      <td>True</td>\n",
       "      <td>True</td>\n",
       "      <td>True</td>\n",
       "      <td>True</td>\n",
       "      <td>True</td>\n",
       "      <td>False</td>\n",
       "      <td>5</td>\n",
       "    </tr>\n",
       "    <tr>\n",
       "      <th>41434</th>\n",
       "      <td>158709</td>\n",
       "      <td>2020-04-25</td>\n",
       "      <td>2020-05-02</td>\n",
       "      <td>7.0</td>\n",
       "      <td>True</td>\n",
       "      <td>True</td>\n",
       "      <td>True</td>\n",
       "      <td>True</td>\n",
       "      <td>True</td>\n",
       "      <td>True</td>\n",
       "      <td>False</td>\n",
       "      <td>5</td>\n",
       "    </tr>\n",
       "  </tbody>\n",
       "</table>\n",
       "</div>"
      ],
      "text/plain": [
       "          idx        DATE  shift_DATE  days_btw_next_kt  shift-1  shift-2  \\\n",
       "5193    24062  2020-04-28  2020-05-07               9.0     True     True   \n",
       "41434  158709  2020-04-25  2020-05-02               7.0     True     True   \n",
       "\n",
       "       shift-3  shift-4  shift-5  shift-6  shift-7  next_KT_number  \n",
       "5193      True     True     True     True    False               5  \n",
       "41434     True     True     True     True    False               5  "
      ]
     },
     "execution_count": 407,
     "metadata": {},
     "output_type": "execute_result"
    }
   ],
   "source": [
    "shift_train[shift_train['next_KT_number'] > 4]"
   ]
  },
  {
   "cell_type": "code",
   "execution_count": 408,
   "metadata": {},
   "outputs": [
    {
     "data": {
      "text/html": [
       "<div>\n",
       "<style scoped>\n",
       "    .dataframe tbody tr th:only-of-type {\n",
       "        vertical-align: middle;\n",
       "    }\n",
       "\n",
       "    .dataframe tbody tr th {\n",
       "        vertical-align: top;\n",
       "    }\n",
       "\n",
       "    .dataframe thead th {\n",
       "        text-align: right;\n",
       "    }\n",
       "</style>\n",
       "<table border=\"1\" class=\"dataframe\">\n",
       "  <thead>\n",
       "    <tr style=\"text-align: right;\">\n",
       "      <th></th>\n",
       "      <th>idx</th>\n",
       "      <th>DATE</th>\n",
       "      <th>shift_DATE</th>\n",
       "      <th>days_btw_next_kt</th>\n",
       "      <th>shift-1</th>\n",
       "      <th>shift-2</th>\n",
       "      <th>shift-3</th>\n",
       "      <th>shift-4</th>\n",
       "      <th>shift-5</th>\n",
       "      <th>shift-6</th>\n",
       "      <th>shift-7</th>\n",
       "      <th>next_KT_number</th>\n",
       "    </tr>\n",
       "  </thead>\n",
       "  <tbody>\n",
       "    <tr>\n",
       "      <th>7741</th>\n",
       "      <td>121260</td>\n",
       "      <td>2020-05-07</td>\n",
       "      <td>2020-05-08</td>\n",
       "      <td>1.0</td>\n",
       "      <td>True</td>\n",
       "      <td>True</td>\n",
       "      <td>True</td>\n",
       "      <td>True</td>\n",
       "      <td>True</td>\n",
       "      <td>True</td>\n",
       "      <td>False</td>\n",
       "      <td>5</td>\n",
       "    </tr>\n",
       "  </tbody>\n",
       "</table>\n",
       "</div>"
      ],
      "text/plain": [
       "         idx        DATE  shift_DATE  days_btw_next_kt  shift-1  shift-2  \\\n",
       "7741  121260  2020-05-07  2020-05-08               1.0     True     True   \n",
       "\n",
       "      shift-3  shift-4  shift-5  shift-6  shift-7  next_KT_number  \n",
       "7741     True     True     True     True    False               5  "
      ]
     },
     "execution_count": 408,
     "metadata": {},
     "output_type": "execute_result"
    }
   ],
   "source": [
    "shift_test[shift_test['next_KT_number'] > 4]"
   ]
  },
  {
   "cell_type": "code",
   "execution_count": 409,
   "metadata": {},
   "outputs": [],
   "source": [
    "# объединение результатов с data"
   ]
  },
  {
   "cell_type": "code",
   "execution_count": 410,
   "metadata": {},
   "outputs": [],
   "source": [
    "data_train = pd.merge(data_train, shift_train[['idx', 'DATE', 'days_btw_next_kt', 'next_KT_number']],\n",
    "                      on=['idx', 'DATE'], how='left')\n",
    "\n",
    "data_test = pd.merge(data_test, shift_test[['idx', 'DATE', 'days_btw_next_kt', 'next_KT_number']],\n",
    "                     on=['idx', 'DATE'], how='left')"
   ]
  },
  {
   "cell_type": "code",
   "execution_count": 411,
   "metadata": {},
   "outputs": [
    {
     "data": {
      "text/html": [
       "<div>\n",
       "<style scoped>\n",
       "    .dataframe tbody tr th:only-of-type {\n",
       "        vertical-align: middle;\n",
       "    }\n",
       "\n",
       "    .dataframe tbody tr th {\n",
       "        vertical-align: top;\n",
       "    }\n",
       "\n",
       "    .dataframe thead th {\n",
       "        text-align: right;\n",
       "    }\n",
       "</style>\n",
       "<table border=\"1\" class=\"dataframe\">\n",
       "  <thead>\n",
       "    <tr style=\"text-align: right;\">\n",
       "      <th></th>\n",
       "      <th>idx</th>\n",
       "      <th>DATE</th>\n",
       "      <th>KT_RESULT</th>\n",
       "      <th>days_btw_last_kt</th>\n",
       "      <th>KT_number</th>\n",
       "      <th>days_btw_next_kt</th>\n",
       "      <th>next_KT_number</th>\n",
       "    </tr>\n",
       "  </thead>\n",
       "  <tbody>\n",
       "    <tr>\n",
       "      <th>0</th>\n",
       "      <td>6</td>\n",
       "      <td>2020-05-16</td>\n",
       "      <td>0</td>\n",
       "      <td>0.0</td>\n",
       "      <td>0</td>\n",
       "      <td>0.0</td>\n",
       "      <td>0</td>\n",
       "    </tr>\n",
       "    <tr>\n",
       "      <th>1</th>\n",
       "      <td>11</td>\n",
       "      <td>2020-05-16</td>\n",
       "      <td>0</td>\n",
       "      <td>0.0</td>\n",
       "      <td>0</td>\n",
       "      <td>0.0</td>\n",
       "      <td>0</td>\n",
       "    </tr>\n",
       "    <tr>\n",
       "      <th>2</th>\n",
       "      <td>21</td>\n",
       "      <td>2020-05-16</td>\n",
       "      <td>0</td>\n",
       "      <td>0.0</td>\n",
       "      <td>0</td>\n",
       "      <td>0.0</td>\n",
       "      <td>0</td>\n",
       "    </tr>\n",
       "    <tr>\n",
       "      <th>3</th>\n",
       "      <td>28</td>\n",
       "      <td>2020-05-16</td>\n",
       "      <td>0</td>\n",
       "      <td>0.0</td>\n",
       "      <td>0</td>\n",
       "      <td>0.0</td>\n",
       "      <td>0</td>\n",
       "    </tr>\n",
       "    <tr>\n",
       "      <th>4</th>\n",
       "      <td>51</td>\n",
       "      <td>2020-05-16</td>\n",
       "      <td>0</td>\n",
       "      <td>0.0</td>\n",
       "      <td>0</td>\n",
       "      <td>0.0</td>\n",
       "      <td>0</td>\n",
       "    </tr>\n",
       "    <tr>\n",
       "      <th>...</th>\n",
       "      <td>...</td>\n",
       "      <td>...</td>\n",
       "      <td>...</td>\n",
       "      <td>...</td>\n",
       "      <td>...</td>\n",
       "      <td>...</td>\n",
       "      <td>...</td>\n",
       "    </tr>\n",
       "    <tr>\n",
       "      <th>131984</th>\n",
       "      <td>1297419</td>\n",
       "      <td>2020-07-01</td>\n",
       "      <td>1</td>\n",
       "      <td>0.0</td>\n",
       "      <td>0</td>\n",
       "      <td>0.0</td>\n",
       "      <td>0</td>\n",
       "    </tr>\n",
       "    <tr>\n",
       "      <th>131985</th>\n",
       "      <td>1297453</td>\n",
       "      <td>2020-07-02</td>\n",
       "      <td>2</td>\n",
       "      <td>0.0</td>\n",
       "      <td>0</td>\n",
       "      <td>0.0</td>\n",
       "      <td>0</td>\n",
       "    </tr>\n",
       "    <tr>\n",
       "      <th>131986</th>\n",
       "      <td>1297466</td>\n",
       "      <td>2020-07-05</td>\n",
       "      <td>1</td>\n",
       "      <td>0.0</td>\n",
       "      <td>0</td>\n",
       "      <td>0.0</td>\n",
       "      <td>0</td>\n",
       "    </tr>\n",
       "    <tr>\n",
       "      <th>131987</th>\n",
       "      <td>1297498</td>\n",
       "      <td>2020-07-02</td>\n",
       "      <td>0</td>\n",
       "      <td>0.0</td>\n",
       "      <td>0</td>\n",
       "      <td>0.0</td>\n",
       "      <td>0</td>\n",
       "    </tr>\n",
       "    <tr>\n",
       "      <th>131988</th>\n",
       "      <td>1297531</td>\n",
       "      <td>2020-04-30</td>\n",
       "      <td>0</td>\n",
       "      <td>0.0</td>\n",
       "      <td>0</td>\n",
       "      <td>0.0</td>\n",
       "      <td>0</td>\n",
       "    </tr>\n",
       "  </tbody>\n",
       "</table>\n",
       "<p>131989 rows × 7 columns</p>\n",
       "</div>"
      ],
      "text/plain": [
       "            idx        DATE  KT_RESULT  days_btw_last_kt  KT_number  \\\n",
       "0             6  2020-05-16          0               0.0          0   \n",
       "1            11  2020-05-16          0               0.0          0   \n",
       "2            21  2020-05-16          0               0.0          0   \n",
       "3            28  2020-05-16          0               0.0          0   \n",
       "4            51  2020-05-16          0               0.0          0   \n",
       "...         ...         ...        ...               ...        ...   \n",
       "131984  1297419  2020-07-01          1               0.0          0   \n",
       "131985  1297453  2020-07-02          2               0.0          0   \n",
       "131986  1297466  2020-07-05          1               0.0          0   \n",
       "131987  1297498  2020-07-02          0               0.0          0   \n",
       "131988  1297531  2020-04-30          0               0.0          0   \n",
       "\n",
       "        days_btw_next_kt  next_KT_number  \n",
       "0                    0.0               0  \n",
       "1                    0.0               0  \n",
       "2                    0.0               0  \n",
       "3                    0.0               0  \n",
       "4                    0.0               0  \n",
       "...                  ...             ...  \n",
       "131984               0.0               0  \n",
       "131985               0.0               0  \n",
       "131986               0.0               0  \n",
       "131987               0.0               0  \n",
       "131988               0.0               0  \n",
       "\n",
       "[131989 rows x 7 columns]"
      ]
     },
     "execution_count": 411,
     "metadata": {},
     "output_type": "execute_result"
    }
   ],
   "source": [
    "data_train"
   ]
  },
  {
   "cell_type": "markdown",
   "metadata": {
    "tags": []
   },
   "source": [
    "### Количество КТ в этот день"
   ]
  },
  {
   "cell_type": "code",
   "execution_count": 412,
   "metadata": {},
   "outputs": [],
   "source": [
    "in_shift_train = data_train.groupby(['idx', 'DATE']).KT_number.count().sort_values().reset_index() \\\n",
    "                           .rename(columns={'KT_number': 'in_KT_number'})\n",
    "in_shift_test = data_test.groupby(['idx', 'DATE']).KT_number.count().sort_values().reset_index() \\\n",
    "                         .rename(columns={'KT_number': 'in_KT_number'})"
   ]
  },
  {
   "cell_type": "code",
   "execution_count": 413,
   "metadata": {},
   "outputs": [],
   "source": [
    "data_train = pd.merge(data_train, in_shift_train,\n",
    "                      on=['idx', 'DATE'], how='left')\n",
    "\n",
    "data_test = pd.merge(data_test, in_shift_test,\n",
    "                     on=['idx', 'DATE'], how='left')"
   ]
  },
  {
   "cell_type": "code",
   "execution_count": 414,
   "metadata": {},
   "outputs": [
    {
     "name": "stdout",
     "output_type": "stream",
     "text": [
      "(131989, 8)\n",
      "(33080, 8)\n"
     ]
    }
   ],
   "source": [
    "print(data_train.shape)\n",
    "print(data_test.shape)"
   ]
  },
  {
   "cell_type": "markdown",
   "metadata": {
    "jp-MarkdownHeadingCollapsed": true,
    "tags": []
   },
   "source": [
    "## Работа с death"
   ]
  },
  {
   "cell_type": "code",
   "execution_count": 415,
   "metadata": {},
   "outputs": [
    {
     "data": {
      "text/html": [
       "<div>\n",
       "<style scoped>\n",
       "    .dataframe tbody tr th:only-of-type {\n",
       "        vertical-align: middle;\n",
       "    }\n",
       "\n",
       "    .dataframe tbody tr th {\n",
       "        vertical-align: top;\n",
       "    }\n",
       "\n",
       "    .dataframe thead th {\n",
       "        text-align: right;\n",
       "    }\n",
       "</style>\n",
       "<table border=\"1\" class=\"dataframe\">\n",
       "  <thead>\n",
       "    <tr style=\"text-align: right;\">\n",
       "      <th></th>\n",
       "      <th>idx</th>\n",
       "      <th>DEATH_DATE</th>\n",
       "      <th>DATE</th>\n",
       "    </tr>\n",
       "  </thead>\n",
       "  <tbody>\n",
       "    <tr>\n",
       "      <th>0</th>\n",
       "      <td>566901</td>\n",
       "      <td>2020-04-22</td>\n",
       "      <td>2020-04-18</td>\n",
       "    </tr>\n",
       "  </tbody>\n",
       "</table>\n",
       "</div>"
      ],
      "text/plain": [
       "      idx  DEATH_DATE        DATE\n",
       "0  566901  2020-04-22  2020-04-18"
      ]
     },
     "execution_count": 415,
     "metadata": {},
     "output_type": "execute_result"
    }
   ],
   "source": [
    "# 3. Файл с датами смерти\n",
    "# IDX - анонимизированный идентификатор пациента. по нему файлы связаны между собой.\n",
    "# DATE - Дата смерти\n",
    "death = pd.read_csv('data/data_for_science_death_2020-07-27.csv', sep=';')\n",
    "\n",
    "death = death[death.idx.isin(pd.concat([data_train[['idx', 'DATE']], \n",
    "                                        data_test[['idx', 'DATE']]]).idx.unique())].reset_index(drop=True)\n",
    "\n",
    "death = pd.merge(death, \n",
    "                 pd.concat([data_train[['idx', 'DATE']], data_test[['idx', 'DATE']]]), \n",
    "                 on='idx', how='left')\n",
    "\n",
    "death.head(1)"
   ]
  },
  {
   "cell_type": "code",
   "execution_count": 416,
   "metadata": {},
   "outputs": [],
   "source": [
    "# days b4 death\n",
    "death['days_b4_death'] = (pd.to_datetime(death.DEATH_DATE) - pd.to_datetime(death.DATE)).apply(lambda x: x.days)"
   ]
  },
  {
   "cell_type": "code",
   "execution_count": 417,
   "metadata": {},
   "outputs": [],
   "source": [
    "# fact of death\n",
    "death['is_death'] = 1"
   ]
  },
  {
   "cell_type": "code",
   "execution_count": 418,
   "metadata": {},
   "outputs": [
    {
     "data": {
      "text/plain": [
       "count    1775.000000\n",
       "mean       18.102535\n",
       "std        13.764269\n",
       "min         0.000000\n",
       "25%         9.000000\n",
       "50%        14.000000\n",
       "75%        23.000000\n",
       "max        84.000000\n",
       "Name: days_b4_death, dtype: float64"
      ]
     },
     "execution_count": 418,
     "metadata": {},
     "output_type": "execute_result"
    }
   ],
   "source": [
    "death.days_b4_death.describe()"
   ]
  },
  {
   "cell_type": "code",
   "execution_count": 419,
   "metadata": {},
   "outputs": [],
   "source": [
    "data_train = pd.merge(data_train, death[['idx', 'DATE', 'days_b4_death', 'is_death']],\n",
    "                      on=['idx', 'DATE'], how='left').drop_duplicates()\n",
    "data_train['is_death'] = data_train['is_death'].fillna(0)\n",
    "\n",
    "data_test = pd.merge(data_test, death[['idx', 'DATE', 'days_b4_death', 'is_death']],\n",
    "                     on=['idx', 'DATE'], how='left')\n",
    "data_test['is_death'] = data_test['is_death'].fillna(0)"
   ]
  },
  {
   "cell_type": "code",
   "execution_count": 420,
   "metadata": {},
   "outputs": [
    {
     "name": "stdout",
     "output_type": "stream",
     "text": [
      "(131989, 10)\n",
      "(33080, 10)\n"
     ]
    }
   ],
   "source": [
    "print(data_train.shape)\n",
    "print(data_test.shape)"
   ]
  },
  {
   "cell_type": "markdown",
   "metadata": {
    "tags": []
   },
   "source": [
    "## Работа с lis\n",
    "\n",
    "Для начала сколько и каких анализов делалось до КТ"
   ]
  },
  {
   "cell_type": "code",
   "execution_count": 421,
   "metadata": {},
   "outputs": [
    {
     "data": {
      "text/html": [
       "<div>\n",
       "<style scoped>\n",
       "    .dataframe tbody tr th:only-of-type {\n",
       "        vertical-align: middle;\n",
       "    }\n",
       "\n",
       "    .dataframe tbody tr th {\n",
       "        vertical-align: top;\n",
       "    }\n",
       "\n",
       "    .dataframe thead th {\n",
       "        text-align: right;\n",
       "    }\n",
       "</style>\n",
       "<table border=\"1\" class=\"dataframe\">\n",
       "  <thead>\n",
       "    <tr style=\"text-align: right;\">\n",
       "      <th></th>\n",
       "      <th>idx</th>\n",
       "      <th>ISSL_NAME</th>\n",
       "      <th>TEST_NAME</th>\n",
       "      <th>TEST_VAL</th>\n",
       "      <th>TEST_TIME</th>\n",
       "    </tr>\n",
       "  </thead>\n",
       "  <tbody>\n",
       "    <tr>\n",
       "      <th>0</th>\n",
       "      <td>97068</td>\n",
       "      <td>Клинический анализ крови</td>\n",
       "      <td>Абсолютное количество моноцитов</td>\n",
       "      <td>0_10^9/л</td>\n",
       "      <td>2020-04-20 00:10:54</td>\n",
       "    </tr>\n",
       "  </tbody>\n",
       "</table>\n",
       "</div>"
      ],
      "text/plain": [
       "     idx                 ISSL_NAME                        TEST_NAME  TEST_VAL  \\\n",
       "0  97068  Клинический анализ крови  Абсолютное количество моноцитов  0_10^9/л   \n",
       "\n",
       "             TEST_TIME  \n",
       "0  2020-04-20 00:10:54  "
      ]
     },
     "execution_count": 421,
     "metadata": {},
     "output_type": "execute_result"
    }
   ],
   "source": [
    "# 4. Файл с результатами лабораторных исследований\n",
    "# idx - анонимизированный идентификатор пациента. по нему файлы связаны между собой.\n",
    "# ISSL_NAME - Наименование исследования (в одном исследовании может быть несколько тестов)\n",
    "# TEST_NAME - Наименование теста (показателя)\n",
    "# TEST_VAL - Результат теста (в формате текста для качественных результатов \n",
    "# или в виде ЗНАЧЕНИЕ[_]ЕДИНИЦА ИЗМЕРЕНИЯ для количественных результатов)\n",
    "# TEST_TIME - Дата результата\n",
    "lis = pd.read_csv('data/data_for_science_LIs_2020-07-27.csv', sep=';')\n",
    "\n",
    "lis = lis[lis.idx.isin(pd.concat([data_train[['idx', 'DATE']], \n",
    "                                  data_test[['idx', 'DATE']]]).idx.unique())].reset_index(drop=True)\n",
    "\n",
    "lis.head(1)"
   ]
  },
  {
   "cell_type": "code",
   "execution_count": 422,
   "metadata": {},
   "outputs": [
    {
     "data": {
      "text/plain": [
       "35"
      ]
     },
     "execution_count": 422,
     "metadata": {},
     "output_type": "execute_result"
    }
   ],
   "source": [
    "lis.ISSL_NAME.nunique()"
   ]
  },
  {
   "cell_type": "code",
   "execution_count": 423,
   "metadata": {},
   "outputs": [
    {
     "data": {
      "text/plain": [
       "278"
      ]
     },
     "execution_count": 423,
     "metadata": {},
     "output_type": "execute_result"
    }
   ],
   "source": [
    "lis.TEST_NAME.nunique()"
   ]
  },
  {
   "cell_type": "code",
   "execution_count": 424,
   "metadata": {},
   "outputs": [
    {
     "data": {
      "text/plain": [
       "54242"
      ]
     },
     "execution_count": 424,
     "metadata": {},
     "output_type": "execute_result"
    }
   ],
   "source": [
    "lis.TEST_VAL.nunique()"
   ]
  },
  {
   "cell_type": "code",
   "execution_count": 425,
   "metadata": {},
   "outputs": [
    {
     "data": {
      "text/plain": [
       "694"
      ]
     },
     "execution_count": 425,
     "metadata": {},
     "output_type": "execute_result"
    }
   ],
   "source": [
    "lis.groupby(['ISSL_NAME']).TEST_NAME.nunique().reset_index().TEST_NAME.sum()"
   ]
  },
  {
   "cell_type": "code",
   "execution_count": 426,
   "metadata": {},
   "outputs": [],
   "source": [
    "test_name_unique = lis.TEST_NAME.unique()"
   ]
  },
  {
   "cell_type": "code",
   "execution_count": 427,
   "metadata": {},
   "outputs": [
    {
     "data": {
      "text/plain": [
       "278"
      ]
     },
     "execution_count": 427,
     "metadata": {},
     "output_type": "execute_result"
    }
   ],
   "source": [
    "len(test_name_unique)"
   ]
  },
  {
   "cell_type": "code",
   "execution_count": 428,
   "metadata": {},
   "outputs": [],
   "source": [
    "def dice_coefficient(a, b):\n",
    "    a_bigrams = set(a)\n",
    "    b_bigrams = set(b)\n",
    "    overlap = len(a_bigrams & b_bigrams)\n",
    "    return overlap * 2.0/(len(a_bigrams) + len(b_bigrams))\n",
    "\n",
    "dupl_dict = {}\n",
    "\n",
    "for i in range(len(test_name_unique)):\n",
    "    for j in range(len(test_name_unique)):\n",
    "        \n",
    "        if i != j:\n",
    "            \n",
    "            if dice_coefficient(test_name_unique[i], test_name_unique[j]) > 0.99 \\\n",
    "            and test_name_unique[j] not in dupl_dict:\n",
    "                \n",
    "                dupl_dict[test_name_unique[i]] = test_name_unique[j]"
   ]
  },
  {
   "cell_type": "code",
   "execution_count": 429,
   "metadata": {},
   "outputs": [
    {
     "data": {
      "text/plain": [
       "{'Среднее содержание гемоглобина в эритроците (MCH)': 'Среднее содержание  гемоглобина в эритроците (MCH)',\n",
       " 'Абсолютное количество нейтрофилов': 'Абсолютное  количество нейтрофилов',\n",
       " 'Эритроциты неизмененные': 'Эритроциты измененные',\n",
       " 'Кристалы Шарко-Лейдена': 'Кристаллы Шарко-Лейдена',\n",
       " 'Кристаллы трипельфосфаты': 'Кристаллы трипельфосфата',\n",
       " 'Растительная клетчатка перевариваемая': 'Растительная неперевариваемая клечатка'}"
      ]
     },
     "execution_count": 429,
     "metadata": {},
     "output_type": "execute_result"
    }
   ],
   "source": [
    "dupl_dict"
   ]
  },
  {
   "cell_type": "code",
   "execution_count": 430,
   "metadata": {},
   "outputs": [],
   "source": [
    "dupl_dict_TEST_NAME = {'Среднее содержание  гемоглобина в эритроците (MCH)': 'Среднее содержание гемоглобина в эритроците (MCH)',\n",
    "                       'Абсолютное  количество нейтрофилов': 'Абсолютное количество нейтрофилов',\n",
    "                       'Кристаллы трипельфосфаты': 'Кристаллы трипельфосфата',\n",
    "                       'Кристалы Шарко-Лейдена': 'Кристаллы Шарко-Лейдена'}"
   ]
  },
  {
   "cell_type": "code",
   "execution_count": 431,
   "metadata": {},
   "outputs": [],
   "source": [
    "lis = lis.replace({'TEST_NAME': dupl_dict_TEST_NAME})"
   ]
  },
  {
   "cell_type": "code",
   "execution_count": 432,
   "metadata": {
    "tags": []
   },
   "outputs": [],
   "source": [
    "lis['name'] = lis.apply(lambda x: x[1] + ' ' + x[2], axis=1)\n",
    "# lis = lis.drop(['ISSL_NAME', 'TEST_NAME'], axis=1)"
   ]
  },
  {
   "cell_type": "code",
   "execution_count": 433,
   "metadata": {},
   "outputs": [
    {
     "data": {
      "text/plain": [
       "(2459914, 6)"
      ]
     },
     "execution_count": 433,
     "metadata": {},
     "output_type": "execute_result"
    }
   ],
   "source": [
    "lis.shape"
   ]
  },
  {
   "cell_type": "code",
   "execution_count": 434,
   "metadata": {},
   "outputs": [],
   "source": [
    "lis = pd.merge(lis, \n",
    "               pd.concat([data_train[['idx', 'DATE']], data_test[['idx', 'DATE']]]), \n",
    "               on='idx', how='left')"
   ]
  },
  {
   "cell_type": "code",
   "execution_count": 435,
   "metadata": {},
   "outputs": [],
   "source": [
    "lis.TEST_TIME = pd.to_datetime(lis.TEST_TIME, utc=True)\n",
    "lis.TEST_TIME = pd.to_datetime(lis.TEST_TIME.apply(lambda x: x.date))\n",
    "\n",
    "lis.DATE = pd.to_datetime(lis.DATE)"
   ]
  },
  {
   "cell_type": "markdown",
   "metadata": {},
   "source": [
    "### all time lis"
   ]
  },
  {
   "cell_type": "code",
   "execution_count": 436,
   "metadata": {
    "tags": []
   },
   "outputs": [
    {
     "name": "stdout",
     "output_type": "stream",
     "text": [
      "ISSL_NAME columns number: 35\n"
     ]
    }
   ],
   "source": [
    "t = lis.groupby(['idx', 'DATE', 'ISSL_NAME']).TEST_VAL.count().reset_index()\n",
    "print('ISSL_NAME columns number:', t.ISSL_NAME.nunique())\n",
    "\n",
    "# t_name = lis.groupby(['idx', 'DATE', 'name']).TEST_VAL.count().reset_index()\n",
    "# print('name columns number:', t_name.name.nunique())\n",
    "\n",
    "lis_res = pd.get_dummies(t.ISSL_NAME)\n",
    "lis_res.values[lis_res != 0] = t.TEST_VAL\n",
    "\n",
    "lis_res_rename_dict = {}\n",
    "for i, col in enumerate(lis_res.columns):\n",
    "    lis_res_rename_dict[col] = 'all_lis_feature_{}'.format(i)\n",
    "lis_res = lis_res.rename(columns=lis_res_rename_dict)\n",
    "    \n",
    "# lis_res[['all_lis_feature_{}'.format(i+j) for j in range(1, t_name.name.nunique()+1)]] = pd.get_dummies(t_name.name)\n",
    "    \n",
    "lis_res['idx'] = t['idx']\n",
    "lis_res['DATE'] = t['DATE']\n",
    "\n",
    "lis_res = lis_res.groupby(['idx', 'DATE']).sum().reset_index()\n",
    "\n",
    "del t"
   ]
  },
  {
   "cell_type": "code",
   "execution_count": 437,
   "metadata": {},
   "outputs": [],
   "source": [
    "data_train['DATE'] = pd.to_datetime(data_train['DATE'])\n",
    "data_test['DATE'] = pd.to_datetime(data_test['DATE'])"
   ]
  },
  {
   "cell_type": "code",
   "execution_count": 438,
   "metadata": {},
   "outputs": [],
   "source": [
    "data_train = pd.merge(data_train, lis_res, on=['idx', 'DATE'], how='left')\n",
    "# data_train[lis_res.columns] = data_train[lis_res.columns].fillna(0)\n",
    "\n",
    "data_test = pd.merge(data_test, lis_res, on=['idx', 'DATE'], how='left')\n",
    "# data_test[lis_res.columns] = data_test[lis_res.columns].fillna(0)"
   ]
  },
  {
   "cell_type": "code",
   "execution_count": 439,
   "metadata": {},
   "outputs": [
    {
     "name": "stdout",
     "output_type": "stream",
     "text": [
      "(131989, 45)\n",
      "(33080, 45)\n"
     ]
    }
   ],
   "source": [
    "print(data_train.shape)\n",
    "print(data_test.shape)"
   ]
  },
  {
   "cell_type": "markdown",
   "metadata": {
    "jp-MarkdownHeadingCollapsed": true,
    "tags": []
   },
   "source": [
    "### До КТ"
   ]
  },
  {
   "cell_type": "code",
   "execution_count": null,
   "metadata": {},
   "outputs": [],
   "source": [
    "lis_before = lis[(lis.DATE.notnull())&(lis.TEST_TIME < lis.DATE)].reset_index(drop=True).copy()"
   ]
  },
  {
   "cell_type": "code",
   "execution_count": null,
   "metadata": {},
   "outputs": [],
   "source": [
    "lis_before.groupby(['idx', 'DATE', 'name']).TEST_VAL.count().reset_index()"
   ]
  },
  {
   "cell_type": "code",
   "execution_count": null,
   "metadata": {
    "tags": []
   },
   "outputs": [],
   "source": [
    "t = lis_before.groupby(['idx', 'DATE', 'ISSL_NAME']).TEST_VAL.count().reset_index()\n",
    "print('ISSL_NAME columns number:', t.ISSL_NAME.nunique())\n",
    "\n",
    "t_name = lis_before.groupby(['idx', 'DATE', 'name']).TEST_VAL.count().reset_index()\n",
    "print('name columns number:', t_name.name.nunique())\n",
    "\n",
    "lis_res = pd.get_dummies(t.ISSL_NAME)\n",
    "lis_res.values[lis_res != 0] = t.TEST_VAL\n",
    "\n",
    "lis_res_rename_dict = {}\n",
    "for i, col in enumerate(lis_res.columns):\n",
    "    lis_res_rename_dict[col] = 'lis_feature_{}'.format(i)\n",
    "lis_res = lis_res.rename(columns=lis_res_rename_dict)\n",
    "    \n",
    "lis_res[['lis_feature_{}'.format(i+j) for j in range(1, t_name.name.nunique()+1)]] = pd.get_dummies(t_name.name)\n",
    "    \n",
    "lis_res['idx'] = t['idx']\n",
    "lis_res['DATE'] = t['DATE']\n",
    "\n",
    "lis_res = lis_res.groupby(['idx', 'DATE']).sum().reset_index()\n",
    "\n",
    "del t"
   ]
  },
  {
   "cell_type": "code",
   "execution_count": null,
   "metadata": {},
   "outputs": [],
   "source": [
    "data_train['DATE'] = pd.to_datetime(data_train['DATE'])\n",
    "data_test['DATE'] = pd.to_datetime(data_test['DATE'])"
   ]
  },
  {
   "cell_type": "code",
   "execution_count": null,
   "metadata": {},
   "outputs": [],
   "source": [
    "data_train = pd.merge(data_train, lis_res, on=['idx', 'DATE'], how='left')\n",
    "# data_train[lis_res.columns] = data_train[lis_res.columns].fillna(0)\n",
    "\n",
    "data_test = pd.merge(data_test, lis_res, on=['idx', 'DATE'], how='left')\n",
    "# data_test[lis_res.columns] = data_test[lis_res.columns].fillna(0)"
   ]
  },
  {
   "cell_type": "code",
   "execution_count": null,
   "metadata": {},
   "outputs": [],
   "source": [
    "print(data_train.shape)\n",
    "print(data_test.shape)"
   ]
  },
  {
   "cell_type": "markdown",
   "metadata": {
    "jp-MarkdownHeadingCollapsed": true,
    "tags": []
   },
   "source": [
    "### После КТ"
   ]
  },
  {
   "cell_type": "code",
   "execution_count": 273,
   "metadata": {},
   "outputs": [],
   "source": [
    "lis_after = lis[(lis.DATE.notnull())&(lis.TEST_TIME > lis.DATE)].reset_index(drop=True).copy()"
   ]
  },
  {
   "cell_type": "code",
   "execution_count": 274,
   "metadata": {},
   "outputs": [
    {
     "data": {
      "text/html": [
       "<div>\n",
       "<style scoped>\n",
       "    .dataframe tbody tr th:only-of-type {\n",
       "        vertical-align: middle;\n",
       "    }\n",
       "\n",
       "    .dataframe tbody tr th {\n",
       "        vertical-align: top;\n",
       "    }\n",
       "\n",
       "    .dataframe thead th {\n",
       "        text-align: right;\n",
       "    }\n",
       "</style>\n",
       "<table border=\"1\" class=\"dataframe\">\n",
       "  <thead>\n",
       "    <tr style=\"text-align: right;\">\n",
       "      <th></th>\n",
       "      <th>idx</th>\n",
       "      <th>DATE</th>\n",
       "      <th>name</th>\n",
       "      <th>TEST_VAL</th>\n",
       "    </tr>\n",
       "  </thead>\n",
       "  <tbody>\n",
       "    <tr>\n",
       "      <th>0</th>\n",
       "      <td>6</td>\n",
       "      <td>2020-05-16</td>\n",
       "      <td>Общий клинический анализ крови (общий анализ +...</td>\n",
       "      <td>1</td>\n",
       "    </tr>\n",
       "    <tr>\n",
       "      <th>1</th>\n",
       "      <td>6</td>\n",
       "      <td>2020-05-16</td>\n",
       "      <td>Общий клинический анализ крови (общий анализ +...</td>\n",
       "      <td>1</td>\n",
       "    </tr>\n",
       "    <tr>\n",
       "      <th>2</th>\n",
       "      <td>6</td>\n",
       "      <td>2020-05-16</td>\n",
       "      <td>Общий клинический анализ крови (общий анализ +...</td>\n",
       "      <td>1</td>\n",
       "    </tr>\n",
       "    <tr>\n",
       "      <th>3</th>\n",
       "      <td>6</td>\n",
       "      <td>2020-05-16</td>\n",
       "      <td>Определение белков острой фазы С-реактивный бе...</td>\n",
       "      <td>1</td>\n",
       "    </tr>\n",
       "    <tr>\n",
       "      <th>4</th>\n",
       "      <td>11</td>\n",
       "      <td>2020-05-16</td>\n",
       "      <td>Общий клинический анализ крови (общий анализ +...</td>\n",
       "      <td>1</td>\n",
       "    </tr>\n",
       "    <tr>\n",
       "      <th>...</th>\n",
       "      <td>...</td>\n",
       "      <td>...</td>\n",
       "      <td>...</td>\n",
       "      <td>...</td>\n",
       "    </tr>\n",
       "    <tr>\n",
       "      <th>1593982</th>\n",
       "      <td>1297421</td>\n",
       "      <td>2020-07-01</td>\n",
       "      <td>Общий клинический анализ крови (общий анализ +...</td>\n",
       "      <td>1</td>\n",
       "    </tr>\n",
       "    <tr>\n",
       "      <th>1593983</th>\n",
       "      <td>1297421</td>\n",
       "      <td>2020-07-01</td>\n",
       "      <td>Общий клинический анализ крови (общий анализ +...</td>\n",
       "      <td>1</td>\n",
       "    </tr>\n",
       "    <tr>\n",
       "      <th>1593984</th>\n",
       "      <td>1297421</td>\n",
       "      <td>2020-07-01</td>\n",
       "      <td>Общий клинический анализ крови (общий анализ +...</td>\n",
       "      <td>1</td>\n",
       "    </tr>\n",
       "    <tr>\n",
       "      <th>1593985</th>\n",
       "      <td>1297421</td>\n",
       "      <td>2020-07-01</td>\n",
       "      <td>Определение белков острой фазы С-реактивный бе...</td>\n",
       "      <td>2</td>\n",
       "    </tr>\n",
       "    <tr>\n",
       "      <th>1593986</th>\n",
       "      <td>1297466</td>\n",
       "      <td>2020-07-05</td>\n",
       "      <td>Определение белков острой фазы С-реактивный бе...</td>\n",
       "      <td>1</td>\n",
       "    </tr>\n",
       "  </tbody>\n",
       "</table>\n",
       "<p>1593987 rows × 4 columns</p>\n",
       "</div>"
      ],
      "text/plain": [
       "             idx       DATE  \\\n",
       "0              6 2020-05-16   \n",
       "1              6 2020-05-16   \n",
       "2              6 2020-05-16   \n",
       "3              6 2020-05-16   \n",
       "4             11 2020-05-16   \n",
       "...          ...        ...   \n",
       "1593982  1297421 2020-07-01   \n",
       "1593983  1297421 2020-07-01   \n",
       "1593984  1297421 2020-07-01   \n",
       "1593985  1297421 2020-07-01   \n",
       "1593986  1297466 2020-07-05   \n",
       "\n",
       "                                                      name  TEST_VAL  \n",
       "0        Общий клинический анализ крови (общий анализ +...         1  \n",
       "1        Общий клинический анализ крови (общий анализ +...         1  \n",
       "2        Общий клинический анализ крови (общий анализ +...         1  \n",
       "3        Определение белков острой фазы С-реактивный бе...         1  \n",
       "4        Общий клинический анализ крови (общий анализ +...         1  \n",
       "...                                                    ...       ...  \n",
       "1593982  Общий клинический анализ крови (общий анализ +...         1  \n",
       "1593983  Общий клинический анализ крови (общий анализ +...         1  \n",
       "1593984  Общий клинический анализ крови (общий анализ +...         1  \n",
       "1593985  Определение белков острой фазы С-реактивный бе...         2  \n",
       "1593986  Определение белков острой фазы С-реактивный бе...         1  \n",
       "\n",
       "[1593987 rows x 4 columns]"
      ]
     },
     "execution_count": 274,
     "metadata": {},
     "output_type": "execute_result"
    }
   ],
   "source": [
    "lis_after.groupby(['idx', 'DATE', 'name']).TEST_VAL.count().reset_index()"
   ]
  },
  {
   "cell_type": "code",
   "execution_count": 275,
   "metadata": {},
   "outputs": [
    {
     "name": "stdout",
     "output_type": "stream",
     "text": [
      "ISSL_NAME columns number: 34\n",
      "ISSL_NAME columns number: 682\n"
     ]
    },
    {
     "name": "stderr",
     "output_type": "stream",
     "text": [
      "/Users/hare/opt/anaconda3/envs/champ/lib/python3.9/site-packages/pandas/core/frame.py:3636: PerformanceWarning: DataFrame is highly fragmented.  This is usually the result of calling `frame.insert` many times, which has poor performance.  Consider using pd.concat instead.  To get a de-fragmented frame, use `newframe = frame.copy()`\n",
      "  self[k1] = value[k2]\n",
      "/var/folders/8n/c9njytgn0g778_3wm9c937c80000gn/T/ipykernel_20658/3165506243.py:17: PerformanceWarning: DataFrame is highly fragmented.  This is usually the result of calling `frame.insert` many times, which has poor performance.  Consider using pd.concat instead.  To get a de-fragmented frame, use `newframe = frame.copy()`\n",
      "  lis_res['idx'] = t['idx']\n",
      "/var/folders/8n/c9njytgn0g778_3wm9c937c80000gn/T/ipykernel_20658/3165506243.py:18: PerformanceWarning: DataFrame is highly fragmented.  This is usually the result of calling `frame.insert` many times, which has poor performance.  Consider using pd.concat instead.  To get a de-fragmented frame, use `newframe = frame.copy()`\n",
      "  lis_res['DATE'] = t['DATE']\n"
     ]
    }
   ],
   "source": [
    "t = lis_after.groupby(['idx', 'DATE', 'ISSL_NAME']).TEST_VAL.count().reset_index()\n",
    "print('ISSL_NAME columns number:', t.ISSL_NAME.nunique())\n",
    "\n",
    "t_name = lis_after.groupby(['idx', 'DATE', 'name']).TEST_VAL.count().reset_index()\n",
    "print('ISSL_NAME columns number:', t_name.name.nunique())\n",
    "\n",
    "lis_res = pd.get_dummies(t.ISSL_NAME)\n",
    "lis_res.values[lis_res != 0] = t.TEST_VAL\n",
    "\n",
    "lis_res_rename_dict = {}\n",
    "for i, col in enumerate(lis_res.columns):\n",
    "    lis_res_rename_dict[col] = 'lis_feature_after_{}'.format(i)\n",
    "lis_res = lis_res.rename(columns=lis_res_rename_dict)\n",
    "    \n",
    "lis_res[['lis_feature_after_{}'.format(i+j) for j in range(1, t_name.name.nunique()+1)]] = pd.get_dummies(t_name.name)\n",
    "    \n",
    "lis_res['idx'] = t['idx']\n",
    "lis_res['DATE'] = t['DATE']\n",
    "\n",
    "lis_res = lis_res.groupby(['idx', 'DATE']).sum().reset_index()\n",
    "\n",
    "del t"
   ]
  },
  {
   "cell_type": "code",
   "execution_count": 276,
   "metadata": {},
   "outputs": [],
   "source": [
    "data_train = pd.merge(data_train, lis_res, on=['idx', 'DATE'], how='left')\n",
    "# data_train[lis_res.columns] = data_train[lis_res.columns].fillna(0)\n",
    "\n",
    "data_test = pd.merge(data_test, lis_res, on=['idx', 'DATE'], how='left')\n",
    "# data_test[lis_res.columns] = data_test[lis_res.columns].fillna(0)"
   ]
  },
  {
   "cell_type": "code",
   "execution_count": 277,
   "metadata": {},
   "outputs": [
    {
     "name": "stdout",
     "output_type": "stream",
     "text": [
      "(131989, 3463)\n",
      "(33080, 3463)\n"
     ]
    }
   ],
   "source": [
    "print(data_train.shape)\n",
    "print(data_test.shape)"
   ]
  },
  {
   "cell_type": "markdown",
   "metadata": {
    "jp-MarkdownHeadingCollapsed": true,
    "tags": []
   },
   "source": [
    "### В день КТ"
   ]
  },
  {
   "cell_type": "code",
   "execution_count": 278,
   "metadata": {},
   "outputs": [],
   "source": [
    "lis_in = lis[(lis.DATE.notnull())&(lis.TEST_TIME == lis.DATE)].reset_index(drop=True).copy()"
   ]
  },
  {
   "cell_type": "code",
   "execution_count": 279,
   "metadata": {},
   "outputs": [
    {
     "data": {
      "text/html": [
       "<div>\n",
       "<style scoped>\n",
       "    .dataframe tbody tr th:only-of-type {\n",
       "        vertical-align: middle;\n",
       "    }\n",
       "\n",
       "    .dataframe tbody tr th {\n",
       "        vertical-align: top;\n",
       "    }\n",
       "\n",
       "    .dataframe thead th {\n",
       "        text-align: right;\n",
       "    }\n",
       "</style>\n",
       "<table border=\"1\" class=\"dataframe\">\n",
       "  <thead>\n",
       "    <tr style=\"text-align: right;\">\n",
       "      <th></th>\n",
       "      <th>idx</th>\n",
       "      <th>DATE</th>\n",
       "      <th>name</th>\n",
       "      <th>TEST_VAL</th>\n",
       "    </tr>\n",
       "  </thead>\n",
       "  <tbody>\n",
       "    <tr>\n",
       "      <th>0</th>\n",
       "      <td>60</td>\n",
       "      <td>2020-05-17</td>\n",
       "      <td>Общий клинический анализ крови (общий анализ +...</td>\n",
       "      <td>1</td>\n",
       "    </tr>\n",
       "    <tr>\n",
       "      <th>1</th>\n",
       "      <td>60</td>\n",
       "      <td>2020-05-17</td>\n",
       "      <td>Общий клинический анализ крови (общий анализ +...</td>\n",
       "      <td>1</td>\n",
       "    </tr>\n",
       "    <tr>\n",
       "      <th>2</th>\n",
       "      <td>60</td>\n",
       "      <td>2020-05-17</td>\n",
       "      <td>Общий клинический анализ крови (общий анализ +...</td>\n",
       "      <td>1</td>\n",
       "    </tr>\n",
       "    <tr>\n",
       "      <th>3</th>\n",
       "      <td>60</td>\n",
       "      <td>2020-05-17</td>\n",
       "      <td>Определение белков острой фазы С-реактивный бе...</td>\n",
       "      <td>1</td>\n",
       "    </tr>\n",
       "    <tr>\n",
       "      <th>4</th>\n",
       "      <td>94</td>\n",
       "      <td>2020-05-18</td>\n",
       "      <td>Общий клинический анализ крови (общий анализ +...</td>\n",
       "      <td>1</td>\n",
       "    </tr>\n",
       "    <tr>\n",
       "      <th>...</th>\n",
       "      <td>...</td>\n",
       "      <td>...</td>\n",
       "      <td>...</td>\n",
       "      <td>...</td>\n",
       "    </tr>\n",
       "    <tr>\n",
       "      <th>845948</th>\n",
       "      <td>1297345</td>\n",
       "      <td>2020-07-03</td>\n",
       "      <td>Общий клинический анализ крови (общий анализ +...</td>\n",
       "      <td>1</td>\n",
       "    </tr>\n",
       "    <tr>\n",
       "      <th>845949</th>\n",
       "      <td>1297345</td>\n",
       "      <td>2020-07-03</td>\n",
       "      <td>Общий клинический анализ крови (общий анализ +...</td>\n",
       "      <td>1</td>\n",
       "    </tr>\n",
       "    <tr>\n",
       "      <th>845950</th>\n",
       "      <td>1297345</td>\n",
       "      <td>2020-07-03</td>\n",
       "      <td>Общий клинический анализ крови (общий анализ +...</td>\n",
       "      <td>1</td>\n",
       "    </tr>\n",
       "    <tr>\n",
       "      <th>845951</th>\n",
       "      <td>1297345</td>\n",
       "      <td>2020-07-03</td>\n",
       "      <td>Общий клинический анализ крови (общий анализ +...</td>\n",
       "      <td>1</td>\n",
       "    </tr>\n",
       "    <tr>\n",
       "      <th>845952</th>\n",
       "      <td>1297345</td>\n",
       "      <td>2020-07-03</td>\n",
       "      <td>Общий клинический анализ крови (общий анализ +...</td>\n",
       "      <td>1</td>\n",
       "    </tr>\n",
       "  </tbody>\n",
       "</table>\n",
       "<p>845953 rows × 4 columns</p>\n",
       "</div>"
      ],
      "text/plain": [
       "            idx       DATE                                               name  \\\n",
       "0            60 2020-05-17  Общий клинический анализ крови (общий анализ +...   \n",
       "1            60 2020-05-17  Общий клинический анализ крови (общий анализ +...   \n",
       "2            60 2020-05-17  Общий клинический анализ крови (общий анализ +...   \n",
       "3            60 2020-05-17  Определение белков острой фазы С-реактивный бе...   \n",
       "4            94 2020-05-18  Общий клинический анализ крови (общий анализ +...   \n",
       "...         ...        ...                                                ...   \n",
       "845948  1297345 2020-07-03  Общий клинический анализ крови (общий анализ +...   \n",
       "845949  1297345 2020-07-03  Общий клинический анализ крови (общий анализ +...   \n",
       "845950  1297345 2020-07-03  Общий клинический анализ крови (общий анализ +...   \n",
       "845951  1297345 2020-07-03  Общий клинический анализ крови (общий анализ +...   \n",
       "845952  1297345 2020-07-03  Общий клинический анализ крови (общий анализ +...   \n",
       "\n",
       "        TEST_VAL  \n",
       "0              1  \n",
       "1              1  \n",
       "2              1  \n",
       "3              1  \n",
       "4              1  \n",
       "...          ...  \n",
       "845948         1  \n",
       "845949         1  \n",
       "845950         1  \n",
       "845951         1  \n",
       "845952         1  \n",
       "\n",
       "[845953 rows x 4 columns]"
      ]
     },
     "execution_count": 279,
     "metadata": {},
     "output_type": "execute_result"
    }
   ],
   "source": [
    "lis_in.groupby(['idx', 'DATE', 'name']).TEST_VAL.count().reset_index()"
   ]
  },
  {
   "cell_type": "code",
   "execution_count": 280,
   "metadata": {},
   "outputs": [
    {
     "name": "stdout",
     "output_type": "stream",
     "text": [
      "ISSL_NAME columns number: 24\n",
      "ISSL_NAME columns number: 431\n"
     ]
    },
    {
     "name": "stderr",
     "output_type": "stream",
     "text": [
      "/Users/hare/opt/anaconda3/envs/champ/lib/python3.9/site-packages/pandas/core/frame.py:3636: PerformanceWarning: DataFrame is highly fragmented.  This is usually the result of calling `frame.insert` many times, which has poor performance.  Consider using pd.concat instead.  To get a de-fragmented frame, use `newframe = frame.copy()`\n",
      "  self[k1] = value[k2]\n",
      "/var/folders/8n/c9njytgn0g778_3wm9c937c80000gn/T/ipykernel_20658/490919615.py:17: PerformanceWarning: DataFrame is highly fragmented.  This is usually the result of calling `frame.insert` many times, which has poor performance.  Consider using pd.concat instead.  To get a de-fragmented frame, use `newframe = frame.copy()`\n",
      "  lis_res['idx'] = t['idx']\n",
      "/var/folders/8n/c9njytgn0g778_3wm9c937c80000gn/T/ipykernel_20658/490919615.py:18: PerformanceWarning: DataFrame is highly fragmented.  This is usually the result of calling `frame.insert` many times, which has poor performance.  Consider using pd.concat instead.  To get a de-fragmented frame, use `newframe = frame.copy()`\n",
      "  lis_res['DATE'] = t['DATE']\n"
     ]
    }
   ],
   "source": [
    "t = lis_in.groupby(['idx', 'DATE', 'ISSL_NAME']).TEST_VAL.count().reset_index()\n",
    "print('ISSL_NAME columns number:', t.ISSL_NAME.nunique())\n",
    "\n",
    "t_name = lis_in.groupby(['idx', 'DATE', 'name']).TEST_VAL.count().reset_index()\n",
    "print('ISSL_NAME columns number:', t_name.name.nunique())\n",
    "\n",
    "lis_res = pd.get_dummies(t.ISSL_NAME)\n",
    "lis_res.values[lis_res != 0] = t.TEST_VAL\n",
    "\n",
    "lis_res_rename_dict = {}\n",
    "for i, col in enumerate(lis_res.columns):\n",
    "    lis_res_rename_dict[col] = 'lis_feature_in_{}'.format(i)\n",
    "lis_res = lis_res.rename(columns=lis_res_rename_dict)\n",
    "    \n",
    "lis_res[['lis_feature_in_{}'.format(i+j) for j in range(1, t_name.name.nunique()+1)]] = pd.get_dummies(t_name.name)\n",
    "    \n",
    "lis_res['idx'] = t['idx']\n",
    "lis_res['DATE'] = t['DATE']\n",
    "\n",
    "lis_res = lis_res.groupby(['idx', 'DATE']).sum().reset_index()\n",
    "\n",
    "del t"
   ]
  },
  {
   "cell_type": "code",
   "execution_count": 281,
   "metadata": {},
   "outputs": [],
   "source": [
    "data_train = pd.merge(data_train, lis_res, on=['idx', 'DATE'], how='left')\n",
    "# data_train[lis_res.columns] = data_train[lis_res.columns].fillna(0)\n",
    "\n",
    "data_test = pd.merge(data_test, lis_res, on=['idx', 'DATE'], how='left')\n",
    "# data_test[lis_res.columns] = data_test[lis_res.columns].fillna(0)"
   ]
  },
  {
   "cell_type": "code",
   "execution_count": 282,
   "metadata": {},
   "outputs": [
    {
     "name": "stdout",
     "output_type": "stream",
     "text": [
      "(131989, 3918)\n",
      "(33080, 3918)\n"
     ]
    }
   ],
   "source": [
    "print(data_train.shape)\n",
    "print(data_test.shape)"
   ]
  },
  {
   "cell_type": "markdown",
   "metadata": {
    "jp-MarkdownHeadingCollapsed": true,
    "tags": [],
    "toc-hr-collapsed": true
   },
   "source": [
    "## Работа с diagnoses"
   ]
  },
  {
   "cell_type": "code",
   "execution_count": 440,
   "metadata": {},
   "outputs": [
    {
     "data": {
      "text/html": [
       "<div>\n",
       "<style scoped>\n",
       "    .dataframe tbody tr th:only-of-type {\n",
       "        vertical-align: middle;\n",
       "    }\n",
       "\n",
       "    .dataframe tbody tr th {\n",
       "        vertical-align: top;\n",
       "    }\n",
       "\n",
       "    .dataframe thead th {\n",
       "        text-align: right;\n",
       "    }\n",
       "</style>\n",
       "<table border=\"1\" class=\"dataframe\">\n",
       "  <thead>\n",
       "    <tr style=\"text-align: right;\">\n",
       "      <th></th>\n",
       "      <th>idx</th>\n",
       "      <th>DATE</th>\n",
       "      <th>DIAGNOSIS</th>\n",
       "    </tr>\n",
       "  </thead>\n",
       "  <tbody>\n",
       "    <tr>\n",
       "      <th>0</th>\n",
       "      <td>870886</td>\n",
       "      <td>2019-04-20</td>\n",
       "      <td>J01.9</td>\n",
       "    </tr>\n",
       "  </tbody>\n",
       "</table>\n",
       "</div>"
      ],
      "text/plain": [
       "      idx        DATE DIAGNOSIS\n",
       "0  870886  2019-04-20     J01.9"
      ]
     },
     "execution_count": 440,
     "metadata": {},
     "output_type": "execute_result"
    }
   ],
   "source": [
    "# 6. Файл с диагнозами (не использовался)\n",
    "# IDX - анонимизированный идентификатор пациента. по нему файлы связаны между собой.\n",
    "# DATE - Дата диагноза\n",
    "# DIAGNOSIS - Код диагноза\n",
    "diagnoses = pd.read_csv('data/data_for_science_diagnoses_2020-07-27.csv', sep=';')\n",
    "diagnoses.head(1)"
   ]
  },
  {
   "cell_type": "code",
   "execution_count": 441,
   "metadata": {},
   "outputs": [],
   "source": [
    "diagnoses = pd.merge(diagnoses.rename(columns={'DATE': 'DIAG_DATE'}), \n",
    "                     pd.concat([data_train[['idx', 'DATE']], data_test[['idx', 'DATE']]]), \n",
    "                     on='idx', how='left')\n",
    "diagnoses = diagnoses[diagnoses.DATE.notnull()].reset_index(drop=True)\n",
    "\n",
    "diagnoses.DIAG_DATE = pd.to_datetime(diagnoses.DIAG_DATE)\n",
    "diagnoses.DATE = pd.to_datetime(diagnoses.DATE)"
   ]
  },
  {
   "cell_type": "markdown",
   "metadata": {},
   "source": [
    "### all diag"
   ]
  },
  {
   "cell_type": "code",
   "execution_count": 443,
   "metadata": {},
   "outputs": [
    {
     "data": {
      "text/plain": [
       "idx      DATE        DIAGNOSIS\n",
       "6        2020-05-16  J06.9        1\n",
       "11       2020-05-16  J06.9        1\n",
       "21       2020-05-16  J06.9        1\n",
       "                     J11.0        1\n",
       "28       2020-05-16  J06.9        1\n",
       "                                 ..\n",
       "1297498  2020-07-02  J11.0        1\n",
       "1297531  2020-04-30  J04.0        1\n",
       "                     J04.1        1\n",
       "                     J04.2        1\n",
       "                     J11.0        1\n",
       "Name: DIAG_DATE, Length: 466440, dtype: int64"
      ]
     },
     "execution_count": 443,
     "metadata": {},
     "output_type": "execute_result"
    }
   ],
   "source": [
    "diagnoses.groupby(['idx', 'DATE', 'DIAGNOSIS']).DIAG_DATE.count()"
   ]
  },
  {
   "cell_type": "code",
   "execution_count": 444,
   "metadata": {},
   "outputs": [],
   "source": [
    "diagnoses_temp = diagnoses.groupby(['idx', 'DATE', 'DIAGNOSIS']).DIAG_DATE.count().reset_index()"
   ]
  },
  {
   "cell_type": "code",
   "execution_count": 450,
   "metadata": {},
   "outputs": [],
   "source": [
    "diagnoses_res = pd.get_dummies(diagnoses_temp.DIAGNOSIS)\n",
    "diagnoses_res.values[diagnoses_res != 0] = diagnoses_temp.DIAG_DATE\n",
    "diagnoses_res[['idx', 'DATE']] = diagnoses_temp[['idx', 'DATE']]"
   ]
  },
  {
   "cell_type": "code",
   "execution_count": 451,
   "metadata": {},
   "outputs": [],
   "source": [
    "diagnoses_res = diagnoses_res.groupby(['idx', 'DATE']).sum().reset_index()"
   ]
  },
  {
   "cell_type": "code",
   "execution_count": 453,
   "metadata": {},
   "outputs": [
    {
     "data": {
      "text/plain": [
       "131989"
      ]
     },
     "execution_count": 453,
     "metadata": {},
     "output_type": "execute_result"
    }
   ],
   "source": [
    "data_train.shape[0]"
   ]
  },
  {
   "cell_type": "code",
   "execution_count": 454,
   "metadata": {},
   "outputs": [],
   "source": [
    "diagnoses_res.DATE = pd.to_datetime(diagnoses_res.DATE)\n",
    "data_train.DATE = pd.to_datetime(data_train.DATE)\n",
    "data_test.DATE = pd.to_datetime(data_test.DATE)"
   ]
  },
  {
   "cell_type": "code",
   "execution_count": 456,
   "metadata": {},
   "outputs": [],
   "source": [
    "data_train = pd.merge(data_train, diagnoses_res, on=['idx', 'DATE'], how='left')\n",
    "# data_train[diagnoses_res.columns[2:]] = data_train[diagnoses_res.columns[2:]].fillna(0)\n",
    "\n",
    "data_test = pd.merge(data_test, diagnoses_res, on=['idx', 'DATE'], how='left')\n",
    "# data_test[diagnoses_res.columns[2:]] = data_test[diagnoses_res.columns[2:]].fillna(0)"
   ]
  },
  {
   "cell_type": "code",
   "execution_count": 457,
   "metadata": {},
   "outputs": [
    {
     "name": "stdout",
     "output_type": "stream",
     "text": [
      "(131989, 338)\n",
      "(33080, 338)\n"
     ]
    }
   ],
   "source": [
    "print(data_train.shape)\n",
    "print(data_test.shape)"
   ]
  },
  {
   "cell_type": "markdown",
   "metadata": {},
   "source": [
    "### diag before KT"
   ]
  },
  {
   "cell_type": "code",
   "execution_count": 458,
   "metadata": {},
   "outputs": [],
   "source": [
    "diagnoses_before = diagnoses.copy()\n",
    "diagnoses_before['days_btw_diag_kt'] = (diagnoses_before.DATE - diagnoses_before.DIAG_DATE).apply(lambda x: x.days)\n",
    "diagnoses_before = diagnoses_before[diagnoses_before.days_btw_diag_kt > 0].reset_index(drop=True)"
   ]
  },
  {
   "cell_type": "code",
   "execution_count": 459,
   "metadata": {},
   "outputs": [
    {
     "data": {
      "text/plain": [
       "281"
      ]
     },
     "execution_count": 459,
     "metadata": {},
     "output_type": "execute_result"
    }
   ],
   "source": [
    "diagnoses_before.DIAGNOSIS.nunique()"
   ]
  },
  {
   "cell_type": "code",
   "execution_count": 460,
   "metadata": {},
   "outputs": [
    {
     "data": {
      "text/plain": [
       "(211892, 5)"
      ]
     },
     "execution_count": 460,
     "metadata": {},
     "output_type": "execute_result"
    }
   ],
   "source": [
    "diagnoses_before.shape"
   ]
  },
  {
   "cell_type": "code",
   "execution_count": 461,
   "metadata": {},
   "outputs": [
    {
     "data": {
      "text/plain": [
       "idx      DATE        DIAGNOSIS\n",
       "53       2020-05-05  J06.9         43\n",
       "                     J35.0         39\n",
       "85       2020-05-16  I25.1        172\n",
       "                     J42          226\n",
       "89       2020-05-17  J04.1         80\n",
       "                                 ... \n",
       "1297345  2020-07-03  J06.9          1\n",
       "1297357  2020-07-05  J06.9          3\n",
       "                     J11.0          2\n",
       "1297411  2020-07-01  J21.9         62\n",
       "1297531  2020-04-30  J04.2         77\n",
       "Name: days_btw_diag_kt, Length: 211848, dtype: int64"
      ]
     },
     "execution_count": 461,
     "metadata": {},
     "output_type": "execute_result"
    }
   ],
   "source": [
    "diagnoses_before.groupby(['idx', 'DATE', 'DIAGNOSIS']).days_btw_diag_kt.min()"
   ]
  },
  {
   "cell_type": "code",
   "execution_count": 462,
   "metadata": {},
   "outputs": [],
   "source": [
    "diagnoses_before = diagnoses_before.groupby(['idx', 'DATE', 'DIAGNOSIS']).days_btw_diag_kt.min().reset_index()\n",
    "# diagnoses_before_['diag_number'] = diagnoses_before.groupby(['idx', 'DATE', 'DIAGNOSIS']).days_btw_diag_kt.count().values\n",
    "# diagnoses_before = diagnoses_before_"
   ]
  },
  {
   "cell_type": "code",
   "execution_count": 463,
   "metadata": {},
   "outputs": [],
   "source": [
    "diagnoses_res = pd.get_dummies(diagnoses_before.DIAGNOSIS)\n",
    "diagnoses_res.values[diagnoses_res != 0] = diagnoses_before.days_btw_diag_kt\n",
    "diagnoses_res[['idx', 'DATE']] = diagnoses_before[['idx', 'DATE']]"
   ]
  },
  {
   "cell_type": "code",
   "execution_count": 464,
   "metadata": {},
   "outputs": [],
   "source": [
    "diagnoses_res = diagnoses_res.groupby(['idx', 'DATE']).sum().reset_index()"
   ]
  },
  {
   "cell_type": "code",
   "execution_count": 465,
   "metadata": {},
   "outputs": [
    {
     "data": {
      "text/plain": [
       "131989"
      ]
     },
     "execution_count": 465,
     "metadata": {},
     "output_type": "execute_result"
    }
   ],
   "source": [
    "data_train.shape[0]"
   ]
  },
  {
   "cell_type": "code",
   "execution_count": 466,
   "metadata": {},
   "outputs": [],
   "source": [
    "diagnoses_res.DATE = pd.to_datetime(diagnoses_res.DATE)\n",
    "data_train.DATE = pd.to_datetime(data_train.DATE)\n",
    "data_test.DATE = pd.to_datetime(data_test.DATE)"
   ]
  },
  {
   "cell_type": "code",
   "execution_count": 467,
   "metadata": {},
   "outputs": [],
   "source": [
    "data_train = pd.merge(data_train, diagnoses_res, on=['idx', 'DATE'], how='left')\n",
    "# data_train[diagnoses_res.columns[2:]] = data_train[diagnoses_res.columns[2:]].fillna(0)\n",
    "\n",
    "data_test = pd.merge(data_test, diagnoses_res, on=['idx', 'DATE'], how='left')\n",
    "# data_test[diagnoses_res.columns[2:]] = data_test[diagnoses_res.columns[2:]].fillna(0)"
   ]
  },
  {
   "cell_type": "code",
   "execution_count": 468,
   "metadata": {},
   "outputs": [
    {
     "name": "stdout",
     "output_type": "stream",
     "text": [
      "(131989, 619)\n",
      "(33080, 619)\n"
     ]
    }
   ],
   "source": [
    "print(data_train.shape)\n",
    "print(data_test.shape)"
   ]
  },
  {
   "cell_type": "markdown",
   "metadata": {},
   "source": [
    "### diag after KT"
   ]
  },
  {
   "cell_type": "code",
   "execution_count": 469,
   "metadata": {},
   "outputs": [],
   "source": [
    "diagnoses_after = diagnoses.copy()\n",
    "diagnoses_after['days_btw_diag_kt'] = (diagnoses_after.DIAG_DATE - diagnoses_after.DATE).apply(lambda x: x.days)\n",
    "diagnoses_after = diagnoses_after[diagnoses_after.days_btw_diag_kt > 0].reset_index(drop=True)"
   ]
  },
  {
   "cell_type": "code",
   "execution_count": 470,
   "metadata": {},
   "outputs": [
    {
     "data": {
      "text/plain": [
       "248"
      ]
     },
     "execution_count": 470,
     "metadata": {},
     "output_type": "execute_result"
    }
   ],
   "source": [
    "diagnoses_after.DIAGNOSIS.nunique()"
   ]
  },
  {
   "cell_type": "code",
   "execution_count": 471,
   "metadata": {},
   "outputs": [
    {
     "data": {
      "text/plain": [
       "(192665, 5)"
      ]
     },
     "execution_count": 471,
     "metadata": {},
     "output_type": "execute_result"
    }
   ],
   "source": [
    "diagnoses_after.shape"
   ]
  },
  {
   "cell_type": "code",
   "execution_count": 472,
   "metadata": {},
   "outputs": [],
   "source": [
    "diagnoses_after = diagnoses_after.groupby(['idx', 'DATE', 'DIAGNOSIS']).days_btw_diag_kt.min().reset_index()"
   ]
  },
  {
   "cell_type": "code",
   "execution_count": 473,
   "metadata": {},
   "outputs": [],
   "source": [
    "diagnoses_res = pd.get_dummies(diagnoses_after.DIAGNOSIS)\n",
    "diagnoses_res.columns = [x+'_after' for x in diagnoses_res.columns]\n",
    "diagnoses_res.values[diagnoses_res != 0] = diagnoses_after.days_btw_diag_kt\n",
    "diagnoses_res[['idx', 'DATE']] = diagnoses_after[['idx', 'DATE']]"
   ]
  },
  {
   "cell_type": "code",
   "execution_count": 474,
   "metadata": {},
   "outputs": [],
   "source": [
    "diagnoses_res = diagnoses_res.groupby(['idx', 'DATE']).sum().reset_index()"
   ]
  },
  {
   "cell_type": "code",
   "execution_count": 475,
   "metadata": {},
   "outputs": [
    {
     "data": {
      "text/plain": [
       "131989"
      ]
     },
     "execution_count": 475,
     "metadata": {},
     "output_type": "execute_result"
    }
   ],
   "source": [
    "data_train.shape[0]"
   ]
  },
  {
   "cell_type": "code",
   "execution_count": 476,
   "metadata": {},
   "outputs": [],
   "source": [
    "# diagnoses_res.DATE = diagnoses_res.DATE.astype(str)"
   ]
  },
  {
   "cell_type": "code",
   "execution_count": 477,
   "metadata": {},
   "outputs": [],
   "source": [
    "data_train = pd.merge(data_train, diagnoses_res, on=['idx', 'DATE'], how='left')\n",
    "# data_train[diagnoses_res.columns[2:]] = data_train[diagnoses_res.columns[2:]].fillna(0)\n",
    "\n",
    "data_test = pd.merge(data_test, diagnoses_res, on=['idx', 'DATE'], how='left')\n",
    "# data_test[diagnoses_res.columns[2:]] = data_test[diagnoses_res.columns[2:]].fillna(0)"
   ]
  },
  {
   "cell_type": "code",
   "execution_count": 478,
   "metadata": {},
   "outputs": [
    {
     "name": "stdout",
     "output_type": "stream",
     "text": [
      "(131989, 867)\n",
      "(33080, 867)\n"
     ]
    }
   ],
   "source": [
    "print(data_train.shape)\n",
    "print(data_test.shape)"
   ]
  },
  {
   "cell_type": "markdown",
   "metadata": {},
   "source": [
    "### diag in KT"
   ]
  },
  {
   "cell_type": "code",
   "execution_count": 479,
   "metadata": {},
   "outputs": [],
   "source": [
    "diagnoses_in = diagnoses.copy()\n",
    "diagnoses_in['days_btw_diag_kt'] = (diagnoses_in.DIAG_DATE - diagnoses_in.DATE).apply(lambda x: x.days)\n",
    "diagnoses_in = diagnoses_in[diagnoses_in.days_btw_diag_kt == 0].reset_index(drop=True)"
   ]
  },
  {
   "cell_type": "code",
   "execution_count": 480,
   "metadata": {},
   "outputs": [
    {
     "data": {
      "text/plain": [
       "171"
      ]
     },
     "execution_count": 480,
     "metadata": {},
     "output_type": "execute_result"
    }
   ],
   "source": [
    "diagnoses_in.DIAGNOSIS.nunique()"
   ]
  },
  {
   "cell_type": "code",
   "execution_count": 481,
   "metadata": {},
   "outputs": [
    {
     "data": {
      "text/plain": [
       "(62011, 5)"
      ]
     },
     "execution_count": 481,
     "metadata": {},
     "output_type": "execute_result"
    }
   ],
   "source": [
    "diagnoses_in.shape"
   ]
  },
  {
   "cell_type": "code",
   "execution_count": 482,
   "metadata": {},
   "outputs": [],
   "source": [
    "diagnoses_in = diagnoses_in.groupby(['idx', 'DATE', 'DIAGNOSIS']).days_btw_diag_kt.count().reset_index()"
   ]
  },
  {
   "cell_type": "code",
   "execution_count": 483,
   "metadata": {},
   "outputs": [],
   "source": [
    "diagnoses_res = pd.get_dummies(diagnoses_in.DIAGNOSIS)\n",
    "diagnoses_res.columns = [x+'_in' for x in diagnoses_res.columns]\n",
    "diagnoses_res.values[diagnoses_res != 0] = diagnoses_in.days_btw_diag_kt\n",
    "diagnoses_res[['idx', 'DATE']] = diagnoses_in[['idx', 'DATE']]"
   ]
  },
  {
   "cell_type": "code",
   "execution_count": 484,
   "metadata": {},
   "outputs": [],
   "source": [
    "diagnoses_res = diagnoses_res.groupby(['idx', 'DATE']).sum().reset_index()"
   ]
  },
  {
   "cell_type": "code",
   "execution_count": 485,
   "metadata": {},
   "outputs": [
    {
     "data": {
      "text/plain": [
       "131989"
      ]
     },
     "execution_count": 485,
     "metadata": {},
     "output_type": "execute_result"
    }
   ],
   "source": [
    "data_train.shape[0]"
   ]
  },
  {
   "cell_type": "code",
   "execution_count": 486,
   "metadata": {},
   "outputs": [],
   "source": [
    "# diagnoses_res.DATE = diagnoses_res.DATE.astype(str)"
   ]
  },
  {
   "cell_type": "code",
   "execution_count": 487,
   "metadata": {},
   "outputs": [],
   "source": [
    "data_train = pd.merge(data_train, diagnoses_res, on=['idx', 'DATE'], how='left')\n",
    "# data_train[diagnoses_res.columns[2:]] = data_train[diagnoses_res.columns[2:]].fillna(0)\n",
    "\n",
    "data_test = pd.merge(data_test, diagnoses_res, on=['idx', 'DATE'], how='left')\n",
    "# data_test[diagnoses_res.columns[2:]] = data_test[diagnoses_res.columns[2:]].fillna(0)"
   ]
  },
  {
   "cell_type": "code",
   "execution_count": 488,
   "metadata": {},
   "outputs": [
    {
     "name": "stdout",
     "output_type": "stream",
     "text": [
      "(131989, 1038)\n",
      "(33080, 1038)\n"
     ]
    }
   ],
   "source": [
    "print(data_train.shape)\n",
    "print(data_test.shape)"
   ]
  },
  {
   "cell_type": "markdown",
   "metadata": {},
   "source": [
    "### diag in week before/after KT"
   ]
  },
  {
   "cell_type": "code",
   "execution_count": 489,
   "metadata": {},
   "outputs": [],
   "source": [
    "diagnoses_week = diagnoses.copy()\n",
    "diagnoses_week['days_btw_diag_kt'] = np.abs((diagnoses_week.DIAG_DATE - diagnoses_week.DATE).apply(lambda x: x.days))\n",
    "diagnoses_week = diagnoses_week[diagnoses_week.days_btw_diag_kt <= 7].reset_index(drop=True)"
   ]
  },
  {
   "cell_type": "code",
   "execution_count": 490,
   "metadata": {},
   "outputs": [
    {
     "data": {
      "text/plain": [
       "223"
      ]
     },
     "execution_count": 490,
     "metadata": {},
     "output_type": "execute_result"
    }
   ],
   "source": [
    "diagnoses_week.DIAGNOSIS.nunique()"
   ]
  },
  {
   "cell_type": "code",
   "execution_count": 491,
   "metadata": {},
   "outputs": [
    {
     "data": {
      "text/plain": [
       "(170143, 5)"
      ]
     },
     "execution_count": 491,
     "metadata": {},
     "output_type": "execute_result"
    }
   ],
   "source": [
    "diagnoses_week.shape"
   ]
  },
  {
   "cell_type": "code",
   "execution_count": 492,
   "metadata": {},
   "outputs": [],
   "source": [
    "diagnoses_week = diagnoses_week.groupby(['idx', 'DATE', 'DIAGNOSIS']).days_btw_diag_kt.count().reset_index()"
   ]
  },
  {
   "cell_type": "code",
   "execution_count": 493,
   "metadata": {},
   "outputs": [],
   "source": [
    "diagnoses_res = pd.get_dummies(diagnoses_week.DIAGNOSIS)\n",
    "diagnoses_res.columns = [x+'_week' for x in diagnoses_res.columns]\n",
    "diagnoses_res.values[diagnoses_res != 0] = diagnoses_week.days_btw_diag_kt\n",
    "diagnoses_res[['idx', 'DATE']] = diagnoses_week[['idx', 'DATE']]"
   ]
  },
  {
   "cell_type": "code",
   "execution_count": 494,
   "metadata": {},
   "outputs": [],
   "source": [
    "diagnoses_res = diagnoses_res.groupby(['idx', 'DATE']).sum().reset_index()"
   ]
  },
  {
   "cell_type": "code",
   "execution_count": 495,
   "metadata": {},
   "outputs": [
    {
     "data": {
      "text/plain": [
       "131989"
      ]
     },
     "execution_count": 495,
     "metadata": {},
     "output_type": "execute_result"
    }
   ],
   "source": [
    "data_train.shape[0]"
   ]
  },
  {
   "cell_type": "code",
   "execution_count": 496,
   "metadata": {},
   "outputs": [],
   "source": [
    "# diagnoses_res.DATE = diagnoses_res.DATE.astype(str)"
   ]
  },
  {
   "cell_type": "code",
   "execution_count": 497,
   "metadata": {},
   "outputs": [],
   "source": [
    "data_train = pd.merge(data_train, diagnoses_res, on=['idx', 'DATE'], how='left')\n",
    "# data_train[diagnoses_res.columns[2:]] = data_train[diagnoses_res.columns[2:]].fillna(0)\n",
    "\n",
    "data_test = pd.merge(data_test, diagnoses_res, on=['idx', 'DATE'], how='left')\n",
    "# data_test[diagnoses_res.columns[2:]] = data_test[diagnoses_res.columns[2:]].fillna(0)"
   ]
  },
  {
   "cell_type": "code",
   "execution_count": 498,
   "metadata": {},
   "outputs": [
    {
     "name": "stdout",
     "output_type": "stream",
     "text": [
      "(131989, 1261)\n",
      "(33080, 1261)\n"
     ]
    }
   ],
   "source": [
    "print(data_train.shape)\n",
    "print(data_test.shape)"
   ]
  },
  {
   "cell_type": "markdown",
   "metadata": {},
   "source": [
    "### diag in month before/after KT"
   ]
  },
  {
   "cell_type": "code",
   "execution_count": 499,
   "metadata": {},
   "outputs": [],
   "source": [
    "diagnoses_month = diagnoses.copy()\n",
    "diagnoses_month['days_btw_diag_kt'] = np.abs((diagnoses_month.DIAG_DATE - diagnoses_month.DATE).apply(lambda x: x.days))\n",
    "diagnoses_month = diagnoses_month[diagnoses_month.days_btw_diag_kt <= 30].reset_index(drop=True)"
   ]
  },
  {
   "cell_type": "code",
   "execution_count": 500,
   "metadata": {},
   "outputs": [
    {
     "data": {
      "text/plain": [
       "254"
      ]
     },
     "execution_count": 500,
     "metadata": {},
     "output_type": "execute_result"
    }
   ],
   "source": [
    "diagnoses_month.DIAGNOSIS.nunique()"
   ]
  },
  {
   "cell_type": "code",
   "execution_count": 501,
   "metadata": {},
   "outputs": [
    {
     "data": {
      "text/plain": [
       "(314100, 5)"
      ]
     },
     "execution_count": 501,
     "metadata": {},
     "output_type": "execute_result"
    }
   ],
   "source": [
    "diagnoses_month.shape"
   ]
  },
  {
   "cell_type": "code",
   "execution_count": 502,
   "metadata": {},
   "outputs": [],
   "source": [
    "diagnoses_month = diagnoses_month.groupby(['idx', 'DATE', 'DIAGNOSIS']).days_btw_diag_kt.count().reset_index()"
   ]
  },
  {
   "cell_type": "code",
   "execution_count": 503,
   "metadata": {},
   "outputs": [],
   "source": [
    "diagnoses_res = pd.get_dummies(diagnoses_month.DIAGNOSIS)\n",
    "diagnoses_res.columns = [x+'_month' for x in diagnoses_res.columns]\n",
    "diagnoses_res.values[diagnoses_res != 0] = diagnoses_month.days_btw_diag_kt\n",
    "diagnoses_res[['idx', 'DATE']] = diagnoses_month[['idx', 'DATE']]"
   ]
  },
  {
   "cell_type": "code",
   "execution_count": 504,
   "metadata": {},
   "outputs": [],
   "source": [
    "diagnoses_res = diagnoses_res.groupby(['idx', 'DATE']).sum().reset_index()"
   ]
  },
  {
   "cell_type": "code",
   "execution_count": 505,
   "metadata": {},
   "outputs": [
    {
     "data": {
      "text/plain": [
       "131989"
      ]
     },
     "execution_count": 505,
     "metadata": {},
     "output_type": "execute_result"
    }
   ],
   "source": [
    "data_train.shape[0]"
   ]
  },
  {
   "cell_type": "code",
   "execution_count": 506,
   "metadata": {},
   "outputs": [],
   "source": [
    "# diagnoses_res.DATE = diagnoses_res.DATE.astype(str)"
   ]
  },
  {
   "cell_type": "code",
   "execution_count": 507,
   "metadata": {},
   "outputs": [],
   "source": [
    "data_train = pd.merge(data_train, diagnoses_res, on=['idx', 'DATE'], how='left')\n",
    "# data_train[diagnoses_res.columns[2:]] = data_train[diagnoses_res.columns[2:]].fillna(0)\n",
    "\n",
    "data_test = pd.merge(data_test, diagnoses_res, on=['idx', 'DATE'], how='left')\n",
    "# data_test[diagnoses_res.columns[2:]] = data_test[diagnoses_res.columns[2:]].fillna(0)"
   ]
  },
  {
   "cell_type": "code",
   "execution_count": 508,
   "metadata": {},
   "outputs": [
    {
     "name": "stdout",
     "output_type": "stream",
     "text": [
      "(131989, 1515)\n",
      "(33080, 1515)\n"
     ]
    }
   ],
   "source": [
    "print(data_train.shape)\n",
    "print(data_test.shape)"
   ]
  },
  {
   "cell_type": "markdown",
   "metadata": {
    "jp-MarkdownHeadingCollapsed": true,
    "tags": [],
    "toc-hr-collapsed": true
   },
   "source": [
    "## Работа с drugs"
   ]
  },
  {
   "cell_type": "code",
   "execution_count": 510,
   "metadata": {},
   "outputs": [
    {
     "data": {
      "text/html": [
       "<div>\n",
       "<style scoped>\n",
       "    .dataframe tbody tr th:only-of-type {\n",
       "        vertical-align: middle;\n",
       "    }\n",
       "\n",
       "    .dataframe tbody tr th {\n",
       "        vertical-align: top;\n",
       "    }\n",
       "\n",
       "    .dataframe thead th {\n",
       "        text-align: right;\n",
       "    }\n",
       "</style>\n",
       "<table border=\"1\" class=\"dataframe\">\n",
       "  <thead>\n",
       "    <tr style=\"text-align: right;\">\n",
       "      <th></th>\n",
       "      <th>idx</th>\n",
       "      <th>DATE</th>\n",
       "      <th>RECIPE</th>\n",
       "    </tr>\n",
       "  </thead>\n",
       "  <tbody>\n",
       "    <tr>\n",
       "      <th>0</th>\n",
       "      <td>598671</td>\n",
       "      <td>2020-04-20</td>\n",
       "      <td>Рецепт 00Д4510052223: Azithromycinum - Применя...</td>\n",
       "    </tr>\n",
       "  </tbody>\n",
       "</table>\n",
       "</div>"
      ],
      "text/plain": [
       "      idx        DATE                                             RECIPE\n",
       "0  598671  2020-04-20  Рецепт 00Д4510052223: Azithromycinum - Применя..."
      ]
     },
     "execution_count": 510,
     "metadata": {},
     "output_type": "execute_result"
    }
   ],
   "source": [
    "# 7. Файл с назначенными препаратами (не использовался)\n",
    "# IDX - анонимизированный идентификатор пациента. по нему файлы связаны между собой.\n",
    "# DATE - Дата диагноза\n",
    "# RECIPE - Назначенные препараты\n",
    "drugs = pd.read_csv('data/data_for_science_drugs_2020-07-27.csv', sep=';')\n",
    "drugs.head(1)"
   ]
  },
  {
   "cell_type": "code",
   "execution_count": 511,
   "metadata": {},
   "outputs": [
    {
     "data": {
      "text/html": [
       "<div>\n",
       "<style scoped>\n",
       "    .dataframe tbody tr th:only-of-type {\n",
       "        vertical-align: middle;\n",
       "    }\n",
       "\n",
       "    .dataframe tbody tr th {\n",
       "        vertical-align: top;\n",
       "    }\n",
       "\n",
       "    .dataframe thead th {\n",
       "        text-align: right;\n",
       "    }\n",
       "</style>\n",
       "<table border=\"1\" class=\"dataframe\">\n",
       "  <thead>\n",
       "    <tr style=\"text-align: right;\">\n",
       "      <th></th>\n",
       "      <th>rus</th>\n",
       "      <th>eng</th>\n",
       "      <th>latin</th>\n",
       "    </tr>\n",
       "  </thead>\n",
       "  <tbody>\n",
       "    <tr>\n",
       "      <th>0</th>\n",
       "      <td>абаговомаб</td>\n",
       "      <td>abagovomab</td>\n",
       "      <td>abagovomabum</td>\n",
       "    </tr>\n",
       "  </tbody>\n",
       "</table>\n",
       "</div>"
      ],
      "text/plain": [
       "          rus         eng         latin\n",
       "0  абаговомаб  abagovomab  abagovomabum"
      ]
     },
     "execution_count": 511,
     "metadata": {},
     "output_type": "execute_result"
    }
   ],
   "source": [
    "# https://portal.eaeunion.org/sites/odata/redesign/Pages/InternationalNonProprietaryCodeClassifier.aspx\n",
    "drugs_names = pd.read_csv('data/drugs_names.csv', sep=';')\n",
    "drugs_names = drugs_names[drugs_names.columns[1:4]]\n",
    "drugs_names.columns = ['rus', 'eng', 'latin']\n",
    "drugs_names.head(1)"
   ]
  },
  {
   "cell_type": "code",
   "execution_count": 512,
   "metadata": {},
   "outputs": [],
   "source": [
    "eng_rus_map = drugs_names[['rus', 'eng']].set_index('eng').to_dict()['rus']\n",
    "latin_rus_map = drugs_names[['rus', 'latin']].set_index('latin').to_dict()['rus']"
   ]
  },
  {
   "cell_type": "code",
   "execution_count": 513,
   "metadata": {},
   "outputs": [],
   "source": [
    "all_idx = list(pd.concat([data_train['idx'], data_test['idx']]).unique())"
   ]
  },
  {
   "cell_type": "code",
   "execution_count": 514,
   "metadata": {},
   "outputs": [],
   "source": [
    "drugs = drugs[drugs.idx.isin(all_idx)].reset_index(drop=True)\n",
    "drugs.RECIPE = drugs.RECIPE.apply(lambda x: x.lower())"
   ]
  },
  {
   "cell_type": "code",
   "execution_count": 515,
   "metadata": {},
   "outputs": [],
   "source": [
    "drugs = pd.merge(drugs.rename(columns={'DATE': 'drugs_date'}), \n",
    "                 pd.concat([data_train[['idx', 'DATE']], data_test[['idx', 'DATE']]]),\n",
    "                 on='idx', how='left')\n",
    "drugs = drugs[drugs.DATE.notnull()].reset_index(drop=True)\n",
    "\n",
    "drugs.drugs_date = pd.to_datetime(drugs.drugs_date)\n",
    "drugs.DATE = pd.to_datetime(drugs.DATE)\n",
    "\n",
    "drugs['days_btw_drug_kt'] = (drugs.DATE - drugs.drugs_date).apply(lambda x: x.days)"
   ]
  },
  {
   "cell_type": "code",
   "execution_count": 516,
   "metadata": {},
   "outputs": [],
   "source": [
    "def get_drugs(x):\n",
    "    res = []\n",
    "    \n",
    "    if 'рецепт' in x:\n",
    "        x = x.split(': ')[1].split(' - ')[0]\n",
    "        for word in x.split('+'):\n",
    "            if word in latin_rus_map.keys():\n",
    "                res.append(latin_rus_map[word])\n",
    "            elif word in eng_rus_map.keys():\n",
    "                res.append(eng_rus_map[word])\n",
    "            elif word in latin_rus_map.values():\n",
    "                res.append(word)\n",
    "                \n",
    "    else:\n",
    "        \n",
    "        x = x.split('; ')\n",
    "        \n",
    "        for x_ in x:\n",
    "            if '+' in x_:\n",
    "                x_ = x_.split('/')[0].split('+')\n",
    "                for word in x_:\n",
    "                    if word in latin_rus_map.values():\n",
    "                        res.append(word)\n",
    "            else:\n",
    "                x_ = x_.split(' ')[0].split('/')\n",
    "                for word in x_:\n",
    "                    if word in latin_rus_map.values():\n",
    "                        res.append(word)\n",
    "    return list(set(res))\n",
    "\n",
    "drugs['drug_list'] = drugs.RECIPE.apply(lambda x: get_drugs(x))"
   ]
  },
  {
   "cell_type": "code",
   "execution_count": 517,
   "metadata": {},
   "outputs": [],
   "source": [
    "drugs_columns = []\n",
    "for dl in drugs.drug_list:\n",
    "    for dl_ in dl:\n",
    "        if dl_ not in drugs_columns:\n",
    "            drugs_columns.append(dl_)"
   ]
  },
  {
   "cell_type": "code",
   "execution_count": 518,
   "metadata": {},
   "outputs": [
    {
     "data": {
      "text/plain": [
       "152"
      ]
     },
     "execution_count": 518,
     "metadata": {},
     "output_type": "execute_result"
    }
   ],
   "source": [
    "len(drugs_columns)"
   ]
  },
  {
   "cell_type": "markdown",
   "metadata": {},
   "source": [
    "### all drugs"
   ]
  },
  {
   "cell_type": "code",
   "execution_count": 519,
   "metadata": {},
   "outputs": [
    {
     "data": {
      "text/html": [
       "<div>\n",
       "<style scoped>\n",
       "    .dataframe tbody tr th:only-of-type {\n",
       "        vertical-align: middle;\n",
       "    }\n",
       "\n",
       "    .dataframe tbody tr th {\n",
       "        vertical-align: top;\n",
       "    }\n",
       "\n",
       "    .dataframe thead th {\n",
       "        text-align: right;\n",
       "    }\n",
       "</style>\n",
       "<table border=\"1\" class=\"dataframe\">\n",
       "  <thead>\n",
       "    <tr style=\"text-align: right;\">\n",
       "      <th></th>\n",
       "      <th>idx</th>\n",
       "      <th>drugs_date</th>\n",
       "      <th>RECIPE</th>\n",
       "      <th>DATE</th>\n",
       "      <th>days_btw_drug_kt</th>\n",
       "      <th>drug_list</th>\n",
       "    </tr>\n",
       "  </thead>\n",
       "  <tbody>\n",
       "    <tr>\n",
       "      <th>0</th>\n",
       "      <td>598671</td>\n",
       "      <td>2020-04-20</td>\n",
       "      <td>рецепт 00д4510052223: azithromycinum - применя...</td>\n",
       "      <td>2020-04-20</td>\n",
       "      <td>0</td>\n",
       "      <td>[азитромицин]</td>\n",
       "    </tr>\n",
       "    <tr>\n",
       "      <th>1</th>\n",
       "      <td>596802</td>\n",
       "      <td>2020-04-20</td>\n",
       "      <td>рецепт 00д4510051283: azithromycinum - применя...</td>\n",
       "      <td>2020-04-20</td>\n",
       "      <td>0</td>\n",
       "      <td>[азитромицин]</td>\n",
       "    </tr>\n",
       "    <tr>\n",
       "      <th>2</th>\n",
       "      <td>528107</td>\n",
       "      <td>2020-04-20</td>\n",
       "      <td>рецепт 00д4510052318: levofloxacinum - применя...</td>\n",
       "      <td>2020-04-20</td>\n",
       "      <td>0</td>\n",
       "      <td>[левофлоксацин]</td>\n",
       "    </tr>\n",
       "    <tr>\n",
       "      <th>3</th>\n",
       "      <td>528107</td>\n",
       "      <td>2020-04-20</td>\n",
       "      <td>рецепт 00д4510052318: levofloxacinum - применя...</td>\n",
       "      <td>2020-04-24</td>\n",
       "      <td>4</td>\n",
       "      <td>[левофлоксацин]</td>\n",
       "    </tr>\n",
       "    <tr>\n",
       "      <th>4</th>\n",
       "      <td>528107</td>\n",
       "      <td>2020-04-20</td>\n",
       "      <td>рецепт 00д4510052318: levofloxacinum - применя...</td>\n",
       "      <td>2020-06-30</td>\n",
       "      <td>71</td>\n",
       "      <td>[левофлоксацин]</td>\n",
       "    </tr>\n",
       "    <tr>\n",
       "      <th>...</th>\n",
       "      <td>...</td>\n",
       "      <td>...</td>\n",
       "      <td>...</td>\n",
       "      <td>...</td>\n",
       "      <td>...</td>\n",
       "      <td>...</td>\n",
       "    </tr>\n",
       "    <tr>\n",
       "      <th>155867</th>\n",
       "      <td>760060</td>\n",
       "      <td>2020-07-13</td>\n",
       "      <td>рецепт 00д4510824134: азитромицин - применять ...</td>\n",
       "      <td>2020-05-18</td>\n",
       "      <td>-56</td>\n",
       "      <td>[азитромицин]</td>\n",
       "    </tr>\n",
       "    <tr>\n",
       "      <th>155868</th>\n",
       "      <td>1238902</td>\n",
       "      <td>2020-07-13</td>\n",
       "      <td>левофлоксацин/левофлокс табл. п/пл/об. 500 мг ...</td>\n",
       "      <td>2020-06-24</td>\n",
       "      <td>-19</td>\n",
       "      <td>[левофлоксацин]</td>\n",
       "    </tr>\n",
       "    <tr>\n",
       "      <th>155869</th>\n",
       "      <td>1238902</td>\n",
       "      <td>2020-07-13</td>\n",
       "      <td>рецепт 00д4510819971: levofloxacinum - применя...</td>\n",
       "      <td>2020-06-24</td>\n",
       "      <td>-19</td>\n",
       "      <td>[левофлоксацин]</td>\n",
       "    </tr>\n",
       "    <tr>\n",
       "      <th>155870</th>\n",
       "      <td>480393</td>\n",
       "      <td>2020-07-13</td>\n",
       "      <td>рецепт 00д4510824943: levofloxacinum - применя...</td>\n",
       "      <td>2020-06-24</td>\n",
       "      <td>-19</td>\n",
       "      <td>[левофлоксацин]</td>\n",
       "    </tr>\n",
       "    <tr>\n",
       "      <th>155871</th>\n",
       "      <td>653991</td>\n",
       "      <td>2020-07-14</td>\n",
       "      <td>рецепт 00д4510825792: azithromycinum - применя...</td>\n",
       "      <td>2020-04-30</td>\n",
       "      <td>-75</td>\n",
       "      <td>[азитромицин]</td>\n",
       "    </tr>\n",
       "  </tbody>\n",
       "</table>\n",
       "<p>155872 rows × 6 columns</p>\n",
       "</div>"
      ],
      "text/plain": [
       "            idx drugs_date                                             RECIPE  \\\n",
       "0        598671 2020-04-20  рецепт 00д4510052223: azithromycinum - применя...   \n",
       "1        596802 2020-04-20  рецепт 00д4510051283: azithromycinum - применя...   \n",
       "2        528107 2020-04-20  рецепт 00д4510052318: levofloxacinum - применя...   \n",
       "3        528107 2020-04-20  рецепт 00д4510052318: levofloxacinum - применя...   \n",
       "4        528107 2020-04-20  рецепт 00д4510052318: levofloxacinum - применя...   \n",
       "...         ...        ...                                                ...   \n",
       "155867   760060 2020-07-13  рецепт 00д4510824134: азитромицин - применять ...   \n",
       "155868  1238902 2020-07-13  левофлоксацин/левофлокс табл. п/пл/об. 500 мг ...   \n",
       "155869  1238902 2020-07-13  рецепт 00д4510819971: levofloxacinum - применя...   \n",
       "155870   480393 2020-07-13  рецепт 00д4510824943: levofloxacinum - применя...   \n",
       "155871   653991 2020-07-14  рецепт 00д4510825792: azithromycinum - применя...   \n",
       "\n",
       "             DATE  days_btw_drug_kt        drug_list  \n",
       "0      2020-04-20                 0    [азитромицин]  \n",
       "1      2020-04-20                 0    [азитромицин]  \n",
       "2      2020-04-20                 0  [левофлоксацин]  \n",
       "3      2020-04-24                 4  [левофлоксацин]  \n",
       "4      2020-06-30                71  [левофлоксацин]  \n",
       "...           ...               ...              ...  \n",
       "155867 2020-05-18               -56    [азитромицин]  \n",
       "155868 2020-06-24               -19  [левофлоксацин]  \n",
       "155869 2020-06-24               -19  [левофлоксацин]  \n",
       "155870 2020-06-24               -19  [левофлоксацин]  \n",
       "155871 2020-04-30               -75    [азитромицин]  \n",
       "\n",
       "[155872 rows x 6 columns]"
      ]
     },
     "execution_count": 519,
     "metadata": {},
     "output_type": "execute_result"
    }
   ],
   "source": [
    "drugs"
   ]
  },
  {
   "cell_type": "code",
   "execution_count": 529,
   "metadata": {},
   "outputs": [],
   "source": [
    "drugs_res = drugs[['idx', 'DATE']].copy()\n",
    "drugs_res.loc[:, ['before_'+x for x in drugs_columns]] = 0\n",
    "\n",
    "for i, (dl, db) in enumerate(zip(drugs.drug_list, drugs.days_btw_drug_kt)):\n",
    "    for dl_ in dl:\n",
    "        drugs_res.loc[i, 'before_'+dl_] += 1"
   ]
  },
  {
   "cell_type": "code",
   "execution_count": 530,
   "metadata": {},
   "outputs": [],
   "source": [
    "drugs_res = drugs_res.groupby(['idx', 'DATE']).sum().reset_index().replace(0, np.nan)"
   ]
  },
  {
   "cell_type": "code",
   "execution_count": 532,
   "metadata": {},
   "outputs": [],
   "source": [
    "drugs_res.DATE = pd.to_datetime(drugs_res.DATE)\n",
    "data_train.DATE = pd.to_datetime(data_train.DATE)\n",
    "data_test.DATE = pd.to_datetime(data_test.DATE)"
   ]
  },
  {
   "cell_type": "code",
   "execution_count": 534,
   "metadata": {},
   "outputs": [],
   "source": [
    "data_train = pd.merge(data_train, drugs_res, on=['idx', 'DATE'], how='left')\n",
    "# data_train[drugs_res.columns[2:]] = data_train[drugs_res.columns[2:]].fillna(0)\n",
    "\n",
    "data_test = pd.merge(data_test, drugs_res, on=['idx', 'DATE'], how='left')\n",
    "# data_test[drugs_res.columns[2:]] = data_test[drugs_res.columns[2:]].fillna(0)"
   ]
  },
  {
   "cell_type": "code",
   "execution_count": 535,
   "metadata": {},
   "outputs": [
    {
     "name": "stdout",
     "output_type": "stream",
     "text": [
      "(131989, 1667)\n",
      "(33080, 1667)\n"
     ]
    }
   ],
   "source": [
    "print(data_train.shape)\n",
    "print(data_test.shape)"
   ]
  },
  {
   "cell_type": "markdown",
   "metadata": {},
   "source": [
    "### drugs before KT"
   ]
  },
  {
   "cell_type": "code",
   "execution_count": 536,
   "metadata": {},
   "outputs": [],
   "source": [
    "drugs_before = drugs[drugs.days_btw_drug_kt > 0].reset_index(drop=True)"
   ]
  },
  {
   "cell_type": "code",
   "execution_count": 537,
   "metadata": {},
   "outputs": [],
   "source": [
    "drugs_res = drugs_before[['idx', 'DATE']].copy()\n",
    "drugs_res.loc[:, ['before_'+x for x in drugs_columns]] = 999\n",
    "\n",
    "for i, (dl, db) in enumerate(zip(drugs_before.drug_list, drugs_before.days_btw_drug_kt)):\n",
    "    for dl_ in dl:\n",
    "        drugs_res.loc[i, 'before_'+dl_] = db"
   ]
  },
  {
   "cell_type": "code",
   "execution_count": 538,
   "metadata": {},
   "outputs": [],
   "source": [
    "drugs_res = drugs_res.groupby(['idx', 'DATE']).min().reset_index().replace(999, np.nan)"
   ]
  },
  {
   "cell_type": "code",
   "execution_count": 539,
   "metadata": {},
   "outputs": [],
   "source": [
    "drugs_res.DATE = pd.to_datetime(drugs_res.DATE)\n",
    "data_train.DATE = pd.to_datetime(data_train.DATE)\n",
    "data_test.DATE = pd.to_datetime(data_test.DATE)"
   ]
  },
  {
   "cell_type": "code",
   "execution_count": 540,
   "metadata": {},
   "outputs": [],
   "source": [
    "data_train = pd.merge(data_train, drugs_res, on=['idx', 'DATE'], how='left')\n",
    "# data_train[drugs_res.columns[2:]] = data_train[drugs_res.columns[2:]].fillna(0)\n",
    "\n",
    "data_test = pd.merge(data_test, drugs_res, on=['idx', 'DATE'], how='left')\n",
    "# data_test[drugs_res.columns[2:]] = data_test[drugs_res.columns[2:]].fillna(0)"
   ]
  },
  {
   "cell_type": "code",
   "execution_count": 541,
   "metadata": {},
   "outputs": [
    {
     "name": "stdout",
     "output_type": "stream",
     "text": [
      "(131989, 1819)\n",
      "(33080, 1819)\n"
     ]
    }
   ],
   "source": [
    "print(data_train.shape)\n",
    "print(data_test.shape)"
   ]
  },
  {
   "cell_type": "markdown",
   "metadata": {},
   "source": [
    "### drugs after KT"
   ]
  },
  {
   "cell_type": "code",
   "execution_count": 542,
   "metadata": {},
   "outputs": [],
   "source": [
    "drugs_after = drugs[drugs.days_btw_drug_kt < 0].reset_index(drop=True)"
   ]
  },
  {
   "cell_type": "code",
   "execution_count": 543,
   "metadata": {},
   "outputs": [],
   "source": [
    "drugs_res = drugs_after[['idx', 'DATE']].copy()\n",
    "drugs_res.loc[:, ['after_'+x for x in drugs_columns]] = 999\n",
    "\n",
    "for i, (dl, db) in enumerate(zip(drugs_after.drug_list, drugs_after.days_btw_drug_kt)):\n",
    "    for dl_ in dl:\n",
    "        drugs_res.loc[i, 'after_'+dl_] = abs(db)"
   ]
  },
  {
   "cell_type": "code",
   "execution_count": 544,
   "metadata": {},
   "outputs": [],
   "source": [
    "drugs_res = drugs_res.groupby(['idx', 'DATE']).min().reset_index().replace(999, np.nan)"
   ]
  },
  {
   "cell_type": "code",
   "execution_count": 545,
   "metadata": {},
   "outputs": [],
   "source": [
    "drugs_res.DATE = pd.to_datetime(drugs_res.DATE)\n",
    "# data_train.DATE = pd.to_datetime(data_train.DATE)\n",
    "# data_test.DATE = pd.to_datetime(data_test.DATE)"
   ]
  },
  {
   "cell_type": "code",
   "execution_count": 546,
   "metadata": {},
   "outputs": [],
   "source": [
    "data_train = pd.merge(data_train, drugs_res, on=['idx', 'DATE'], how='left')\n",
    "# data_train[drugs_res.columns[2:]] = data_train[drugs_res.columns[2:]].fillna(0)\n",
    "\n",
    "data_test = pd.merge(data_test, drugs_res, on=['idx', 'DATE'], how='left')\n",
    "# data_test[drugs_res.columns[2:]] = data_test[drugs_res.columns[2:]].fillna(0)"
   ]
  },
  {
   "cell_type": "code",
   "execution_count": 547,
   "metadata": {},
   "outputs": [
    {
     "name": "stdout",
     "output_type": "stream",
     "text": [
      "(131989, 1971)\n",
      "(33080, 1971)\n"
     ]
    }
   ],
   "source": [
    "print(data_train.shape)\n",
    "print(data_test.shape)"
   ]
  },
  {
   "cell_type": "markdown",
   "metadata": {},
   "source": [
    "### drugs in KT"
   ]
  },
  {
   "cell_type": "code",
   "execution_count": 548,
   "metadata": {},
   "outputs": [],
   "source": [
    "drugs_in = drugs[drugs.days_btw_drug_kt == 0].reset_index(drop=True)"
   ]
  },
  {
   "cell_type": "code",
   "execution_count": 549,
   "metadata": {},
   "outputs": [],
   "source": [
    "drugs_res = drugs_in[['idx', 'DATE']].copy()\n",
    "drugs_res.loc[:, ['in_'+x for x in drugs_columns]] = 0\n",
    "\n",
    "for i, dl in enumerate(drugs_in.drug_list):\n",
    "    for dl_ in dl:\n",
    "        drugs_res.loc[i, 'in_'+dl_] += 1"
   ]
  },
  {
   "cell_type": "code",
   "execution_count": 550,
   "metadata": {},
   "outputs": [],
   "source": [
    "drugs_res = drugs_res.groupby(['idx', 'DATE']).sum().reset_index()"
   ]
  },
  {
   "cell_type": "code",
   "execution_count": 551,
   "metadata": {},
   "outputs": [],
   "source": [
    "drugs_res.DATE = pd.to_datetime(drugs_res.DATE)\n",
    "# data_train.DATE = pd.to_datetime(data_train.DATE)\n",
    "# data_test.DATE = pd.to_datetime(data_test.DATE)"
   ]
  },
  {
   "cell_type": "code",
   "execution_count": 552,
   "metadata": {},
   "outputs": [],
   "source": [
    "data_train = pd.merge(data_train, drugs_res, on=['idx', 'DATE'], how='left')\n",
    "# data_train[drugs_res.columns[2:]] = data_train[drugs_res.columns[2:]].fillna(0)\n",
    "\n",
    "data_test = pd.merge(data_test, drugs_res, on=['idx', 'DATE'], how='left')\n",
    "# data_test[drugs_res.columns[2:]] = data_test[drugs_res.columns[2:]].fillna(0)"
   ]
  },
  {
   "cell_type": "code",
   "execution_count": 553,
   "metadata": {},
   "outputs": [
    {
     "name": "stdout",
     "output_type": "stream",
     "text": [
      "(131989, 2123)\n",
      "(33080, 2123)\n"
     ]
    }
   ],
   "source": [
    "print(data_train.shape)\n",
    "print(data_test.shape)"
   ]
  },
  {
   "cell_type": "code",
   "execution_count": 554,
   "metadata": {},
   "outputs": [],
   "source": [
    "# data_train.to_csv('temp_data/data_train.csv', index=False)\n",
    "# data_test.to_csv('temp_data/data_test.csv', index=False)"
   ]
  },
  {
   "cell_type": "markdown",
   "metadata": {},
   "source": [
    "### drugs in week KT"
   ]
  },
  {
   "cell_type": "code",
   "execution_count": 555,
   "metadata": {},
   "outputs": [],
   "source": [
    "drugs_week = drugs[np.abs(drugs.days_btw_drug_kt) <= 7].reset_index(drop=True)"
   ]
  },
  {
   "cell_type": "code",
   "execution_count": 556,
   "metadata": {},
   "outputs": [],
   "source": [
    "drugs_res = drugs_week[['idx', 'DATE']].copy()\n",
    "drugs_res.loc[:, ['week_'+x for x in drugs_columns]] = 999\n",
    "\n",
    "for i, (dl, db) in enumerate(zip(drugs_week.drug_list, drugs_week.days_btw_drug_kt)):\n",
    "    for dl_ in dl:\n",
    "        drugs_res.loc[i, 'week_'+dl_] = abs(db)"
   ]
  },
  {
   "cell_type": "code",
   "execution_count": 557,
   "metadata": {},
   "outputs": [],
   "source": [
    "drugs_res = drugs_res.groupby(['idx', 'DATE']).min().reset_index().replace(999, np.nan)"
   ]
  },
  {
   "cell_type": "code",
   "execution_count": 558,
   "metadata": {},
   "outputs": [],
   "source": [
    "drugs_res.DATE = pd.to_datetime(drugs_res.DATE)\n",
    "# data_train.DATE = pd.to_datetime(data_train.DATE)\n",
    "# data_test.DATE = pd.to_datetime(data_test.DATE)"
   ]
  },
  {
   "cell_type": "code",
   "execution_count": 559,
   "metadata": {},
   "outputs": [],
   "source": [
    "data_train = pd.merge(data_train, drugs_res, on=['idx', 'DATE'], how='left')\n",
    "# data_train[drugs_res.columns[2:]] = data_train[drugs_res.columns[2:]].fillna(0)\n",
    "\n",
    "data_test = pd.merge(data_test, drugs_res, on=['idx', 'DATE'], how='left')\n",
    "# data_test[drugs_res.columns[2:]] = data_test[drugs_res.columns[2:]].fillna(0)"
   ]
  },
  {
   "cell_type": "code",
   "execution_count": 560,
   "metadata": {},
   "outputs": [
    {
     "name": "stdout",
     "output_type": "stream",
     "text": [
      "(131989, 2275)\n",
      "(33080, 2275)\n"
     ]
    }
   ],
   "source": [
    "print(data_train.shape)\n",
    "print(data_test.shape)"
   ]
  },
  {
   "cell_type": "markdown",
   "metadata": {},
   "source": [
    "### drugs in month KT"
   ]
  },
  {
   "cell_type": "code",
   "execution_count": 561,
   "metadata": {},
   "outputs": [],
   "source": [
    "drugs_month = drugs[np.abs(drugs.days_btw_drug_kt) <= 30].reset_index(drop=True)"
   ]
  },
  {
   "cell_type": "code",
   "execution_count": 562,
   "metadata": {},
   "outputs": [],
   "source": [
    "drugs_res = drugs_month[['idx', 'DATE']].copy()\n",
    "drugs_res.loc[:, ['month_'+x for x in drugs_columns]] = 999\n",
    "\n",
    "for i, (dl, db) in enumerate(zip(drugs_month.drug_list, drugs_month.days_btw_drug_kt)):\n",
    "    for dl_ in dl:\n",
    "        drugs_res.loc[i, 'month_'+dl_] = abs(db)"
   ]
  },
  {
   "cell_type": "code",
   "execution_count": 563,
   "metadata": {},
   "outputs": [],
   "source": [
    "drugs_res = drugs_res.groupby(['idx', 'DATE']).min().reset_index().replace(999, np.nan)"
   ]
  },
  {
   "cell_type": "code",
   "execution_count": 564,
   "metadata": {},
   "outputs": [],
   "source": [
    "drugs_res.DATE = pd.to_datetime(drugs_res.DATE)\n",
    "# data_train.DATE = pd.to_datetime(data_train.DATE)\n",
    "# data_test.DATE = pd.to_datetime(data_test.DATE)"
   ]
  },
  {
   "cell_type": "code",
   "execution_count": 565,
   "metadata": {},
   "outputs": [],
   "source": [
    "data_train = pd.merge(data_train, drugs_res, on=['idx', 'DATE'], how='left')\n",
    "# data_train[drugs_res.columns[2:]] = data_train[drugs_res.columns[2:]].fillna(0)\n",
    "\n",
    "data_test = pd.merge(data_test, drugs_res, on=['idx', 'DATE'], how='left')\n",
    "# data_test[drugs_res.columns[2:]] = data_test[drugs_res.columns[2:]].fillna(0)"
   ]
  },
  {
   "cell_type": "code",
   "execution_count": 566,
   "metadata": {},
   "outputs": [
    {
     "name": "stdout",
     "output_type": "stream",
     "text": [
      "(131989, 2427)\n",
      "(33080, 2427)\n"
     ]
    }
   ],
   "source": [
    "print(data_train.shape)\n",
    "print(data_test.shape)"
   ]
  },
  {
   "cell_type": "markdown",
   "metadata": {
    "tags": []
   },
   "source": [
    "## Работа с covid\n",
    "\n",
    "- dis_date добавлю позже"
   ]
  },
  {
   "cell_type": "code",
   "execution_count": 567,
   "metadata": {},
   "outputs": [
    {
     "data": {
      "text/html": [
       "<div>\n",
       "<style scoped>\n",
       "    .dataframe tbody tr th:only-of-type {\n",
       "        vertical-align: middle;\n",
       "    }\n",
       "\n",
       "    .dataframe tbody tr th {\n",
       "        vertical-align: top;\n",
       "    }\n",
       "\n",
       "    .dataframe thead th {\n",
       "        text-align: right;\n",
       "    }\n",
       "</style>\n",
       "<table border=\"1\" class=\"dataframe\">\n",
       "  <thead>\n",
       "    <tr style=\"text-align: right;\">\n",
       "      <th></th>\n",
       "      <th>idx</th>\n",
       "      <th>pd_id</th>\n",
       "      <th>person_id</th>\n",
       "      <th>ds_id</th>\n",
       "      <th>gender</th>\n",
       "      <th>birth_dt</th>\n",
       "      <th>mkb10_code</th>\n",
       "      <th>mkb10_name</th>\n",
       "      <th>dis_date</th>\n",
       "      <th>samples_type_id</th>\n",
       "      <th>get_date_at</th>\n",
       "      <th>receive_date_at</th>\n",
       "      <th>result_date_at</th>\n",
       "      <th>IgG</th>\n",
       "      <th>IgM</th>\n",
       "      <th>samples_result_id</th>\n",
       "      <th>mu_type</th>\n",
       "    </tr>\n",
       "  </thead>\n",
       "  <tbody>\n",
       "    <tr>\n",
       "      <th>0</th>\n",
       "      <td>0</td>\n",
       "      <td>1562717</td>\n",
       "      <td>1460618</td>\n",
       "      <td>1652919</td>\n",
       "      <td>М</td>\n",
       "      <td>1995-11-26</td>\n",
       "      <td>Z11.5</td>\n",
       "      <td>Специальное скрининговое обследование с целью ...</td>\n",
       "      <td>2020-05-17</td>\n",
       "      <td>Кровь, цельная (сыворотка)</td>\n",
       "      <td>2020-05-17</td>\n",
       "      <td>2020-05-17</td>\n",
       "      <td>2020-05-17</td>\n",
       "      <td>0.18</td>\n",
       "      <td>0.55</td>\n",
       "      <td>NaN</td>\n",
       "      <td>Городская поликлиника</td>\n",
       "    </tr>\n",
       "  </tbody>\n",
       "</table>\n",
       "</div>"
      ],
      "text/plain": [
       "   idx    pd_id  person_id    ds_id gender    birth_dt mkb10_code  \\\n",
       "0    0  1562717    1460618  1652919      М  1995-11-26      Z11.5   \n",
       "\n",
       "                                          mkb10_name    dis_date  \\\n",
       "0  Специальное скрининговое обследование с целью ...  2020-05-17   \n",
       "\n",
       "              samples_type_id get_date_at receive_date_at result_date_at  \\\n",
       "0  Кровь, цельная (сыворотка)  2020-05-17      2020-05-17     2020-05-17   \n",
       "\n",
       "    IgG   IgM samples_result_id                mu_type  \n",
       "0  0.18  0.55               NaN  Городская поликлиника  "
      ]
     },
     "execution_count": 567,
     "metadata": {},
     "output_type": "execute_result"
    }
   ],
   "source": [
    "# 1.Файл с данными результатов обследований на Ковид (описаны значимые поля):\n",
    "# IDX - анонимизированный идентификатор пациента. по нему файлы связаны между собой.\n",
    "# gender - пол пациента\n",
    "# birth_dt - Дата рождения\n",
    "# dis_date - Дата начала заболевания (со слов пациента или дата обращения за анализом)\n",
    "# samples_type_id - вид биоматериала\n",
    "# get_date - дата взятия биоматериала\n",
    "# IgG, IgM - значения уровня иммуноглобулинов (для биоматериала Кровь)\n",
    "# Samples_result_id - значение Обнаружено/не обнаружено (для биоматериала Мазок)\n",
    "# Mu_type - тип медучреждения, где выполнялось взятие биоматериала\n",
    "covid = pd.read_csv('data/data_for_science_2020-07-27_w_mu_type.csv', sep=';')\n",
    "covid.head(1)"
   ]
  },
  {
   "cell_type": "markdown",
   "metadata": {
    "tags": []
   },
   "source": [
    "### Обрабатываю информацию о возрасте и поле"
   ]
  },
  {
   "cell_type": "code",
   "execution_count": 568,
   "metadata": {
    "tags": []
   },
   "outputs": [],
   "source": [
    "personal_info = covid[['idx', 'gender', 'birth_dt']].copy().drop_duplicates('idx')\n",
    "personal_info = pd.concat([personal_info, pd.get_dummies(personal_info.gender)], axis=1).drop(['gender'], axis=1)"
   ]
  },
  {
   "cell_type": "code",
   "execution_count": 569,
   "metadata": {},
   "outputs": [],
   "source": [
    "data_train = pd.merge(data_train, personal_info,\n",
    "                      on='idx', how='left')\n",
    "data_train['DATE'] = pd.to_datetime(data_train.DATE)\n",
    "data_train['birth_dt'] = pd.to_datetime(data_train.birth_dt)\n",
    "\n",
    "data_train['age'] = data_train[['DATE', 'birth_dt']].apply(lambda x: relativedelta(x[0], x[1]).years, axis=1)\n",
    "data_train = data_train.drop(['birth_dt'], axis=1)"
   ]
  },
  {
   "cell_type": "code",
   "execution_count": 570,
   "metadata": {},
   "outputs": [],
   "source": [
    "data_test = pd.merge(data_test, personal_info,\n",
    "                     on='idx', how='left')\n",
    "data_test['DATE'] = pd.to_datetime(data_test.DATE)\n",
    "data_test['birth_dt'] = pd.to_datetime(data_test.birth_dt)\n",
    "\n",
    "data_test['age'] = data_test[['DATE', 'birth_dt']].apply(lambda x: relativedelta(x[0], x[1]).years, axis=1)\n",
    "data_test = data_test.drop(['birth_dt'], axis=1)"
   ]
  },
  {
   "cell_type": "code",
   "execution_count": 571,
   "metadata": {},
   "outputs": [
    {
     "name": "stdout",
     "output_type": "stream",
     "text": [
      "(131989, 2430)\n",
      "(33080, 2430)\n"
     ]
    }
   ],
   "source": [
    "print(data_train.shape)\n",
    "print(data_test.shape)"
   ]
  },
  {
   "cell_type": "markdown",
   "metadata": {
    "tags": []
   },
   "source": [
    "### Добавляю длительность болезни до КТ"
   ]
  },
  {
   "cell_type": "code",
   "execution_count": 572,
   "metadata": {},
   "outputs": [],
   "source": [
    "dis_date_data = pd.merge(covid[['idx', 'dis_date']],\n",
    "                         pd.concat([data_train[['idx', 'DATE']], data_test[['idx', 'DATE']]]), \n",
    "                         on='idx', how='left')\n",
    "\n",
    "def to_datetime(x):\n",
    "    try:\n",
    "        return pd.to_datetime(x)\n",
    "    except:\n",
    "        return np.nan\n",
    "dis_date_data.dis_date = dis_date_data.dis_date.apply(lambda x: to_datetime(x))"
   ]
  },
  {
   "cell_type": "code",
   "execution_count": 573,
   "metadata": {},
   "outputs": [],
   "source": [
    "dis_date_data_before = dis_date_data[(dis_date_data.DATE.notnull())\n",
    "                                     &(dis_date_data.dis_date < dis_date_data.DATE)].reset_index(drop=True)"
   ]
  },
  {
   "cell_type": "code",
   "execution_count": 574,
   "metadata": {},
   "outputs": [],
   "source": [
    "dis_date_data_before['dis_duration'] = (dis_date_data_before.DATE \n",
    "                                        - dis_date_data_before.dis_date).apply(lambda x: x.days)"
   ]
  },
  {
   "cell_type": "code",
   "execution_count": 575,
   "metadata": {},
   "outputs": [],
   "source": [
    "dis_date_res = dis_date_data_before.groupby(['idx', 'DATE']).dis_duration.mean().reset_index() \\\n",
    "                            .rename(columns={'dis_duration': 'dis_duration_mean'})\n",
    "\n",
    "dis_date_res['dis_duration_min'] = dis_date_data_before.groupby(['idx', 'DATE']).dis_duration.min().values\n",
    "dis_date_res['dis_duration_max'] = dis_date_data_before.groupby(['idx', 'DATE']).dis_duration.max().values"
   ]
  },
  {
   "cell_type": "code",
   "execution_count": 576,
   "metadata": {},
   "outputs": [
    {
     "data": {
      "text/html": [
       "<div>\n",
       "<style scoped>\n",
       "    .dataframe tbody tr th:only-of-type {\n",
       "        vertical-align: middle;\n",
       "    }\n",
       "\n",
       "    .dataframe tbody tr th {\n",
       "        vertical-align: top;\n",
       "    }\n",
       "\n",
       "    .dataframe thead th {\n",
       "        text-align: right;\n",
       "    }\n",
       "</style>\n",
       "<table border=\"1\" class=\"dataframe\">\n",
       "  <thead>\n",
       "    <tr style=\"text-align: right;\">\n",
       "      <th></th>\n",
       "      <th>idx</th>\n",
       "      <th>DATE</th>\n",
       "      <th>dis_duration_mean</th>\n",
       "      <th>dis_duration_min</th>\n",
       "      <th>dis_duration_max</th>\n",
       "    </tr>\n",
       "  </thead>\n",
       "  <tbody>\n",
       "    <tr>\n",
       "      <th>0</th>\n",
       "      <td>6</td>\n",
       "      <td>2020-05-16</td>\n",
       "      <td>9.500000</td>\n",
       "      <td>9</td>\n",
       "      <td>10</td>\n",
       "    </tr>\n",
       "    <tr>\n",
       "      <th>1</th>\n",
       "      <td>11</td>\n",
       "      <td>2020-05-16</td>\n",
       "      <td>9.333333</td>\n",
       "      <td>9</td>\n",
       "      <td>10</td>\n",
       "    </tr>\n",
       "    <tr>\n",
       "      <th>2</th>\n",
       "      <td>21</td>\n",
       "      <td>2020-05-16</td>\n",
       "      <td>14.000000</td>\n",
       "      <td>14</td>\n",
       "      <td>14</td>\n",
       "    </tr>\n",
       "    <tr>\n",
       "      <th>3</th>\n",
       "      <td>28</td>\n",
       "      <td>2020-05-16</td>\n",
       "      <td>17.666667</td>\n",
       "      <td>17</td>\n",
       "      <td>19</td>\n",
       "    </tr>\n",
       "    <tr>\n",
       "      <th>4</th>\n",
       "      <td>51</td>\n",
       "      <td>2020-05-16</td>\n",
       "      <td>6.000000</td>\n",
       "      <td>6</td>\n",
       "      <td>6</td>\n",
       "    </tr>\n",
       "    <tr>\n",
       "      <th>...</th>\n",
       "      <td>...</td>\n",
       "      <td>...</td>\n",
       "      <td>...</td>\n",
       "      <td>...</td>\n",
       "      <td>...</td>\n",
       "    </tr>\n",
       "    <tr>\n",
       "      <th>131494</th>\n",
       "      <td>1297335</td>\n",
       "      <td>2020-07-09</td>\n",
       "      <td>8.000000</td>\n",
       "      <td>8</td>\n",
       "      <td>8</td>\n",
       "    </tr>\n",
       "    <tr>\n",
       "      <th>131495</th>\n",
       "      <td>1297345</td>\n",
       "      <td>2020-07-03</td>\n",
       "      <td>1.000000</td>\n",
       "      <td>1</td>\n",
       "      <td>1</td>\n",
       "    </tr>\n",
       "    <tr>\n",
       "      <th>131496</th>\n",
       "      <td>1297357</td>\n",
       "      <td>2020-07-05</td>\n",
       "      <td>3.000000</td>\n",
       "      <td>3</td>\n",
       "      <td>3</td>\n",
       "    </tr>\n",
       "    <tr>\n",
       "      <th>131497</th>\n",
       "      <td>1297453</td>\n",
       "      <td>2020-07-02</td>\n",
       "      <td>1.000000</td>\n",
       "      <td>1</td>\n",
       "      <td>1</td>\n",
       "    </tr>\n",
       "    <tr>\n",
       "      <th>131498</th>\n",
       "      <td>1297466</td>\n",
       "      <td>2020-07-05</td>\n",
       "      <td>3.000000</td>\n",
       "      <td>3</td>\n",
       "      <td>3</td>\n",
       "    </tr>\n",
       "  </tbody>\n",
       "</table>\n",
       "<p>131499 rows × 5 columns</p>\n",
       "</div>"
      ],
      "text/plain": [
       "            idx       DATE  dis_duration_mean  dis_duration_min  \\\n",
       "0             6 2020-05-16           9.500000                 9   \n",
       "1            11 2020-05-16           9.333333                 9   \n",
       "2            21 2020-05-16          14.000000                14   \n",
       "3            28 2020-05-16          17.666667                17   \n",
       "4            51 2020-05-16           6.000000                 6   \n",
       "...         ...        ...                ...               ...   \n",
       "131494  1297335 2020-07-09           8.000000                 8   \n",
       "131495  1297345 2020-07-03           1.000000                 1   \n",
       "131496  1297357 2020-07-05           3.000000                 3   \n",
       "131497  1297453 2020-07-02           1.000000                 1   \n",
       "131498  1297466 2020-07-05           3.000000                 3   \n",
       "\n",
       "        dis_duration_max  \n",
       "0                     10  \n",
       "1                     10  \n",
       "2                     14  \n",
       "3                     19  \n",
       "4                      6  \n",
       "...                  ...  \n",
       "131494                 8  \n",
       "131495                 1  \n",
       "131496                 3  \n",
       "131497                 1  \n",
       "131498                 3  \n",
       "\n",
       "[131499 rows x 5 columns]"
      ]
     },
     "execution_count": 576,
     "metadata": {},
     "output_type": "execute_result"
    }
   ],
   "source": [
    "dis_date_res"
   ]
  },
  {
   "cell_type": "code",
   "execution_count": 577,
   "metadata": {},
   "outputs": [],
   "source": [
    "data_train = pd.merge(data_train, dis_date_res, on=['idx', 'DATE'], how='left')\n",
    "\n",
    "data_test.DATE = pd.to_datetime(data_test.DATE)\n",
    "data_test = pd.merge(data_test, dis_date_res, on=['idx', 'DATE'], how='left')"
   ]
  },
  {
   "cell_type": "code",
   "execution_count": 578,
   "metadata": {},
   "outputs": [
    {
     "name": "stdout",
     "output_type": "stream",
     "text": [
      "(131989, 2433)\n",
      "(33080, 2433)\n"
     ]
    }
   ],
   "source": [
    "print(data_train.shape)\n",
    "print(data_test.shape)"
   ]
  },
  {
   "cell_type": "markdown",
   "metadata": {
    "tags": []
   },
   "source": [
    "### Добавляю время до болезни после КТ"
   ]
  },
  {
   "cell_type": "code",
   "execution_count": 579,
   "metadata": {},
   "outputs": [],
   "source": [
    "dis_date_data_after = dis_date_data[(dis_date_data.DATE.notnull())\n",
    "                                     &(dis_date_data.dis_date >= dis_date_data.DATE)].reset_index(drop=True)"
   ]
  },
  {
   "cell_type": "code",
   "execution_count": 580,
   "metadata": {},
   "outputs": [],
   "source": [
    "dis_date_data_after['dis_duration'] = (dis_date_data_after.DATE \n",
    "                                        - dis_date_data_after.dis_date).apply(lambda x: x.days)"
   ]
  },
  {
   "cell_type": "code",
   "execution_count": 581,
   "metadata": {},
   "outputs": [],
   "source": [
    "dis_date_res = dis_date_data_after.groupby(['idx', 'DATE']).dis_duration.mean().reset_index() \\\n",
    "                            .rename(columns={'dis_duration': 'after_dis_duration_mean'})\n",
    "\n",
    "dis_date_res['after_dis_duration_min'] = dis_date_data_after.groupby(['idx', 'DATE']).dis_duration.min().values\n",
    "dis_date_res['after_dis_duration_max'] = dis_date_data_after.groupby(['idx', 'DATE']).dis_duration.max().values"
   ]
  },
  {
   "cell_type": "code",
   "execution_count": 582,
   "metadata": {},
   "outputs": [
    {
     "data": {
      "text/html": [
       "<div>\n",
       "<style scoped>\n",
       "    .dataframe tbody tr th:only-of-type {\n",
       "        vertical-align: middle;\n",
       "    }\n",
       "\n",
       "    .dataframe tbody tr th {\n",
       "        vertical-align: top;\n",
       "    }\n",
       "\n",
       "    .dataframe thead th {\n",
       "        text-align: right;\n",
       "    }\n",
       "</style>\n",
       "<table border=\"1\" class=\"dataframe\">\n",
       "  <thead>\n",
       "    <tr style=\"text-align: right;\">\n",
       "      <th></th>\n",
       "      <th>idx</th>\n",
       "      <th>DATE</th>\n",
       "      <th>after_dis_duration_mean</th>\n",
       "      <th>after_dis_duration_min</th>\n",
       "      <th>after_dis_duration_max</th>\n",
       "    </tr>\n",
       "  </thead>\n",
       "  <tbody>\n",
       "    <tr>\n",
       "      <th>0</th>\n",
       "      <td>6</td>\n",
       "      <td>2020-05-16</td>\n",
       "      <td>0.00</td>\n",
       "      <td>0</td>\n",
       "      <td>0</td>\n",
       "    </tr>\n",
       "    <tr>\n",
       "      <th>1</th>\n",
       "      <td>11</td>\n",
       "      <td>2020-05-16</td>\n",
       "      <td>0.00</td>\n",
       "      <td>0</td>\n",
       "      <td>0</td>\n",
       "    </tr>\n",
       "    <tr>\n",
       "      <th>2</th>\n",
       "      <td>28</td>\n",
       "      <td>2020-05-16</td>\n",
       "      <td>-21.00</td>\n",
       "      <td>-21</td>\n",
       "      <td>-21</td>\n",
       "    </tr>\n",
       "    <tr>\n",
       "      <th>3</th>\n",
       "      <td>53</td>\n",
       "      <td>2020-05-05</td>\n",
       "      <td>-16.00</td>\n",
       "      <td>-43</td>\n",
       "      <td>-8</td>\n",
       "    </tr>\n",
       "    <tr>\n",
       "      <th>4</th>\n",
       "      <td>60</td>\n",
       "      <td>2020-05-16</td>\n",
       "      <td>-9.25</td>\n",
       "      <td>-18</td>\n",
       "      <td>-3</td>\n",
       "    </tr>\n",
       "    <tr>\n",
       "      <th>...</th>\n",
       "      <td>...</td>\n",
       "      <td>...</td>\n",
       "      <td>...</td>\n",
       "      <td>...</td>\n",
       "      <td>...</td>\n",
       "    </tr>\n",
       "    <tr>\n",
       "      <th>108910</th>\n",
       "      <td>1297419</td>\n",
       "      <td>2020-07-01</td>\n",
       "      <td>0.00</td>\n",
       "      <td>0</td>\n",
       "      <td>0</td>\n",
       "    </tr>\n",
       "    <tr>\n",
       "      <th>108911</th>\n",
       "      <td>1297421</td>\n",
       "      <td>2020-07-01</td>\n",
       "      <td>0.00</td>\n",
       "      <td>0</td>\n",
       "      <td>0</td>\n",
       "    </tr>\n",
       "    <tr>\n",
       "      <th>108912</th>\n",
       "      <td>1297424</td>\n",
       "      <td>2020-07-01</td>\n",
       "      <td>0.00</td>\n",
       "      <td>0</td>\n",
       "      <td>0</td>\n",
       "    </tr>\n",
       "    <tr>\n",
       "      <th>108913</th>\n",
       "      <td>1297498</td>\n",
       "      <td>2020-07-02</td>\n",
       "      <td>0.00</td>\n",
       "      <td>0</td>\n",
       "      <td>0</td>\n",
       "    </tr>\n",
       "    <tr>\n",
       "      <th>108914</th>\n",
       "      <td>1297531</td>\n",
       "      <td>2020-04-30</td>\n",
       "      <td>-64.00</td>\n",
       "      <td>-64</td>\n",
       "      <td>-64</td>\n",
       "    </tr>\n",
       "  </tbody>\n",
       "</table>\n",
       "<p>108915 rows × 5 columns</p>\n",
       "</div>"
      ],
      "text/plain": [
       "            idx       DATE  after_dis_duration_mean  after_dis_duration_min  \\\n",
       "0             6 2020-05-16                     0.00                       0   \n",
       "1            11 2020-05-16                     0.00                       0   \n",
       "2            28 2020-05-16                   -21.00                     -21   \n",
       "3            53 2020-05-05                   -16.00                     -43   \n",
       "4            60 2020-05-16                    -9.25                     -18   \n",
       "...         ...        ...                      ...                     ...   \n",
       "108910  1297419 2020-07-01                     0.00                       0   \n",
       "108911  1297421 2020-07-01                     0.00                       0   \n",
       "108912  1297424 2020-07-01                     0.00                       0   \n",
       "108913  1297498 2020-07-02                     0.00                       0   \n",
       "108914  1297531 2020-04-30                   -64.00                     -64   \n",
       "\n",
       "        after_dis_duration_max  \n",
       "0                            0  \n",
       "1                            0  \n",
       "2                          -21  \n",
       "3                           -8  \n",
       "4                           -3  \n",
       "...                        ...  \n",
       "108910                       0  \n",
       "108911                       0  \n",
       "108912                       0  \n",
       "108913                       0  \n",
       "108914                     -64  \n",
       "\n",
       "[108915 rows x 5 columns]"
      ]
     },
     "execution_count": 582,
     "metadata": {},
     "output_type": "execute_result"
    }
   ],
   "source": [
    "dis_date_res"
   ]
  },
  {
   "cell_type": "code",
   "execution_count": 583,
   "metadata": {},
   "outputs": [],
   "source": [
    "data_train = pd.merge(data_train, dis_date_res, on=['idx', 'DATE'], how='left')\n",
    "\n",
    "data_test.DATE = pd.to_datetime(data_test.DATE)\n",
    "data_test = pd.merge(data_test, dis_date_res, on=['idx', 'DATE'], how='left')"
   ]
  },
  {
   "cell_type": "code",
   "execution_count": 584,
   "metadata": {},
   "outputs": [
    {
     "name": "stdout",
     "output_type": "stream",
     "text": [
      "(131989, 2436)\n",
      "(33080, 2436)\n"
     ]
    }
   ],
   "source": [
    "print(data_train.shape)\n",
    "print(data_test.shape)"
   ]
  },
  {
   "cell_type": "markdown",
   "metadata": {
    "tags": []
   },
   "source": [
    "### Разделение covid"
   ]
  },
  {
   "cell_type": "code",
   "execution_count": 585,
   "metadata": {},
   "outputs": [],
   "source": [
    "# 1.Файл с данными результатов обследований на Ковид (описаны значимые поля):\n",
    "# IDX - анонимизированный идентификатор пациента. по нему файлы связаны между собой.\n",
    "# gender - пол пациента\n",
    "# birth_dt - Дата рождения\n",
    "# dis_date - Дата начала заболевания (со слов пациента или дата обращения за анализом)\n",
    "# samples_type_id - вид биоматериала\n",
    "# get_date - дата взятия биоматериала\n",
    "# IgG, IgM - значения уровня иммуноглобулинов (для биоматериала Кровь)\n",
    "# Samples_result_id - значение Обнаружено/не обнаружено (для биоматериала Мазок)\n",
    "# Mu_type - тип медучреждения, где выполнялось взятие биоматериала\n",
    "# covid = pd.read_csv('data/data_for_science_2020-07-27_w_mu_type.csv', sep=';')\n",
    "covid_data = covid[['idx', 'samples_type_id', \n",
    "                    'get_date_at', 'IgG', 'IgM', \n",
    "                    'samples_result_id', 'mu_type']].copy()\n",
    "\n",
    "covid_data = covid_data[covid_data.idx.isin(pd.concat([data_train, data_test]).idx.unique())].reset_index(drop=True)\n",
    "\n",
    "covid_data['get_date_at'] = pd.to_datetime(covid_data['get_date_at'])"
   ]
  },
  {
   "cell_type": "code",
   "execution_count": 586,
   "metadata": {},
   "outputs": [
    {
     "data": {
      "text/html": [
       "<div>\n",
       "<style scoped>\n",
       "    .dataframe tbody tr th:only-of-type {\n",
       "        vertical-align: middle;\n",
       "    }\n",
       "\n",
       "    .dataframe tbody tr th {\n",
       "        vertical-align: top;\n",
       "    }\n",
       "\n",
       "    .dataframe thead th {\n",
       "        text-align: right;\n",
       "    }\n",
       "</style>\n",
       "<table border=\"1\" class=\"dataframe\">\n",
       "  <thead>\n",
       "    <tr style=\"text-align: right;\">\n",
       "      <th></th>\n",
       "      <th>idx</th>\n",
       "      <th>DATE</th>\n",
       "      <th>KT_RESULT</th>\n",
       "    </tr>\n",
       "  </thead>\n",
       "  <tbody>\n",
       "    <tr>\n",
       "      <th>4</th>\n",
       "      <td>689401</td>\n",
       "      <td>2020-04-18</td>\n",
       "      <td>КТ-2</td>\n",
       "    </tr>\n",
       "    <tr>\n",
       "      <th>23156</th>\n",
       "      <td>689401</td>\n",
       "      <td>2020-05-20</td>\n",
       "      <td>КТ-0</td>\n",
       "    </tr>\n",
       "  </tbody>\n",
       "</table>\n",
       "</div>"
      ],
      "text/plain": [
       "          idx        DATE KT_RESULT\n",
       "4      689401  2020-04-18      КТ-2\n",
       "23156  689401  2020-05-20      КТ-0"
      ]
     },
     "execution_count": 586,
     "metadata": {},
     "output_type": "execute_result"
    }
   ],
   "source": [
    "kt_train[kt_train.idx == kt_train.idx.unique()[4]]"
   ]
  },
  {
   "cell_type": "code",
   "execution_count": 587,
   "metadata": {},
   "outputs": [
    {
     "data": {
      "text/html": [
       "<div>\n",
       "<style scoped>\n",
       "    .dataframe tbody tr th:only-of-type {\n",
       "        vertical-align: middle;\n",
       "    }\n",
       "\n",
       "    .dataframe tbody tr th {\n",
       "        vertical-align: top;\n",
       "    }\n",
       "\n",
       "    .dataframe thead th {\n",
       "        text-align: right;\n",
       "    }\n",
       "</style>\n",
       "<table border=\"1\" class=\"dataframe\">\n",
       "  <thead>\n",
       "    <tr style=\"text-align: right;\">\n",
       "      <th></th>\n",
       "      <th>idx</th>\n",
       "      <th>samples_type_id</th>\n",
       "      <th>get_date_at</th>\n",
       "      <th>IgG</th>\n",
       "      <th>IgM</th>\n",
       "      <th>samples_result_id</th>\n",
       "      <th>mu_type</th>\n",
       "    </tr>\n",
       "  </thead>\n",
       "  <tbody>\n",
       "    <tr>\n",
       "      <th>424911</th>\n",
       "      <td>689401</td>\n",
       "      <td>Мазок/отделяемое из носоглотки и ротоглотки</td>\n",
       "      <td>2020-04-29</td>\n",
       "      <td>NaN</td>\n",
       "      <td>NaN</td>\n",
       "      <td>Не обнаружено</td>\n",
       "      <td>Городская поликлиника</td>\n",
       "    </tr>\n",
       "  </tbody>\n",
       "</table>\n",
       "</div>"
      ],
      "text/plain": [
       "           idx                              samples_type_id get_date_at  IgG  \\\n",
       "424911  689401  Мазок/отделяемое из носоглотки и ротоглотки  2020-04-29  NaN   \n",
       "\n",
       "        IgM samples_result_id                mu_type  \n",
       "424911  NaN     Не обнаружено  Городская поликлиника  "
      ]
     },
     "execution_count": 587,
     "metadata": {},
     "output_type": "execute_result"
    }
   ],
   "source": [
    "covid_data[covid_data.idx == 689401].sort_values('get_date_at')"
   ]
  },
  {
   "cell_type": "code",
   "execution_count": 588,
   "metadata": {},
   "outputs": [
    {
     "data": {
      "text/plain": [
       "array(['Кровь, цельная (сыворотка)',\n",
       "       'Мазок/отделяемое из носоглотки и ротоглотки',\n",
       "       'Аутопсийный материал', 'Аспират из трахеи',\n",
       "       'Бронхоальвеолярный лаваж', 'Мокрота'], dtype=object)"
      ]
     },
     "execution_count": 588,
     "metadata": {},
     "output_type": "execute_result"
    }
   ],
   "source": [
    "covid_data.samples_type_id.unique()"
   ]
  },
  {
   "cell_type": "code",
   "execution_count": 589,
   "metadata": {},
   "outputs": [
    {
     "data": {
      "text/plain": [
       "array(['Городская поликлиника', 'Городская больница',\n",
       "       'Станция скорой помощи', 'Иное', 'Поликлиника', 'Больница',\n",
       "       'Федеральная медицинская организация', 'Центр',\n",
       "       'Детская городская поликлиника', 'КВД', 'Диспансер'], dtype=object)"
      ]
     },
     "execution_count": 589,
     "metadata": {},
     "output_type": "execute_result"
    }
   ],
   "source": [
    "covid_data.mu_type.unique()"
   ]
  },
  {
   "cell_type": "code",
   "execution_count": 590,
   "metadata": {
    "tags": []
   },
   "outputs": [],
   "source": [
    "# 'Кровь, цельная (сыворотка)' - IgG и IgM только для этого анализа\n",
    "# При этом samples_result_id всегда нулевой\n",
    "\n",
    "# А для остальных анализов samples_result_id всегда одно из трех значений \n",
    "# ['Не обнаружено', 'ОБНАРУЖЕНО', 'Подозрительный']\n",
    "\n",
    "covid_data_IgGM = covid_data[covid_data.samples_type_id == 'Кровь, цельная (сыворотка)'].reset_index(drop=True)\n",
    "covid_data_IgGM = covid_data_IgGM.drop(['samples_type_id', 'samples_result_id'], axis=1)\n",
    "\n",
    "covid_data_other = covid_data[covid_data.samples_type_id != 'Кровь, цельная (сыворотка)'].reset_index(drop=True)\n",
    "covid_data_other = covid_data_other.drop(['IgG', 'IgM'], axis=1)"
   ]
  },
  {
   "cell_type": "code",
   "execution_count": 591,
   "metadata": {},
   "outputs": [
    {
     "data": {
      "text/html": [
       "<div>\n",
       "<style scoped>\n",
       "    .dataframe tbody tr th:only-of-type {\n",
       "        vertical-align: middle;\n",
       "    }\n",
       "\n",
       "    .dataframe tbody tr th {\n",
       "        vertical-align: top;\n",
       "    }\n",
       "\n",
       "    .dataframe thead th {\n",
       "        text-align: right;\n",
       "    }\n",
       "</style>\n",
       "<table border=\"1\" class=\"dataframe\">\n",
       "  <thead>\n",
       "    <tr style=\"text-align: right;\">\n",
       "      <th></th>\n",
       "      <th>idx</th>\n",
       "      <th>get_date_at</th>\n",
       "      <th>IgG</th>\n",
       "      <th>IgM</th>\n",
       "      <th>mu_type</th>\n",
       "    </tr>\n",
       "  </thead>\n",
       "  <tbody>\n",
       "    <tr>\n",
       "      <th>0</th>\n",
       "      <td>6</td>\n",
       "      <td>2020-05-16</td>\n",
       "      <td>8.38</td>\n",
       "      <td>0.93</td>\n",
       "      <td>Городская поликлиника</td>\n",
       "    </tr>\n",
       "    <tr>\n",
       "      <th>1</th>\n",
       "      <td>11</td>\n",
       "      <td>2020-05-16</td>\n",
       "      <td>3.85</td>\n",
       "      <td>0.74</td>\n",
       "      <td>Городская поликлиника</td>\n",
       "    </tr>\n",
       "    <tr>\n",
       "      <th>2</th>\n",
       "      <td>21</td>\n",
       "      <td>2020-05-16</td>\n",
       "      <td>0.63</td>\n",
       "      <td>0.36</td>\n",
       "      <td>Городская поликлиника</td>\n",
       "    </tr>\n",
       "    <tr>\n",
       "      <th>3</th>\n",
       "      <td>28</td>\n",
       "      <td>2020-06-18</td>\n",
       "      <td>0.10</td>\n",
       "      <td>0.21</td>\n",
       "      <td>Городская поликлиника</td>\n",
       "    </tr>\n",
       "    <tr>\n",
       "      <th>4</th>\n",
       "      <td>28</td>\n",
       "      <td>2020-05-16</td>\n",
       "      <td>0.09</td>\n",
       "      <td>0.25</td>\n",
       "      <td>Городская поликлиника</td>\n",
       "    </tr>\n",
       "  </tbody>\n",
       "</table>\n",
       "</div>"
      ],
      "text/plain": [
       "   idx get_date_at   IgG   IgM                mu_type\n",
       "0    6  2020-05-16  8.38  0.93  Городская поликлиника\n",
       "1   11  2020-05-16  3.85  0.74  Городская поликлиника\n",
       "2   21  2020-05-16  0.63  0.36  Городская поликлиника\n",
       "3   28  2020-06-18  0.10  0.21  Городская поликлиника\n",
       "4   28  2020-05-16  0.09  0.25  Городская поликлиника"
      ]
     },
     "execution_count": 591,
     "metadata": {},
     "output_type": "execute_result"
    }
   ],
   "source": [
    "covid_data_IgGM.head()"
   ]
  },
  {
   "cell_type": "code",
   "execution_count": 592,
   "metadata": {},
   "outputs": [
    {
     "data": {
      "text/html": [
       "<div>\n",
       "<style scoped>\n",
       "    .dataframe tbody tr th:only-of-type {\n",
       "        vertical-align: middle;\n",
       "    }\n",
       "\n",
       "    .dataframe tbody tr th {\n",
       "        vertical-align: top;\n",
       "    }\n",
       "\n",
       "    .dataframe thead th {\n",
       "        text-align: right;\n",
       "    }\n",
       "</style>\n",
       "<table border=\"1\" class=\"dataframe\">\n",
       "  <thead>\n",
       "    <tr style=\"text-align: right;\">\n",
       "      <th></th>\n",
       "      <th>idx</th>\n",
       "      <th>samples_type_id</th>\n",
       "      <th>get_date_at</th>\n",
       "      <th>samples_result_id</th>\n",
       "      <th>mu_type</th>\n",
       "    </tr>\n",
       "  </thead>\n",
       "  <tbody>\n",
       "    <tr>\n",
       "      <th>0</th>\n",
       "      <td>6</td>\n",
       "      <td>Мазок/отделяемое из носоглотки и ротоглотки</td>\n",
       "      <td>2020-05-07</td>\n",
       "      <td>ОБНАРУЖЕНО</td>\n",
       "      <td>Городская поликлиника</td>\n",
       "    </tr>\n",
       "    <tr>\n",
       "      <th>1</th>\n",
       "      <td>6</td>\n",
       "      <td>Мазок/отделяемое из носоглотки и ротоглотки</td>\n",
       "      <td>2020-05-16</td>\n",
       "      <td>Не обнаружено</td>\n",
       "      <td>Городская поликлиника</td>\n",
       "    </tr>\n",
       "    <tr>\n",
       "      <th>2</th>\n",
       "      <td>6</td>\n",
       "      <td>Мазок/отделяемое из носоглотки и ротоглотки</td>\n",
       "      <td>2020-05-19</td>\n",
       "      <td>Не обнаружено</td>\n",
       "      <td>Городская поликлиника</td>\n",
       "    </tr>\n",
       "    <tr>\n",
       "      <th>3</th>\n",
       "      <td>11</td>\n",
       "      <td>Мазок/отделяемое из носоглотки и ротоглотки</td>\n",
       "      <td>2020-05-07</td>\n",
       "      <td>ОБНАРУЖЕНО</td>\n",
       "      <td>Городская поликлиника</td>\n",
       "    </tr>\n",
       "    <tr>\n",
       "      <th>4</th>\n",
       "      <td>11</td>\n",
       "      <td>Мазок/отделяемое из носоглотки и ротоглотки</td>\n",
       "      <td>2020-05-16</td>\n",
       "      <td>Не обнаружено</td>\n",
       "      <td>Городская поликлиника</td>\n",
       "    </tr>\n",
       "  </tbody>\n",
       "</table>\n",
       "</div>"
      ],
      "text/plain": [
       "   idx                              samples_type_id get_date_at  \\\n",
       "0    6  Мазок/отделяемое из носоглотки и ротоглотки  2020-05-07   \n",
       "1    6  Мазок/отделяемое из носоглотки и ротоглотки  2020-05-16   \n",
       "2    6  Мазок/отделяемое из носоглотки и ротоглотки  2020-05-19   \n",
       "3   11  Мазок/отделяемое из носоглотки и ротоглотки  2020-05-07   \n",
       "4   11  Мазок/отделяемое из носоглотки и ротоглотки  2020-05-16   \n",
       "\n",
       "  samples_result_id                mu_type  \n",
       "0        ОБНАРУЖЕНО  Городская поликлиника  \n",
       "1     Не обнаружено  Городская поликлиника  \n",
       "2     Не обнаружено  Городская поликлиника  \n",
       "3        ОБНАРУЖЕНО  Городская поликлиника  \n",
       "4     Не обнаружено  Городская поликлиника  "
      ]
     },
     "execution_count": 592,
     "metadata": {},
     "output_type": "execute_result"
    }
   ],
   "source": [
    "covid_data_other.head()"
   ]
  },
  {
   "cell_type": "markdown",
   "metadata": {
    "tags": [],
    "toc-hr-collapsed": true
   },
   "source": [
    "### covid_data_IgGM"
   ]
  },
  {
   "cell_type": "code",
   "execution_count": 593,
   "metadata": {},
   "outputs": [
    {
     "data": {
      "text/plain": [
       "(119213, 5)"
      ]
     },
     "execution_count": 593,
     "metadata": {},
     "output_type": "execute_result"
    }
   ],
   "source": [
    "covid_data_IgGM.shape"
   ]
  },
  {
   "cell_type": "code",
   "execution_count": 594,
   "metadata": {},
   "outputs": [],
   "source": [
    "covid_data_IgGM = pd.merge(covid_data_IgGM, \n",
    "                           pd.concat([data_train[['idx', 'DATE']], data_test[['idx', 'DATE']]]), \n",
    "                           on='idx', how='left')"
   ]
  },
  {
   "cell_type": "markdown",
   "metadata": {},
   "source": [
    "#### IgGM before"
   ]
  },
  {
   "cell_type": "code",
   "execution_count": 595,
   "metadata": {},
   "outputs": [],
   "source": [
    "covid_data_IgGM_before = covid_data_IgGM[covid_data_IgGM.get_date_at < pd.to_datetime(covid_data_IgGM.DATE)].reset_index(drop=True)"
   ]
  },
  {
   "cell_type": "code",
   "execution_count": 596,
   "metadata": {},
   "outputs": [
    {
     "data": {
      "text/plain": [
       "(19237, 6)"
      ]
     },
     "execution_count": 596,
     "metadata": {},
     "output_type": "execute_result"
    }
   ],
   "source": [
    "covid_data_IgGM_before.shape"
   ]
  },
  {
   "cell_type": "code",
   "execution_count": 597,
   "metadata": {},
   "outputs": [],
   "source": [
    "# covid_data_IgGM_good = covid_data_IgGM_before.copy()\n",
    "# covid_data_IgGM_good['get_date_at'] = pd.to_datetime(covid_data_IgGM_good['get_date_at'])\n",
    "# covid_data_IgGM_good['DATE'] = pd.to_datetime(covid_data_IgGM_good['DATE'])\n",
    "# covid_data_IgGM_good['date_diff'] = (covid_data_IgGM_good.DATE - covid_data_IgGM_good.get_date_at).apply(lambda x: x.days)"
   ]
  },
  {
   "cell_type": "code",
   "execution_count": 598,
   "metadata": {},
   "outputs": [],
   "source": [
    "# covid_data_IgGM_good_ = covid_data_IgGM_good.groupby(['idx', 'DATE']).date_diff.min().reset_index()\n",
    "# covid_data_IgGM_good_.shape"
   ]
  },
  {
   "cell_type": "code",
   "execution_count": 599,
   "metadata": {},
   "outputs": [],
   "source": [
    "# covid_data_IgGM_good = pd.merge(covid_data_IgGM_good_, covid_data_IgGM_good, \n",
    "#                                 on=['idx', 'DATE', 'date_diff'], how='left')"
   ]
  },
  {
   "cell_type": "code",
   "execution_count": 600,
   "metadata": {},
   "outputs": [],
   "source": [
    "# covid_data_IgGM_good.shape"
   ]
  },
  {
   "cell_type": "code",
   "execution_count": 601,
   "metadata": {},
   "outputs": [
    {
     "data": {
      "text/html": [
       "<div>\n",
       "<style scoped>\n",
       "    .dataframe tbody tr th:only-of-type {\n",
       "        vertical-align: middle;\n",
       "    }\n",
       "\n",
       "    .dataframe tbody tr th {\n",
       "        vertical-align: top;\n",
       "    }\n",
       "\n",
       "    .dataframe thead th {\n",
       "        text-align: right;\n",
       "    }\n",
       "</style>\n",
       "<table border=\"1\" class=\"dataframe\">\n",
       "  <thead>\n",
       "    <tr style=\"text-align: right;\">\n",
       "      <th></th>\n",
       "      <th>idx</th>\n",
       "      <th>DATE</th>\n",
       "      <th>mu_type</th>\n",
       "      <th>IgG</th>\n",
       "      <th>IgM</th>\n",
       "    </tr>\n",
       "  </thead>\n",
       "  <tbody>\n",
       "    <tr>\n",
       "      <th>0</th>\n",
       "      <td>60</td>\n",
       "      <td>2020-05-17</td>\n",
       "      <td>Городская поликлиника</td>\n",
       "      <td>1.23</td>\n",
       "      <td>0.43</td>\n",
       "    </tr>\n",
       "    <tr>\n",
       "      <th>1</th>\n",
       "      <td>92</td>\n",
       "      <td>2020-06-29</td>\n",
       "      <td>Городская поликлиника</td>\n",
       "      <td>0.19</td>\n",
       "      <td>2.38</td>\n",
       "    </tr>\n",
       "    <tr>\n",
       "      <th>2</th>\n",
       "      <td>160</td>\n",
       "      <td>2020-05-19</td>\n",
       "      <td>Городская поликлиника</td>\n",
       "      <td>0.27</td>\n",
       "      <td>1.43</td>\n",
       "    </tr>\n",
       "    <tr>\n",
       "      <th>3</th>\n",
       "      <td>173</td>\n",
       "      <td>2020-05-17</td>\n",
       "      <td>Городская поликлиника</td>\n",
       "      <td>136.41</td>\n",
       "      <td>6.48</td>\n",
       "    </tr>\n",
       "    <tr>\n",
       "      <th>4</th>\n",
       "      <td>177</td>\n",
       "      <td>2020-06-06</td>\n",
       "      <td>Городская поликлиника</td>\n",
       "      <td>122.39</td>\n",
       "      <td>3.39</td>\n",
       "    </tr>\n",
       "    <tr>\n",
       "      <th>...</th>\n",
       "      <td>...</td>\n",
       "      <td>...</td>\n",
       "      <td>...</td>\n",
       "      <td>...</td>\n",
       "      <td>...</td>\n",
       "    </tr>\n",
       "    <tr>\n",
       "      <th>16082</th>\n",
       "      <td>547862</td>\n",
       "      <td>2020-07-07</td>\n",
       "      <td>Городская поликлиника</td>\n",
       "      <td>2.64</td>\n",
       "      <td>3.79</td>\n",
       "    </tr>\n",
       "    <tr>\n",
       "      <th>16083</th>\n",
       "      <td>547865</td>\n",
       "      <td>2020-07-10</td>\n",
       "      <td>Городская поликлиника</td>\n",
       "      <td>26.66</td>\n",
       "      <td>6.21</td>\n",
       "    </tr>\n",
       "    <tr>\n",
       "      <th>16084</th>\n",
       "      <td>548482</td>\n",
       "      <td>2020-07-04</td>\n",
       "      <td>Городская поликлиника</td>\n",
       "      <td>1.11</td>\n",
       "      <td>0.35</td>\n",
       "    </tr>\n",
       "    <tr>\n",
       "      <th>16085</th>\n",
       "      <td>548541</td>\n",
       "      <td>2020-07-05</td>\n",
       "      <td>Городская поликлиника</td>\n",
       "      <td>6.33</td>\n",
       "      <td>10.54</td>\n",
       "    </tr>\n",
       "    <tr>\n",
       "      <th>16086</th>\n",
       "      <td>548963</td>\n",
       "      <td>2020-07-03</td>\n",
       "      <td>Городская поликлиника</td>\n",
       "      <td>7.90</td>\n",
       "      <td>0.34</td>\n",
       "    </tr>\n",
       "  </tbody>\n",
       "</table>\n",
       "<p>16087 rows × 5 columns</p>\n",
       "</div>"
      ],
      "text/plain": [
       "          idx       DATE                mu_type     IgG    IgM\n",
       "0          60 2020-05-17  Городская поликлиника    1.23   0.43\n",
       "1          92 2020-06-29  Городская поликлиника    0.19   2.38\n",
       "2         160 2020-05-19  Городская поликлиника    0.27   1.43\n",
       "3         173 2020-05-17  Городская поликлиника  136.41   6.48\n",
       "4         177 2020-06-06  Городская поликлиника  122.39   3.39\n",
       "...       ...        ...                    ...     ...    ...\n",
       "16082  547862 2020-07-07  Городская поликлиника    2.64   3.79\n",
       "16083  547865 2020-07-10  Городская поликлиника   26.66   6.21\n",
       "16084  548482 2020-07-04  Городская поликлиника    1.11   0.35\n",
       "16085  548541 2020-07-05  Городская поликлиника    6.33  10.54\n",
       "16086  548963 2020-07-03  Городская поликлиника    7.90   0.34\n",
       "\n",
       "[16087 rows x 5 columns]"
      ]
     },
     "execution_count": 601,
     "metadata": {},
     "output_type": "execute_result"
    }
   ],
   "source": [
    "covid_data_IgGM_before.groupby(['idx', 'DATE', 'mu_type']).agg({'IgG': 'mean', 'IgM': 'mean'}).reset_index()"
   ]
  },
  {
   "cell_type": "code",
   "execution_count": 602,
   "metadata": {},
   "outputs": [],
   "source": [
    "covid_data_IgGM_good_ = covid_data_IgGM_before.groupby(['idx', 'DATE', 'mu_type']) \\\n",
    "                                            .agg({'IgG': 'mean', 'IgM': 'mean'}).reset_index() \\\n",
    "                                            .rename(columns={'IgG': 'IgG_nearest_mean', 'IgM': 'IgM_nearest_mean'})\n",
    "\n",
    "covid_data_IgGM_good_['IgG_min'] = covid_data_IgGM_before.groupby(['idx', 'DATE', 'mu_type']).IgG.min().values\n",
    "covid_data_IgGM_good_['IgG_max'] = covid_data_IgGM_before.groupby(['idx', 'DATE', 'mu_type']).IgG.max().values\n",
    "\n",
    "covid_data_IgGM_good_['IgM_min'] = covid_data_IgGM_before.groupby(['idx', 'DATE', 'mu_type']).IgM.min().values\n",
    "covid_data_IgGM_good_['IgM_min'] = covid_data_IgGM_before.groupby(['idx', 'DATE', 'mu_type']).IgM.max().values\n",
    "\n",
    "covid_data_IgGM_good_['IgG_mean'] = covid_data_IgGM_before.groupby(['idx', 'DATE', 'mu_type']).IgG.mean().values\n",
    "covid_data_IgGM_good_['IgM_mean'] = covid_data_IgGM_before.groupby(['idx', 'DATE', 'mu_type']).IgM.mean().values"
   ]
  },
  {
   "cell_type": "code",
   "execution_count": 603,
   "metadata": {},
   "outputs": [
    {
     "data": {
      "text/html": [
       "<div>\n",
       "<style scoped>\n",
       "    .dataframe tbody tr th:only-of-type {\n",
       "        vertical-align: middle;\n",
       "    }\n",
       "\n",
       "    .dataframe tbody tr th {\n",
       "        vertical-align: top;\n",
       "    }\n",
       "\n",
       "    .dataframe thead th {\n",
       "        text-align: right;\n",
       "    }\n",
       "</style>\n",
       "<table border=\"1\" class=\"dataframe\">\n",
       "  <thead>\n",
       "    <tr style=\"text-align: right;\">\n",
       "      <th></th>\n",
       "      <th>idx</th>\n",
       "      <th>DATE</th>\n",
       "      <th>mu_type</th>\n",
       "      <th>IgG_nearest_mean</th>\n",
       "      <th>IgM_nearest_mean</th>\n",
       "      <th>IgG_min</th>\n",
       "      <th>IgG_max</th>\n",
       "      <th>IgM_min</th>\n",
       "      <th>IgG_mean</th>\n",
       "      <th>IgM_mean</th>\n",
       "    </tr>\n",
       "  </thead>\n",
       "  <tbody>\n",
       "    <tr>\n",
       "      <th>0</th>\n",
       "      <td>60</td>\n",
       "      <td>2020-05-17</td>\n",
       "      <td>Городская поликлиника</td>\n",
       "      <td>1.23</td>\n",
       "      <td>0.43</td>\n",
       "      <td>1.23</td>\n",
       "      <td>1.23</td>\n",
       "      <td>0.43</td>\n",
       "      <td>1.23</td>\n",
       "      <td>0.43</td>\n",
       "    </tr>\n",
       "    <tr>\n",
       "      <th>1</th>\n",
       "      <td>92</td>\n",
       "      <td>2020-06-29</td>\n",
       "      <td>Городская поликлиника</td>\n",
       "      <td>0.19</td>\n",
       "      <td>2.38</td>\n",
       "      <td>0.19</td>\n",
       "      <td>0.19</td>\n",
       "      <td>2.38</td>\n",
       "      <td>0.19</td>\n",
       "      <td>2.38</td>\n",
       "    </tr>\n",
       "    <tr>\n",
       "      <th>2</th>\n",
       "      <td>160</td>\n",
       "      <td>2020-05-19</td>\n",
       "      <td>Городская поликлиника</td>\n",
       "      <td>0.27</td>\n",
       "      <td>1.43</td>\n",
       "      <td>0.27</td>\n",
       "      <td>0.27</td>\n",
       "      <td>1.43</td>\n",
       "      <td>0.27</td>\n",
       "      <td>1.43</td>\n",
       "    </tr>\n",
       "    <tr>\n",
       "      <th>3</th>\n",
       "      <td>173</td>\n",
       "      <td>2020-05-17</td>\n",
       "      <td>Городская поликлиника</td>\n",
       "      <td>136.41</td>\n",
       "      <td>6.48</td>\n",
       "      <td>136.41</td>\n",
       "      <td>136.41</td>\n",
       "      <td>6.48</td>\n",
       "      <td>136.41</td>\n",
       "      <td>6.48</td>\n",
       "    </tr>\n",
       "    <tr>\n",
       "      <th>4</th>\n",
       "      <td>177</td>\n",
       "      <td>2020-06-06</td>\n",
       "      <td>Городская поликлиника</td>\n",
       "      <td>122.39</td>\n",
       "      <td>3.39</td>\n",
       "      <td>122.39</td>\n",
       "      <td>122.39</td>\n",
       "      <td>3.39</td>\n",
       "      <td>122.39</td>\n",
       "      <td>3.39</td>\n",
       "    </tr>\n",
       "    <tr>\n",
       "      <th>...</th>\n",
       "      <td>...</td>\n",
       "      <td>...</td>\n",
       "      <td>...</td>\n",
       "      <td>...</td>\n",
       "      <td>...</td>\n",
       "      <td>...</td>\n",
       "      <td>...</td>\n",
       "      <td>...</td>\n",
       "      <td>...</td>\n",
       "      <td>...</td>\n",
       "    </tr>\n",
       "    <tr>\n",
       "      <th>16082</th>\n",
       "      <td>547862</td>\n",
       "      <td>2020-07-07</td>\n",
       "      <td>Городская поликлиника</td>\n",
       "      <td>2.64</td>\n",
       "      <td>3.79</td>\n",
       "      <td>2.64</td>\n",
       "      <td>2.64</td>\n",
       "      <td>3.79</td>\n",
       "      <td>2.64</td>\n",
       "      <td>3.79</td>\n",
       "    </tr>\n",
       "    <tr>\n",
       "      <th>16083</th>\n",
       "      <td>547865</td>\n",
       "      <td>2020-07-10</td>\n",
       "      <td>Городская поликлиника</td>\n",
       "      <td>26.66</td>\n",
       "      <td>6.21</td>\n",
       "      <td>26.66</td>\n",
       "      <td>26.66</td>\n",
       "      <td>6.21</td>\n",
       "      <td>26.66</td>\n",
       "      <td>6.21</td>\n",
       "    </tr>\n",
       "    <tr>\n",
       "      <th>16084</th>\n",
       "      <td>548482</td>\n",
       "      <td>2020-07-04</td>\n",
       "      <td>Городская поликлиника</td>\n",
       "      <td>1.11</td>\n",
       "      <td>0.35</td>\n",
       "      <td>1.11</td>\n",
       "      <td>1.11</td>\n",
       "      <td>0.35</td>\n",
       "      <td>1.11</td>\n",
       "      <td>0.35</td>\n",
       "    </tr>\n",
       "    <tr>\n",
       "      <th>16085</th>\n",
       "      <td>548541</td>\n",
       "      <td>2020-07-05</td>\n",
       "      <td>Городская поликлиника</td>\n",
       "      <td>6.33</td>\n",
       "      <td>10.54</td>\n",
       "      <td>6.33</td>\n",
       "      <td>6.33</td>\n",
       "      <td>10.54</td>\n",
       "      <td>6.33</td>\n",
       "      <td>10.54</td>\n",
       "    </tr>\n",
       "    <tr>\n",
       "      <th>16086</th>\n",
       "      <td>548963</td>\n",
       "      <td>2020-07-03</td>\n",
       "      <td>Городская поликлиника</td>\n",
       "      <td>7.90</td>\n",
       "      <td>0.34</td>\n",
       "      <td>7.90</td>\n",
       "      <td>7.90</td>\n",
       "      <td>0.34</td>\n",
       "      <td>7.90</td>\n",
       "      <td>0.34</td>\n",
       "    </tr>\n",
       "  </tbody>\n",
       "</table>\n",
       "<p>16087 rows × 10 columns</p>\n",
       "</div>"
      ],
      "text/plain": [
       "          idx       DATE                mu_type  IgG_nearest_mean  \\\n",
       "0          60 2020-05-17  Городская поликлиника              1.23   \n",
       "1          92 2020-06-29  Городская поликлиника              0.19   \n",
       "2         160 2020-05-19  Городская поликлиника              0.27   \n",
       "3         173 2020-05-17  Городская поликлиника            136.41   \n",
       "4         177 2020-06-06  Городская поликлиника            122.39   \n",
       "...       ...        ...                    ...               ...   \n",
       "16082  547862 2020-07-07  Городская поликлиника              2.64   \n",
       "16083  547865 2020-07-10  Городская поликлиника             26.66   \n",
       "16084  548482 2020-07-04  Городская поликлиника              1.11   \n",
       "16085  548541 2020-07-05  Городская поликлиника              6.33   \n",
       "16086  548963 2020-07-03  Городская поликлиника              7.90   \n",
       "\n",
       "       IgM_nearest_mean  IgG_min  IgG_max  IgM_min  IgG_mean  IgM_mean  \n",
       "0                  0.43     1.23     1.23     0.43      1.23      0.43  \n",
       "1                  2.38     0.19     0.19     2.38      0.19      2.38  \n",
       "2                  1.43     0.27     0.27     1.43      0.27      1.43  \n",
       "3                  6.48   136.41   136.41     6.48    136.41      6.48  \n",
       "4                  3.39   122.39   122.39     3.39    122.39      3.39  \n",
       "...                 ...      ...      ...      ...       ...       ...  \n",
       "16082              3.79     2.64     2.64     3.79      2.64      3.79  \n",
       "16083              6.21    26.66    26.66     6.21     26.66      6.21  \n",
       "16084              0.35     1.11     1.11     0.35      1.11      0.35  \n",
       "16085             10.54     6.33     6.33    10.54      6.33     10.54  \n",
       "16086              0.34     7.90     7.90     0.34      7.90      0.34  \n",
       "\n",
       "[16087 rows x 10 columns]"
      ]
     },
     "execution_count": 603,
     "metadata": {},
     "output_type": "execute_result"
    }
   ],
   "source": [
    "covid_data_IgGM_good_"
   ]
  },
  {
   "cell_type": "code",
   "execution_count": 604,
   "metadata": {},
   "outputs": [],
   "source": [
    "temp_reses = []\n",
    "\n",
    "for col in covid_data_IgGM_good_.columns[3:]:\n",
    "\n",
    "    temp_res = pd.get_dummies(covid_data_IgGM_good_.mu_type)\n",
    "    temp_res.columns = [col+'_'+x for x in temp_res.columns]\n",
    "    temp_res.values[temp_res != 0] = covid_data_IgGM_good_[col]\n",
    "    temp_reses.append(temp_res)\n",
    "    \n",
    "covid_data_IgGM_res = pd.concat(temp_reses, axis=1)\n",
    "covid_data_IgGM_res[['idx', 'DATE']] = covid_data_IgGM_good_[['idx', 'DATE']]"
   ]
  },
  {
   "cell_type": "code",
   "execution_count": 605,
   "metadata": {},
   "outputs": [],
   "source": [
    "covid_data_IgGM_res = covid_data_IgGM_res.groupby(['idx', 'DATE']).max()"
   ]
  },
  {
   "cell_type": "code",
   "execution_count": 606,
   "metadata": {},
   "outputs": [],
   "source": [
    "data_train = pd.merge(data_train, covid_data_IgGM_res, on=['idx', 'DATE'], how='left')\n",
    "\n",
    "data_test.DATE = pd.to_datetime(data_test.DATE)\n",
    "data_test = pd.merge(data_test, covid_data_IgGM_res, on=['idx', 'DATE'], how='left')"
   ]
  },
  {
   "cell_type": "code",
   "execution_count": 607,
   "metadata": {},
   "outputs": [
    {
     "name": "stdout",
     "output_type": "stream",
     "text": [
      "(131989, 2506)\n",
      "(33080, 2506)\n"
     ]
    }
   ],
   "source": [
    "print(data_train.shape)\n",
    "print(data_test.shape)"
   ]
  },
  {
   "cell_type": "markdown",
   "metadata": {},
   "source": [
    "#### IgGM after"
   ]
  },
  {
   "cell_type": "code",
   "execution_count": 608,
   "metadata": {},
   "outputs": [],
   "source": [
    "covid_data_IgGM_after = covid_data_IgGM[covid_data_IgGM.get_date_at > pd.to_datetime(covid_data_IgGM.DATE)] \\\n",
    "                                        .reset_index(drop=True)"
   ]
  },
  {
   "cell_type": "code",
   "execution_count": 609,
   "metadata": {},
   "outputs": [
    {
     "data": {
      "text/plain": [
       "(78696, 6)"
      ]
     },
     "execution_count": 609,
     "metadata": {},
     "output_type": "execute_result"
    }
   ],
   "source": [
    "covid_data_IgGM_after.shape"
   ]
  },
  {
   "cell_type": "code",
   "execution_count": 610,
   "metadata": {},
   "outputs": [],
   "source": [
    "# covid_data_IgGM_good = covid_data_IgGM_after.copy()\n",
    "# covid_data_IgGM_good['get_date_at'] = pd.to_datetime(covid_data_IgGM_good['get_date_at'])\n",
    "# covid_data_IgGM_good['DATE'] = pd.to_datetime(covid_data_IgGM_good['DATE'])\n",
    "# covid_data_IgGM_good['date_diff'] = (covid_data_IgGM_good.DATE - covid_data_IgGM_good.get_date_at).apply(lambda x: x.days)"
   ]
  },
  {
   "cell_type": "code",
   "execution_count": 611,
   "metadata": {},
   "outputs": [],
   "source": [
    "# covid_data_IgGM_good_ = covid_data_IgGM_good.groupby(['idx', 'DATE']).date_diff.min().reset_index()\n",
    "# covid_data_IgGM_good_.shape"
   ]
  },
  {
   "cell_type": "code",
   "execution_count": 612,
   "metadata": {},
   "outputs": [],
   "source": [
    "# covid_data_IgGM_good = pd.merge(covid_data_IgGM_good_, covid_data_IgGM_good, \n",
    "#                                 on=['idx', 'DATE', 'date_diff'], how='left')"
   ]
  },
  {
   "cell_type": "code",
   "execution_count": 613,
   "metadata": {},
   "outputs": [],
   "source": [
    "# covid_data_IgGM_good.shape"
   ]
  },
  {
   "cell_type": "code",
   "execution_count": 614,
   "metadata": {},
   "outputs": [],
   "source": [
    "# covid_data_IgGM_good_ = covid_data_IgGM_good.groupby(['idx', 'DATE']) \\\n",
    "#                                             .agg({'IgG': 'mean', 'IgM': 'mean'}).reset_index() \\\n",
    "#                                             .rename(columns={'IgG': 'after_IgG_nearest_mean', 'IgM': 'after_IgM_nearest_mean'})\n",
    "\n",
    "# covid_data_IgGM_good_['after_IgG_min'] = covid_data_IgGM_after.groupby(['idx', 'DATE']).IgG.min().values\n",
    "# covid_data_IgGM_good_['after_IgG_max'] = covid_data_IgGM_after.groupby(['idx', 'DATE']).IgG.max().values\n",
    "\n",
    "# covid_data_IgGM_good_['after_IgM_min'] = covid_data_IgGM_after.groupby(['idx', 'DATE']).IgM.min().values\n",
    "# covid_data_IgGM_good_['after_IgM_min'] = covid_data_IgGM_after.groupby(['idx', 'DATE']).IgM.max().values\n",
    "\n",
    "# covid_data_IgGM_good_['after_IgG_mean'] = covid_data_IgGM_after.groupby(['idx', 'DATE']).IgG.mean().values\n",
    "# covid_data_IgGM_good_['after_IgM_mean'] = covid_data_IgGM_after.groupby(['idx', 'DATE']).IgM.mean().values"
   ]
  },
  {
   "cell_type": "code",
   "execution_count": 615,
   "metadata": {},
   "outputs": [],
   "source": [
    "covid_data_IgGM_good_ = covid_data_IgGM_after.groupby(['idx', 'DATE', 'mu_type']) \\\n",
    "                                            .agg({'IgG': 'mean', 'IgM': 'mean'}).reset_index() \\\n",
    "                                            .rename(columns={'IgG': 'after_IgG_nearest_mean', 'IgM': 'after_IgM_nearest_mean'})\n",
    "\n",
    "covid_data_IgGM_good_['after_IgG_min'] = covid_data_IgGM_after.groupby(['idx', 'DATE', 'mu_type']).IgG.min().values\n",
    "covid_data_IgGM_good_['after_IgG_max'] = covid_data_IgGM_after.groupby(['idx', 'DATE', 'mu_type']).IgG.max().values\n",
    "\n",
    "covid_data_IgGM_good_['after_IgM_min'] = covid_data_IgGM_after.groupby(['idx', 'DATE', 'mu_type']).IgM.min().values\n",
    "covid_data_IgGM_good_['after_IgM_min'] = covid_data_IgGM_after.groupby(['idx', 'DATE', 'mu_type']).IgM.max().values\n",
    "\n",
    "covid_data_IgGM_good_['after_IgG_mean'] = covid_data_IgGM_after.groupby(['idx', 'DATE', 'mu_type']).IgG.mean().values\n",
    "covid_data_IgGM_good_['after_IgM_mean'] = covid_data_IgGM_after.groupby(['idx', 'DATE', 'mu_type']).IgM.mean().values"
   ]
  },
  {
   "cell_type": "code",
   "execution_count": 616,
   "metadata": {},
   "outputs": [
    {
     "data": {
      "text/html": [
       "<div>\n",
       "<style scoped>\n",
       "    .dataframe tbody tr th:only-of-type {\n",
       "        vertical-align: middle;\n",
       "    }\n",
       "\n",
       "    .dataframe tbody tr th {\n",
       "        vertical-align: top;\n",
       "    }\n",
       "\n",
       "    .dataframe thead th {\n",
       "        text-align: right;\n",
       "    }\n",
       "</style>\n",
       "<table border=\"1\" class=\"dataframe\">\n",
       "  <thead>\n",
       "    <tr style=\"text-align: right;\">\n",
       "      <th></th>\n",
       "      <th>idx</th>\n",
       "      <th>DATE</th>\n",
       "      <th>mu_type</th>\n",
       "      <th>after_IgG_nearest_mean</th>\n",
       "      <th>after_IgM_nearest_mean</th>\n",
       "      <th>after_IgG_min</th>\n",
       "      <th>after_IgG_max</th>\n",
       "      <th>after_IgM_min</th>\n",
       "      <th>after_IgG_mean</th>\n",
       "      <th>after_IgM_mean</th>\n",
       "    </tr>\n",
       "  </thead>\n",
       "  <tbody>\n",
       "    <tr>\n",
       "      <th>0</th>\n",
       "      <td>28</td>\n",
       "      <td>2020-05-16</td>\n",
       "      <td>Городская поликлиника</td>\n",
       "      <td>0.095</td>\n",
       "      <td>0.33</td>\n",
       "      <td>0.09</td>\n",
       "      <td>0.10</td>\n",
       "      <td>0.45</td>\n",
       "      <td>0.095</td>\n",
       "      <td>0.33</td>\n",
       "    </tr>\n",
       "    <tr>\n",
       "      <th>1</th>\n",
       "      <td>53</td>\n",
       "      <td>2020-05-05</td>\n",
       "      <td>Городская поликлиника</td>\n",
       "      <td>76.445</td>\n",
       "      <td>1.65</td>\n",
       "      <td>68.04</td>\n",
       "      <td>84.85</td>\n",
       "      <td>2.40</td>\n",
       "      <td>76.445</td>\n",
       "      <td>1.65</td>\n",
       "    </tr>\n",
       "    <tr>\n",
       "      <th>2</th>\n",
       "      <td>83</td>\n",
       "      <td>2020-05-15</td>\n",
       "      <td>Городская поликлиника</td>\n",
       "      <td>0.580</td>\n",
       "      <td>0.23</td>\n",
       "      <td>0.58</td>\n",
       "      <td>0.58</td>\n",
       "      <td>0.23</td>\n",
       "      <td>0.580</td>\n",
       "      <td>0.23</td>\n",
       "    </tr>\n",
       "    <tr>\n",
       "      <th>3</th>\n",
       "      <td>89</td>\n",
       "      <td>2020-05-17</td>\n",
       "      <td>Городская поликлиника</td>\n",
       "      <td>90.940</td>\n",
       "      <td>5.98</td>\n",
       "      <td>90.94</td>\n",
       "      <td>90.94</td>\n",
       "      <td>5.98</td>\n",
       "      <td>90.940</td>\n",
       "      <td>5.98</td>\n",
       "    </tr>\n",
       "    <tr>\n",
       "      <th>4</th>\n",
       "      <td>91</td>\n",
       "      <td>2020-05-17</td>\n",
       "      <td>Городская поликлиника</td>\n",
       "      <td>59.060</td>\n",
       "      <td>0.91</td>\n",
       "      <td>59.06</td>\n",
       "      <td>59.06</td>\n",
       "      <td>0.91</td>\n",
       "      <td>59.060</td>\n",
       "      <td>0.91</td>\n",
       "    </tr>\n",
       "    <tr>\n",
       "      <th>...</th>\n",
       "      <td>...</td>\n",
       "      <td>...</td>\n",
       "      <td>...</td>\n",
       "      <td>...</td>\n",
       "      <td>...</td>\n",
       "      <td>...</td>\n",
       "      <td>...</td>\n",
       "      <td>...</td>\n",
       "      <td>...</td>\n",
       "      <td>...</td>\n",
       "    </tr>\n",
       "    <tr>\n",
       "      <th>56911</th>\n",
       "      <td>548868</td>\n",
       "      <td>2020-06-18</td>\n",
       "      <td>Городская поликлиника</td>\n",
       "      <td>5.760</td>\n",
       "      <td>0.36</td>\n",
       "      <td>5.76</td>\n",
       "      <td>5.76</td>\n",
       "      <td>0.36</td>\n",
       "      <td>5.760</td>\n",
       "      <td>0.36</td>\n",
       "    </tr>\n",
       "    <tr>\n",
       "      <th>56912</th>\n",
       "      <td>548949</td>\n",
       "      <td>2020-06-30</td>\n",
       "      <td>Городская поликлиника</td>\n",
       "      <td>114.910</td>\n",
       "      <td>2.02</td>\n",
       "      <td>114.91</td>\n",
       "      <td>114.91</td>\n",
       "      <td>2.02</td>\n",
       "      <td>114.910</td>\n",
       "      <td>2.02</td>\n",
       "    </tr>\n",
       "    <tr>\n",
       "      <th>56913</th>\n",
       "      <td>548963</td>\n",
       "      <td>2020-05-08</td>\n",
       "      <td>Городская поликлиника</td>\n",
       "      <td>7.900</td>\n",
       "      <td>0.34</td>\n",
       "      <td>7.90</td>\n",
       "      <td>7.90</td>\n",
       "      <td>0.34</td>\n",
       "      <td>7.900</td>\n",
       "      <td>0.34</td>\n",
       "    </tr>\n",
       "    <tr>\n",
       "      <th>56914</th>\n",
       "      <td>548991</td>\n",
       "      <td>2020-05-04</td>\n",
       "      <td>Городская поликлиника</td>\n",
       "      <td>1.810</td>\n",
       "      <td>0.36</td>\n",
       "      <td>1.81</td>\n",
       "      <td>1.81</td>\n",
       "      <td>0.36</td>\n",
       "      <td>1.810</td>\n",
       "      <td>0.36</td>\n",
       "    </tr>\n",
       "    <tr>\n",
       "      <th>56915</th>\n",
       "      <td>548998</td>\n",
       "      <td>2020-06-23</td>\n",
       "      <td>Городская поликлиника</td>\n",
       "      <td>69.410</td>\n",
       "      <td>6.56</td>\n",
       "      <td>69.41</td>\n",
       "      <td>69.41</td>\n",
       "      <td>6.56</td>\n",
       "      <td>69.410</td>\n",
       "      <td>6.56</td>\n",
       "    </tr>\n",
       "  </tbody>\n",
       "</table>\n",
       "<p>56916 rows × 10 columns</p>\n",
       "</div>"
      ],
      "text/plain": [
       "          idx       DATE                mu_type  after_IgG_nearest_mean  \\\n",
       "0          28 2020-05-16  Городская поликлиника                   0.095   \n",
       "1          53 2020-05-05  Городская поликлиника                  76.445   \n",
       "2          83 2020-05-15  Городская поликлиника                   0.580   \n",
       "3          89 2020-05-17  Городская поликлиника                  90.940   \n",
       "4          91 2020-05-17  Городская поликлиника                  59.060   \n",
       "...       ...        ...                    ...                     ...   \n",
       "56911  548868 2020-06-18  Городская поликлиника                   5.760   \n",
       "56912  548949 2020-06-30  Городская поликлиника                 114.910   \n",
       "56913  548963 2020-05-08  Городская поликлиника                   7.900   \n",
       "56914  548991 2020-05-04  Городская поликлиника                   1.810   \n",
       "56915  548998 2020-06-23  Городская поликлиника                  69.410   \n",
       "\n",
       "       after_IgM_nearest_mean  after_IgG_min  after_IgG_max  after_IgM_min  \\\n",
       "0                        0.33           0.09           0.10           0.45   \n",
       "1                        1.65          68.04          84.85           2.40   \n",
       "2                        0.23           0.58           0.58           0.23   \n",
       "3                        5.98          90.94          90.94           5.98   \n",
       "4                        0.91          59.06          59.06           0.91   \n",
       "...                       ...            ...            ...            ...   \n",
       "56911                    0.36           5.76           5.76           0.36   \n",
       "56912                    2.02         114.91         114.91           2.02   \n",
       "56913                    0.34           7.90           7.90           0.34   \n",
       "56914                    0.36           1.81           1.81           0.36   \n",
       "56915                    6.56          69.41          69.41           6.56   \n",
       "\n",
       "       after_IgG_mean  after_IgM_mean  \n",
       "0               0.095            0.33  \n",
       "1              76.445            1.65  \n",
       "2               0.580            0.23  \n",
       "3              90.940            5.98  \n",
       "4              59.060            0.91  \n",
       "...               ...             ...  \n",
       "56911           5.760            0.36  \n",
       "56912         114.910            2.02  \n",
       "56913           7.900            0.34  \n",
       "56914           1.810            0.36  \n",
       "56915          69.410            6.56  \n",
       "\n",
       "[56916 rows x 10 columns]"
      ]
     },
     "execution_count": 616,
     "metadata": {},
     "output_type": "execute_result"
    }
   ],
   "source": [
    "covid_data_IgGM_good_"
   ]
  },
  {
   "cell_type": "code",
   "execution_count": 617,
   "metadata": {},
   "outputs": [],
   "source": [
    "temp_reses = []\n",
    "\n",
    "for col in covid_data_IgGM_good_.columns[3:]:\n",
    "\n",
    "    temp_res = pd.get_dummies(covid_data_IgGM_good_.mu_type)\n",
    "    temp_res.columns = [col+'_'+x for x in temp_res.columns]\n",
    "    temp_res.values[temp_res != 0] = covid_data_IgGM_good_[col]\n",
    "    temp_reses.append(temp_res)\n",
    "    \n",
    "covid_data_IgGM_res = pd.concat(temp_reses, axis=1)\n",
    "covid_data_IgGM_res[['idx', 'DATE']] = covid_data_IgGM_good_[['idx', 'DATE']]"
   ]
  },
  {
   "cell_type": "code",
   "execution_count": 618,
   "metadata": {},
   "outputs": [],
   "source": [
    "covid_data_IgGM_res = covid_data_IgGM_res.groupby(['idx', 'DATE']).max()"
   ]
  },
  {
   "cell_type": "code",
   "execution_count": 619,
   "metadata": {},
   "outputs": [],
   "source": [
    "data_train = pd.merge(data_train, covid_data_IgGM_res, on=['idx', 'DATE'], how='left')\n",
    "\n",
    "data_test.DATE = pd.to_datetime(data_test.DATE)\n",
    "data_test = pd.merge(data_test, covid_data_IgGM_res, on=['idx', 'DATE'], how='left')"
   ]
  },
  {
   "cell_type": "code",
   "execution_count": 620,
   "metadata": {},
   "outputs": [
    {
     "name": "stdout",
     "output_type": "stream",
     "text": [
      "(131989, 2576)\n",
      "(33080, 2576)\n"
     ]
    }
   ],
   "source": [
    "print(data_train.shape)\n",
    "print(data_test.shape)"
   ]
  },
  {
   "cell_type": "markdown",
   "metadata": {},
   "source": [
    "#### IgGM in"
   ]
  },
  {
   "cell_type": "code",
   "execution_count": 621,
   "metadata": {},
   "outputs": [],
   "source": [
    "covid_data_IgGM_in = covid_data_IgGM[covid_data_IgGM.get_date_at == pd.to_datetime(covid_data_IgGM.DATE)] \\\n",
    "                                        .reset_index(drop=True)"
   ]
  },
  {
   "cell_type": "code",
   "execution_count": 622,
   "metadata": {},
   "outputs": [],
   "source": [
    "covid_data_IgGM_good_ = covid_data_IgGM_in.groupby(['idx', 'DATE', 'mu_type']) \\\n",
    "                                            .agg({'IgG': 'mean', 'IgM': 'mean'}).reset_index() \\\n",
    "                                            .rename(columns={'IgG': 'in_IgG_nearest_mean', 'IgM': 'in_IgM_nearest_mean'})\n",
    "\n",
    "covid_data_IgGM_good_['in_IgG_min'] = covid_data_IgGM_in.groupby(['idx', 'DATE', 'mu_type']).IgG.min().values\n",
    "covid_data_IgGM_good_['in_IgG_max'] = covid_data_IgGM_in.groupby(['idx', 'DATE', 'mu_type']).IgG.max().values\n",
    "\n",
    "covid_data_IgGM_good_['in_IgM_min'] = covid_data_IgGM_in.groupby(['idx', 'DATE', 'mu_type']).IgM.min().values\n",
    "covid_data_IgGM_good_['in_IgM_min'] = covid_data_IgGM_in.groupby(['idx', 'DATE', 'mu_type']).IgM.max().values\n",
    "\n",
    "covid_data_IgGM_good_['in_IgG_mean'] = covid_data_IgGM_in.groupby(['idx', 'DATE', 'mu_type']).IgG.mean().values\n",
    "covid_data_IgGM_good_['in_IgM_mean'] = covid_data_IgGM_in.groupby(['idx', 'DATE', 'mu_type']).IgM.mean().values"
   ]
  },
  {
   "cell_type": "code",
   "execution_count": 623,
   "metadata": {},
   "outputs": [
    {
     "data": {
      "text/html": [
       "<div>\n",
       "<style scoped>\n",
       "    .dataframe tbody tr th:only-of-type {\n",
       "        vertical-align: middle;\n",
       "    }\n",
       "\n",
       "    .dataframe tbody tr th {\n",
       "        vertical-align: top;\n",
       "    }\n",
       "\n",
       "    .dataframe thead th {\n",
       "        text-align: right;\n",
       "    }\n",
       "</style>\n",
       "<table border=\"1\" class=\"dataframe\">\n",
       "  <thead>\n",
       "    <tr style=\"text-align: right;\">\n",
       "      <th></th>\n",
       "      <th>idx</th>\n",
       "      <th>DATE</th>\n",
       "      <th>mu_type</th>\n",
       "      <th>in_IgG_nearest_mean</th>\n",
       "      <th>in_IgM_nearest_mean</th>\n",
       "      <th>in_IgG_min</th>\n",
       "      <th>in_IgG_max</th>\n",
       "      <th>in_IgM_min</th>\n",
       "      <th>in_IgG_mean</th>\n",
       "      <th>in_IgM_mean</th>\n",
       "    </tr>\n",
       "  </thead>\n",
       "  <tbody>\n",
       "    <tr>\n",
       "      <th>0</th>\n",
       "      <td>6</td>\n",
       "      <td>2020-05-16</td>\n",
       "      <td>Городская поликлиника</td>\n",
       "      <td>8.38</td>\n",
       "      <td>0.93</td>\n",
       "      <td>8.38</td>\n",
       "      <td>8.38</td>\n",
       "      <td>0.93</td>\n",
       "      <td>8.38</td>\n",
       "      <td>0.93</td>\n",
       "    </tr>\n",
       "    <tr>\n",
       "      <th>1</th>\n",
       "      <td>11</td>\n",
       "      <td>2020-05-16</td>\n",
       "      <td>Городская поликлиника</td>\n",
       "      <td>3.85</td>\n",
       "      <td>0.74</td>\n",
       "      <td>3.85</td>\n",
       "      <td>3.85</td>\n",
       "      <td>0.74</td>\n",
       "      <td>3.85</td>\n",
       "      <td>0.74</td>\n",
       "    </tr>\n",
       "    <tr>\n",
       "      <th>2</th>\n",
       "      <td>21</td>\n",
       "      <td>2020-05-16</td>\n",
       "      <td>Городская поликлиника</td>\n",
       "      <td>0.63</td>\n",
       "      <td>0.36</td>\n",
       "      <td>0.63</td>\n",
       "      <td>0.63</td>\n",
       "      <td>0.36</td>\n",
       "      <td>0.63</td>\n",
       "      <td>0.36</td>\n",
       "    </tr>\n",
       "    <tr>\n",
       "      <th>3</th>\n",
       "      <td>28</td>\n",
       "      <td>2020-05-16</td>\n",
       "      <td>Городская поликлиника</td>\n",
       "      <td>0.09</td>\n",
       "      <td>0.25</td>\n",
       "      <td>0.09</td>\n",
       "      <td>0.09</td>\n",
       "      <td>0.25</td>\n",
       "      <td>0.09</td>\n",
       "      <td>0.25</td>\n",
       "    </tr>\n",
       "    <tr>\n",
       "      <th>4</th>\n",
       "      <td>51</td>\n",
       "      <td>2020-05-16</td>\n",
       "      <td>Городская поликлиника</td>\n",
       "      <td>1.38</td>\n",
       "      <td>0.21</td>\n",
       "      <td>1.38</td>\n",
       "      <td>1.38</td>\n",
       "      <td>0.21</td>\n",
       "      <td>1.38</td>\n",
       "      <td>0.21</td>\n",
       "    </tr>\n",
       "    <tr>\n",
       "      <th>...</th>\n",
       "      <td>...</td>\n",
       "      <td>...</td>\n",
       "      <td>...</td>\n",
       "      <td>...</td>\n",
       "      <td>...</td>\n",
       "      <td>...</td>\n",
       "      <td>...</td>\n",
       "      <td>...</td>\n",
       "      <td>...</td>\n",
       "      <td>...</td>\n",
       "    </tr>\n",
       "    <tr>\n",
       "      <th>54958</th>\n",
       "      <td>548476</td>\n",
       "      <td>2020-07-02</td>\n",
       "      <td>Городская поликлиника</td>\n",
       "      <td>2.69</td>\n",
       "      <td>0.54</td>\n",
       "      <td>2.69</td>\n",
       "      <td>2.69</td>\n",
       "      <td>0.54</td>\n",
       "      <td>2.69</td>\n",
       "      <td>0.54</td>\n",
       "    </tr>\n",
       "    <tr>\n",
       "      <th>54959</th>\n",
       "      <td>548566</td>\n",
       "      <td>2020-07-02</td>\n",
       "      <td>Городская поликлиника</td>\n",
       "      <td>0.93</td>\n",
       "      <td>1.71</td>\n",
       "      <td>0.93</td>\n",
       "      <td>0.93</td>\n",
       "      <td>1.71</td>\n",
       "      <td>0.93</td>\n",
       "      <td>1.71</td>\n",
       "    </tr>\n",
       "    <tr>\n",
       "      <th>54960</th>\n",
       "      <td>548710</td>\n",
       "      <td>2020-07-02</td>\n",
       "      <td>Городская поликлиника</td>\n",
       "      <td>158.88</td>\n",
       "      <td>0.77</td>\n",
       "      <td>158.88</td>\n",
       "      <td>158.88</td>\n",
       "      <td>0.77</td>\n",
       "      <td>158.88</td>\n",
       "      <td>0.77</td>\n",
       "    </tr>\n",
       "    <tr>\n",
       "      <th>54961</th>\n",
       "      <td>548712</td>\n",
       "      <td>2020-07-02</td>\n",
       "      <td>Городская поликлиника</td>\n",
       "      <td>89.47</td>\n",
       "      <td>1.81</td>\n",
       "      <td>89.47</td>\n",
       "      <td>89.47</td>\n",
       "      <td>1.81</td>\n",
       "      <td>89.47</td>\n",
       "      <td>1.81</td>\n",
       "    </tr>\n",
       "    <tr>\n",
       "      <th>54962</th>\n",
       "      <td>548750</td>\n",
       "      <td>2020-07-01</td>\n",
       "      <td>Городская поликлиника</td>\n",
       "      <td>9.03</td>\n",
       "      <td>0.67</td>\n",
       "      <td>9.03</td>\n",
       "      <td>9.03</td>\n",
       "      <td>0.67</td>\n",
       "      <td>9.03</td>\n",
       "      <td>0.67</td>\n",
       "    </tr>\n",
       "  </tbody>\n",
       "</table>\n",
       "<p>54963 rows × 10 columns</p>\n",
       "</div>"
      ],
      "text/plain": [
       "          idx       DATE                mu_type  in_IgG_nearest_mean  \\\n",
       "0           6 2020-05-16  Городская поликлиника                 8.38   \n",
       "1          11 2020-05-16  Городская поликлиника                 3.85   \n",
       "2          21 2020-05-16  Городская поликлиника                 0.63   \n",
       "3          28 2020-05-16  Городская поликлиника                 0.09   \n",
       "4          51 2020-05-16  Городская поликлиника                 1.38   \n",
       "...       ...        ...                    ...                  ...   \n",
       "54958  548476 2020-07-02  Городская поликлиника                 2.69   \n",
       "54959  548566 2020-07-02  Городская поликлиника                 0.93   \n",
       "54960  548710 2020-07-02  Городская поликлиника               158.88   \n",
       "54961  548712 2020-07-02  Городская поликлиника                89.47   \n",
       "54962  548750 2020-07-01  Городская поликлиника                 9.03   \n",
       "\n",
       "       in_IgM_nearest_mean  in_IgG_min  in_IgG_max  in_IgM_min  in_IgG_mean  \\\n",
       "0                     0.93        8.38        8.38        0.93         8.38   \n",
       "1                     0.74        3.85        3.85        0.74         3.85   \n",
       "2                     0.36        0.63        0.63        0.36         0.63   \n",
       "3                     0.25        0.09        0.09        0.25         0.09   \n",
       "4                     0.21        1.38        1.38        0.21         1.38   \n",
       "...                    ...         ...         ...         ...          ...   \n",
       "54958                 0.54        2.69        2.69        0.54         2.69   \n",
       "54959                 1.71        0.93        0.93        1.71         0.93   \n",
       "54960                 0.77      158.88      158.88        0.77       158.88   \n",
       "54961                 1.81       89.47       89.47        1.81        89.47   \n",
       "54962                 0.67        9.03        9.03        0.67         9.03   \n",
       "\n",
       "       in_IgM_mean  \n",
       "0             0.93  \n",
       "1             0.74  \n",
       "2             0.36  \n",
       "3             0.25  \n",
       "4             0.21  \n",
       "...            ...  \n",
       "54958         0.54  \n",
       "54959         1.71  \n",
       "54960         0.77  \n",
       "54961         1.81  \n",
       "54962         0.67  \n",
       "\n",
       "[54963 rows x 10 columns]"
      ]
     },
     "execution_count": 623,
     "metadata": {},
     "output_type": "execute_result"
    }
   ],
   "source": [
    "covid_data_IgGM_good_"
   ]
  },
  {
   "cell_type": "code",
   "execution_count": 624,
   "metadata": {},
   "outputs": [],
   "source": [
    "temp_reses = []\n",
    "\n",
    "for col in covid_data_IgGM_good_.columns[3:]:\n",
    "\n",
    "    temp_res = pd.get_dummies(covid_data_IgGM_good_.mu_type)\n",
    "    temp_res.columns = [col+'_'+x for x in temp_res.columns]\n",
    "    temp_res.values[temp_res != 0] = covid_data_IgGM_good_[col]\n",
    "    temp_reses.append(temp_res)\n",
    "    \n",
    "covid_data_IgGM_res = pd.concat(temp_reses, axis=1)\n",
    "covid_data_IgGM_res[['idx', 'DATE']] = covid_data_IgGM_good_[['idx', 'DATE']]"
   ]
  },
  {
   "cell_type": "code",
   "execution_count": 625,
   "metadata": {},
   "outputs": [],
   "source": [
    "covid_data_IgGM_res = covid_data_IgGM_res.groupby(['idx', 'DATE']).max()"
   ]
  },
  {
   "cell_type": "code",
   "execution_count": 626,
   "metadata": {},
   "outputs": [],
   "source": [
    "data_train = pd.merge(data_train, covid_data_IgGM_res, on=['idx', 'DATE'], how='left')\n",
    "\n",
    "data_test.DATE = pd.to_datetime(data_test.DATE)\n",
    "data_test = pd.merge(data_test, covid_data_IgGM_res, on=['idx', 'DATE'], how='left')"
   ]
  },
  {
   "cell_type": "code",
   "execution_count": 627,
   "metadata": {},
   "outputs": [
    {
     "name": "stdout",
     "output_type": "stream",
     "text": [
      "(131989, 2625)\n",
      "(33080, 2625)\n"
     ]
    }
   ],
   "source": [
    "print(data_train.shape)\n",
    "print(data_test.shape)"
   ]
  },
  {
   "cell_type": "markdown",
   "metadata": {
    "tags": [],
    "toc-hr-collapsed": true
   },
   "source": [
    "### covid_data_other"
   ]
  },
  {
   "cell_type": "code",
   "execution_count": 628,
   "metadata": {},
   "outputs": [],
   "source": [
    "samples_result_id_replace = {'ОБНАРУЖЕНО': 3, 'Не обнаружено': 0, 'Подозрительный': 1}\n",
    "covid_data_other = covid_data_other.replace({'samples_result_id': samples_result_id_replace})"
   ]
  },
  {
   "cell_type": "code",
   "execution_count": 629,
   "metadata": {},
   "outputs": [],
   "source": [
    "covid_data_other = pd.merge(covid_data_other, \n",
    "                            pd.concat([data_train[['idx', 'DATE']], data_test[['idx', 'DATE']]]), \n",
    "                            on='idx', how='left')\n",
    "\n",
    "covid_data_other.get_date_at = pd.to_datetime(covid_data_other.get_date_at)\n",
    "covid_data_other.DATE = pd.to_datetime(covid_data_other.DATE)\n",
    "covid_data_other['date_diff'] = (covid_data_other.DATE - covid_data_other.get_date_at).apply(lambda x: x.days)"
   ]
  },
  {
   "cell_type": "code",
   "execution_count": 630,
   "metadata": {},
   "outputs": [
    {
     "data": {
      "text/plain": [
       "count    486060.000000\n",
       "mean         -4.913465\n",
       "std          17.750540\n",
       "min         -75.000000\n",
       "25%         -15.000000\n",
       "50%          -3.000000\n",
       "75%           1.000000\n",
       "max          82.000000\n",
       "Name: date_diff, dtype: float64"
      ]
     },
     "execution_count": 630,
     "metadata": {},
     "output_type": "execute_result"
    }
   ],
   "source": [
    "covid_data_other['date_diff'].describe()"
   ]
  },
  {
   "cell_type": "markdown",
   "metadata": {},
   "source": [
    "#### other all"
   ]
  },
  {
   "cell_type": "code",
   "execution_count": 639,
   "metadata": {},
   "outputs": [],
   "source": [
    "all_covid_data_other = covid_data_other.copy()"
   ]
  },
  {
   "cell_type": "code",
   "execution_count": 640,
   "metadata": {},
   "outputs": [],
   "source": [
    "all_covid_data_other['name'] = all_covid_data_other.apply(lambda x: str(x[3])+'_'+str(x[1]), axis=1)"
   ]
  },
  {
   "cell_type": "code",
   "execution_count": 644,
   "metadata": {},
   "outputs": [],
   "source": [
    "all_covid_data_other = all_covid_data_other.groupby(['idx', 'DATE', 'name']).samples_result_id.count().reset_index()"
   ]
  },
  {
   "cell_type": "code",
   "execution_count": 645,
   "metadata": {},
   "outputs": [
    {
     "data": {
      "text/html": [
       "<div>\n",
       "<style scoped>\n",
       "    .dataframe tbody tr th:only-of-type {\n",
       "        vertical-align: middle;\n",
       "    }\n",
       "\n",
       "    .dataframe tbody tr th {\n",
       "        vertical-align: top;\n",
       "    }\n",
       "\n",
       "    .dataframe thead th {\n",
       "        text-align: right;\n",
       "    }\n",
       "</style>\n",
       "<table border=\"1\" class=\"dataframe\">\n",
       "  <thead>\n",
       "    <tr style=\"text-align: right;\">\n",
       "      <th></th>\n",
       "      <th>idx</th>\n",
       "      <th>DATE</th>\n",
       "      <th>name</th>\n",
       "      <th>samples_result_id</th>\n",
       "    </tr>\n",
       "  </thead>\n",
       "  <tbody>\n",
       "    <tr>\n",
       "      <th>0</th>\n",
       "      <td>6</td>\n",
       "      <td>2020-05-16</td>\n",
       "      <td>0_Мазок/отделяемое из носоглотки и ротоглотки</td>\n",
       "      <td>2</td>\n",
       "    </tr>\n",
       "    <tr>\n",
       "      <th>1</th>\n",
       "      <td>6</td>\n",
       "      <td>2020-05-16</td>\n",
       "      <td>3_Мазок/отделяемое из носоглотки и ротоглотки</td>\n",
       "      <td>1</td>\n",
       "    </tr>\n",
       "    <tr>\n",
       "      <th>2</th>\n",
       "      <td>11</td>\n",
       "      <td>2020-05-16</td>\n",
       "      <td>0_Мазок/отделяемое из носоглотки и ротоглотки</td>\n",
       "      <td>2</td>\n",
       "    </tr>\n",
       "    <tr>\n",
       "      <th>3</th>\n",
       "      <td>11</td>\n",
       "      <td>2020-05-16</td>\n",
       "      <td>3_Мазок/отделяемое из носоглотки и ротоглотки</td>\n",
       "      <td>1</td>\n",
       "    </tr>\n",
       "    <tr>\n",
       "      <th>4</th>\n",
       "      <td>21</td>\n",
       "      <td>2020-05-16</td>\n",
       "      <td>0_Мазок/отделяемое из носоглотки и ротоглотки</td>\n",
       "      <td>1</td>\n",
       "    </tr>\n",
       "  </tbody>\n",
       "</table>\n",
       "</div>"
      ],
      "text/plain": [
       "   idx       DATE                                           name  \\\n",
       "0    6 2020-05-16  0_Мазок/отделяемое из носоглотки и ротоглотки   \n",
       "1    6 2020-05-16  3_Мазок/отделяемое из носоглотки и ротоглотки   \n",
       "2   11 2020-05-16  0_Мазок/отделяемое из носоглотки и ротоглотки   \n",
       "3   11 2020-05-16  3_Мазок/отделяемое из носоглотки и ротоглотки   \n",
       "4   21 2020-05-16  0_Мазок/отделяемое из носоглотки и ротоглотки   \n",
       "\n",
       "   samples_result_id  \n",
       "0                  2  \n",
       "1                  1  \n",
       "2                  2  \n",
       "3                  1  \n",
       "4                  1  "
      ]
     },
     "execution_count": 645,
     "metadata": {},
     "output_type": "execute_result"
    }
   ],
   "source": [
    "all_covid_data_other.head()"
   ]
  },
  {
   "cell_type": "code",
   "execution_count": 649,
   "metadata": {},
   "outputs": [],
   "source": [
    "temp_res = pd.get_dummies(all_covid_data_other.name)\n",
    "temp_res.values[temp_res != 0] = all_covid_data_other.samples_result_id\n",
    "\n",
    "temp_res[['idx', 'DATE']] = all_covid_data_other[['idx', 'DATE']]"
   ]
  },
  {
   "cell_type": "code",
   "execution_count": 652,
   "metadata": {},
   "outputs": [],
   "source": [
    "temp_res = temp_res.groupby(['idx', 'DATE']).sum().reset_index()"
   ]
  },
  {
   "cell_type": "code",
   "execution_count": 654,
   "metadata": {},
   "outputs": [],
   "source": [
    "data_train = pd.merge(data_train, temp_res, on=['idx', 'DATE'], how='left')\n",
    "\n",
    "data_test = pd.merge(data_test, temp_res, on=['idx', 'DATE'], how='left')"
   ]
  },
  {
   "cell_type": "code",
   "execution_count": 655,
   "metadata": {},
   "outputs": [
    {
     "name": "stdout",
     "output_type": "stream",
     "text": [
      "(131989, 2635)\n",
      "(33080, 2635)\n"
     ]
    }
   ],
   "source": [
    "print(data_train.shape)\n",
    "print(data_test.shape)"
   ]
  },
  {
   "cell_type": "markdown",
   "metadata": {},
   "source": [
    "#### other before"
   ]
  },
  {
   "cell_type": "code",
   "execution_count": 656,
   "metadata": {},
   "outputs": [],
   "source": [
    "covid_data_other_before = covid_data_other[covid_data_other.date_diff > 0].reset_index(drop=True)"
   ]
  },
  {
   "cell_type": "code",
   "execution_count": 657,
   "metadata": {},
   "outputs": [],
   "source": [
    "# covid_data_other_good = covid_data_other_before.groupby(['idx', 'DATE', 'samples_type_id']).date_diff.min().reset_index()\n",
    "# covid_data_other_good = pd.merge(covid_data_other_good, covid_data_other_before,\n",
    "#                                  on=['idx', 'DATE', 'samples_type_id', 'date_diff'], how='left')"
   ]
  },
  {
   "cell_type": "code",
   "execution_count": 658,
   "metadata": {},
   "outputs": [],
   "source": [
    "covid_data_other_good = covid_data_other_before.groupby(['idx', 'DATE', 'samples_type_id']) \\\n",
    "                        .samples_result_id.max().reset_index().rename(columns={'samples_result_id': 'samples_result_id_max'})\n",
    "\n",
    "covid_data_other_good['samples_result_id_min'] = covid_data_other_before.groupby(['idx', 'DATE', 'samples_type_id']) \\\n",
    "                                                                        .samples_result_id.min().values\n",
    "\n",
    "covid_data_other_good['samples_result_id_count'] = covid_data_other_before.groupby(['idx', 'DATE', 'samples_type_id']) \\\n",
    "                                                                        .samples_result_id.count().values"
   ]
  },
  {
   "cell_type": "code",
   "execution_count": 659,
   "metadata": {},
   "outputs": [],
   "source": [
    "temp_reses = []\n",
    "\n",
    "for col in covid_data_other_good.columns[3:]:\n",
    "    temp_res = pd.get_dummies(covid_data_other_good.samples_type_id)\n",
    "    temp_res.values[temp_res != 0] = covid_data_other_good[col]\n",
    "    temp_res.columns = ['before_covid_{}_'.format(col)+x for x in temp_res.columns]\n",
    "    temp_reses.append(temp_res)\n",
    "    \n",
    "covid_data_other_res = pd.concat(temp_reses, axis=1)\n",
    "\n",
    "covid_data_other_res[['idx', 'DATE']] = covid_data_other_good[['idx', 'DATE']]"
   ]
  },
  {
   "cell_type": "code",
   "execution_count": 660,
   "metadata": {},
   "outputs": [
    {
     "data": {
      "text/plain": [
       "(76512, 11)"
      ]
     },
     "execution_count": 660,
     "metadata": {},
     "output_type": "execute_result"
    }
   ],
   "source": [
    "covid_data_other_res.shape"
   ]
  },
  {
   "cell_type": "code",
   "execution_count": 661,
   "metadata": {},
   "outputs": [],
   "source": [
    "covid_data_other_res = covid_data_other_res.groupby(['idx', 'DATE']).max().reset_index()"
   ]
  },
  {
   "cell_type": "code",
   "execution_count": 662,
   "metadata": {},
   "outputs": [],
   "source": [
    "data_train = pd.merge(data_train, covid_data_other_res, on=['idx', 'DATE'], how='left')\n",
    "\n",
    "data_test.DATE = pd.to_datetime(data_test.DATE)\n",
    "data_test = pd.merge(data_test, covid_data_other_res, on=['idx', 'DATE'], how='left')"
   ]
  },
  {
   "cell_type": "code",
   "execution_count": 663,
   "metadata": {},
   "outputs": [
    {
     "name": "stdout",
     "output_type": "stream",
     "text": [
      "(131989, 2644)\n",
      "(33080, 2644)\n"
     ]
    }
   ],
   "source": [
    "print(data_train.shape)\n",
    "print(data_test.shape)"
   ]
  },
  {
   "cell_type": "markdown",
   "metadata": {},
   "source": [
    "#### other after"
   ]
  },
  {
   "cell_type": "code",
   "execution_count": 664,
   "metadata": {},
   "outputs": [],
   "source": [
    "covid_data_other_after = covid_data_other[covid_data_other.date_diff < 0].reset_index(drop=True)"
   ]
  },
  {
   "cell_type": "code",
   "execution_count": 665,
   "metadata": {},
   "outputs": [],
   "source": [
    "covid_data_other_good = covid_data_other_after.groupby(['idx', 'DATE', 'samples_type_id']) \\\n",
    "                        .samples_result_id.max().reset_index().rename(columns={'samples_result_id': 'samples_result_id_max'})\n",
    "\n",
    "covid_data_other_good['samples_result_id_min'] = covid_data_other_after.groupby(['idx', 'DATE', 'samples_type_id']) \\\n",
    "                                                                        .samples_result_id.min().values\n",
    "\n",
    "covid_data_other_good['samples_result_id_count'] = covid_data_other_after.groupby(['idx', 'DATE', 'samples_type_id']) \\\n",
    "                                                                        .samples_result_id.count().values"
   ]
  },
  {
   "cell_type": "code",
   "execution_count": 666,
   "metadata": {},
   "outputs": [],
   "source": [
    "temp_reses = []\n",
    "\n",
    "for col in covid_data_other_good.columns[3:]:\n",
    "    temp_res = pd.get_dummies(covid_data_other_good.samples_type_id)\n",
    "    temp_res.values[temp_res != 0] = covid_data_other_good[col]\n",
    "    temp_res.columns = ['before_covid_{}_'.format(col)+x for x in temp_res.columns]\n",
    "    temp_reses.append(temp_res)\n",
    "    \n",
    "covid_data_other_res = pd.concat(temp_reses, axis=1)\n",
    "\n",
    "covid_data_other_res[['idx', 'DATE']] = covid_data_other_good[['idx', 'DATE']]"
   ]
  },
  {
   "cell_type": "code",
   "execution_count": 667,
   "metadata": {},
   "outputs": [
    {
     "data": {
      "text/plain": [
       "(121564, 17)"
      ]
     },
     "execution_count": 667,
     "metadata": {},
     "output_type": "execute_result"
    }
   ],
   "source": [
    "covid_data_other_res.shape"
   ]
  },
  {
   "cell_type": "code",
   "execution_count": 668,
   "metadata": {},
   "outputs": [],
   "source": [
    "covid_data_other_res = covid_data_other_res.groupby(['idx', 'DATE']).max().reset_index()"
   ]
  },
  {
   "cell_type": "code",
   "execution_count": 669,
   "metadata": {},
   "outputs": [],
   "source": [
    "data_train = pd.merge(data_train, covid_data_other_res, on=['idx', 'DATE'], how='left')\n",
    "\n",
    "data_test.DATE = pd.to_datetime(data_test.DATE)\n",
    "data_test = pd.merge(data_test, covid_data_other_res, on=['idx', 'DATE'], how='left')"
   ]
  },
  {
   "cell_type": "code",
   "execution_count": 670,
   "metadata": {},
   "outputs": [
    {
     "name": "stdout",
     "output_type": "stream",
     "text": [
      "(131989, 2659)\n",
      "(33080, 2659)\n"
     ]
    }
   ],
   "source": [
    "print(data_train.shape)\n",
    "print(data_test.shape)"
   ]
  },
  {
   "cell_type": "markdown",
   "metadata": {},
   "source": [
    "#### other in"
   ]
  },
  {
   "cell_type": "code",
   "execution_count": 671,
   "metadata": {},
   "outputs": [],
   "source": [
    "covid_data_other_in = covid_data_other[covid_data_other.date_diff == 0].reset_index(drop=True)"
   ]
  },
  {
   "cell_type": "code",
   "execution_count": 672,
   "metadata": {},
   "outputs": [],
   "source": [
    "covid_data_other_good = covid_data_other_in.groupby(['idx', 'DATE', 'samples_type_id']) \\\n",
    "                        .samples_result_id.max().reset_index().rename(columns={'samples_result_id': 'samples_result_id_max'})\n",
    "\n",
    "covid_data_other_good['samples_result_id_min'] = covid_data_other_in.groupby(['idx', 'DATE', 'samples_type_id']) \\\n",
    "                                                                        .samples_result_id.min().values\n",
    "\n",
    "covid_data_other_good['samples_result_id_count'] = covid_data_other_in.groupby(['idx', 'DATE', 'samples_type_id']) \\\n",
    "                                                                        .samples_result_id.count().values"
   ]
  },
  {
   "cell_type": "code",
   "execution_count": 673,
   "metadata": {},
   "outputs": [],
   "source": [
    "temp_reses = []\n",
    "\n",
    "for col in covid_data_other_good.columns[3:]:\n",
    "    temp_res = pd.get_dummies(covid_data_other_good.samples_type_id)\n",
    "    temp_res.values[temp_res != 0] = covid_data_other_good[col]\n",
    "    temp_res.columns = ['before_covid_{}_'.format(col)+x for x in temp_res.columns]\n",
    "    temp_reses.append(temp_res)\n",
    "    \n",
    "covid_data_other_res = pd.concat(temp_reses, axis=1)\n",
    "\n",
    "covid_data_other_res[['idx', 'DATE']] = covid_data_other_good[['idx', 'DATE']]"
   ]
  },
  {
   "cell_type": "code",
   "execution_count": 674,
   "metadata": {},
   "outputs": [
    {
     "data": {
      "text/plain": [
       "(53155, 5)"
      ]
     },
     "execution_count": 674,
     "metadata": {},
     "output_type": "execute_result"
    }
   ],
   "source": [
    "covid_data_other_res.shape"
   ]
  },
  {
   "cell_type": "code",
   "execution_count": 675,
   "metadata": {},
   "outputs": [],
   "source": [
    "covid_data_other_res = covid_data_other_res.groupby(['idx', 'DATE']).max().reset_index()"
   ]
  },
  {
   "cell_type": "code",
   "execution_count": 676,
   "metadata": {},
   "outputs": [],
   "source": [
    "data_train = pd.merge(data_train, covid_data_other_res, on=['idx', 'DATE'], how='left')\n",
    "\n",
    "data_test.DATE = pd.to_datetime(data_test.DATE)\n",
    "data_test = pd.merge(data_test, covid_data_other_res, on=['idx', 'DATE'], how='left')"
   ]
  },
  {
   "cell_type": "code",
   "execution_count": 677,
   "metadata": {},
   "outputs": [
    {
     "name": "stdout",
     "output_type": "stream",
     "text": [
      "(131989, 2662)\n",
      "(33080, 2662)\n"
     ]
    }
   ],
   "source": [
    "print(data_train.shape)\n",
    "print(data_test.shape)"
   ]
  },
  {
   "cell_type": "markdown",
   "metadata": {
    "jp-MarkdownHeadingCollapsed": true,
    "tags": [],
    "toc-hr-collapsed": true
   },
   "source": [
    "## Работа с questions"
   ]
  },
  {
   "cell_type": "code",
   "execution_count": 233,
   "metadata": {},
   "outputs": [
    {
     "data": {
      "text/html": [
       "<div>\n",
       "<style scoped>\n",
       "    .dataframe tbody tr th:only-of-type {\n",
       "        vertical-align: middle;\n",
       "    }\n",
       "\n",
       "    .dataframe tbody tr th {\n",
       "        vertical-align: top;\n",
       "    }\n",
       "\n",
       "    .dataframe thead th {\n",
       "        text-align: right;\n",
       "    }\n",
       "</style>\n",
       "<table border=\"1\" class=\"dataframe\">\n",
       "  <thead>\n",
       "    <tr style=\"text-align: right;\">\n",
       "      <th></th>\n",
       "      <th>idx</th>\n",
       "      <th>Был ли контакт с пациентом больным Covid 19</th>\n",
       "      <th>Был ли подтверждённый случай заболевания Covid 19</th>\n",
       "      <th>Были ли симптомы ОРВИ на протяжении последних 5 месяцев</th>\n",
       "      <th>Были ли симптомы ковид в последние 5 месяцев?</th>\n",
       "      <th>Одышка</th>\n",
       "      <th>Повышение температуры</th>\n",
       "      <th>Потеря чувства обоняния</th>\n",
       "      <th>Слабость</th>\n",
       "      <th>Сухой кашель</th>\n",
       "      <th>get_date_at</th>\n",
       "    </tr>\n",
       "  </thead>\n",
       "  <tbody>\n",
       "    <tr>\n",
       "      <th>0</th>\n",
       "      <td>206910</td>\n",
       "      <td>1</td>\n",
       "      <td>1</td>\n",
       "      <td>1</td>\n",
       "      <td>0</td>\n",
       "      <td>-1</td>\n",
       "      <td>-1</td>\n",
       "      <td>-1</td>\n",
       "      <td>-1</td>\n",
       "      <td>-1</td>\n",
       "      <td>2020-05-30</td>\n",
       "    </tr>\n",
       "  </tbody>\n",
       "</table>\n",
       "</div>"
      ],
      "text/plain": [
       "      idx  Был ли контакт с пациентом больным Covid 19  \\\n",
       "0  206910                                            1   \n",
       "\n",
       "   Был ли подтверждённый случай заболевания Covid 19  \\\n",
       "0                                                  1   \n",
       "\n",
       "   Были ли симптомы ОРВИ на протяжении последних 5 месяцев  \\\n",
       "0                                                  1         \n",
       "\n",
       "   Были ли симптомы ковид в последние 5 месяцев?  Одышка  \\\n",
       "0                                              0      -1   \n",
       "\n",
       "   Повышение температуры  Потеря чувства обоняния  Слабость  Сухой кашель  \\\n",
       "0                     -1                       -1        -1            -1   \n",
       "\n",
       "  get_date_at  \n",
       "0  2020-05-30  "
      ]
     },
     "execution_count": 233,
     "metadata": {},
     "output_type": "execute_result"
    }
   ],
   "source": [
    "# 5. Файл-опросник\n",
    "# idx - анонимизированный идентификатор пациента. по нему файлы связаны между собой.\n",
    "# Остальные колонки - Название колонки - вопрос, значения в колонке - ответ\n",
    "questions = pd.read_csv('data/data_for_science_questions_2020-07-27.csv', sep=';')\n",
    "\n",
    "questions = pd.merge(questions, covid[['idx', 'pd_id', 'get_date_at']],\n",
    "                     on=['idx', 'pd_id'], how='inner')\n",
    "questions = questions.drop('pd_id', axis=1)\n",
    "questions = questions[questions.idx.isin(pd.concat([data_train['idx'], data_test['idx']]).unique())]\n",
    "\n",
    "questions = questions.fillna(-1)\n",
    "\n",
    "questions_replace_dict = {'Да': 1, 'Нет': 0}\n",
    "\n",
    "for col in questions.columns[1:-1]:\n",
    "    questions = questions.replace({col: questions_replace_dict})\n",
    "    questions[col] = questions[col].astype(int)\n",
    "    \n",
    "questions = questions.drop_duplicates().reset_index(drop=True)\n",
    "\n",
    "questions.head(1)"
   ]
  },
  {
   "cell_type": "code",
   "execution_count": 234,
   "metadata": {},
   "outputs": [],
   "source": [
    "questions = pd.merge(questions, \n",
    "                     pd.concat([data_train[['idx', 'DATE']], data_test[['idx', 'DATE']]]),\n",
    "                     on='idx', how='left')\n",
    "questions = questions[questions.DATE.notnull()].reset_index(drop=True)\n",
    "\n",
    "questions.get_date_at = pd.to_datetime(questions.get_date_at)\n",
    "questions.DATE = pd.to_datetime(questions.DATE)\n",
    "\n",
    "questions['days_btw_quest_kt'] = (questions.DATE - questions.get_date_at).apply(lambda x: x.days)"
   ]
  },
  {
   "cell_type": "code",
   "execution_count": 235,
   "metadata": {},
   "outputs": [],
   "source": [
    "questions_columns = questions.columns[1:10]"
   ]
  },
  {
   "cell_type": "markdown",
   "metadata": {},
   "source": [
    "### questions before KT"
   ]
  },
  {
   "cell_type": "code",
   "execution_count": 505,
   "metadata": {},
   "outputs": [],
   "source": [
    "questions_before = questions[questions.days_btw_quest_kt > 0].reset_index(drop=True).copy()"
   ]
  },
  {
   "cell_type": "code",
   "execution_count": 506,
   "metadata": {},
   "outputs": [],
   "source": [
    "questions_before = questions_before.groupby(['idx', 'DATE'])[questions_columns].max().reset_index()"
   ]
  },
  {
   "cell_type": "code",
   "execution_count": 507,
   "metadata": {},
   "outputs": [],
   "source": [
    "data_train = pd.merge(data_train, questions_before, on=['idx', 'DATE'], how='left')\n",
    "# data_train[questions_columns] = data_train[questions_columns].fillna(-1).astype(int)\n",
    "\n",
    "data_test = pd.merge(data_test, questions_before, on=['idx', 'DATE'], how='left')\n",
    "# data_test[questions_columns] = data_test[questions_columns].fillna(-1).astype(int)"
   ]
  },
  {
   "cell_type": "code",
   "execution_count": 508,
   "metadata": {},
   "outputs": [
    {
     "name": "stdout",
     "output_type": "stream",
     "text": [
      "(132289, 3144)\n",
      "(33080, 3144)\n"
     ]
    }
   ],
   "source": [
    "print(data_train.shape)\n",
    "print(data_test.shape)"
   ]
  },
  {
   "cell_type": "markdown",
   "metadata": {},
   "source": [
    "### questions after KT"
   ]
  },
  {
   "cell_type": "code",
   "execution_count": 509,
   "metadata": {},
   "outputs": [],
   "source": [
    "questions_after = questions[questions.days_btw_quest_kt < 0].reset_index(drop=True).copy()"
   ]
  },
  {
   "cell_type": "code",
   "execution_count": 510,
   "metadata": {},
   "outputs": [],
   "source": [
    "questions_after = questions_after.groupby(['idx', 'DATE'])[questions_columns].max().reset_index()"
   ]
  },
  {
   "cell_type": "code",
   "execution_count": 511,
   "metadata": {},
   "outputs": [],
   "source": [
    "questions_after_rename = {}\n",
    "for col in questions_columns:\n",
    "    questions_after_rename[col] = 'after_'+col"
   ]
  },
  {
   "cell_type": "code",
   "execution_count": 512,
   "metadata": {},
   "outputs": [],
   "source": [
    "questions_after = questions_after.rename(columns=questions_after_rename)"
   ]
  },
  {
   "cell_type": "code",
   "execution_count": 513,
   "metadata": {},
   "outputs": [],
   "source": [
    "data_train = pd.merge(data_train, questions_after, on=['idx', 'DATE'], how='left')\n",
    "# data_train[list(questions_after_rename.values())] = data_train[list(questions_after_rename.values())].fillna(-1).astype(int)\n",
    "\n",
    "data_test = pd.merge(data_test, questions_after, on=['idx', 'DATE'], how='left')\n",
    "# data_test[list(questions_after_rename.values())] = data_test[list(questions_after_rename.values())].fillna(-1).astype(int)"
   ]
  },
  {
   "cell_type": "code",
   "execution_count": 514,
   "metadata": {},
   "outputs": [
    {
     "name": "stdout",
     "output_type": "stream",
     "text": [
      "(132289, 3153)\n",
      "(33080, 3153)\n"
     ]
    }
   ],
   "source": [
    "print(data_train.shape)\n",
    "print(data_test.shape)"
   ]
  },
  {
   "cell_type": "markdown",
   "metadata": {},
   "source": [
    "### questions in KT"
   ]
  },
  {
   "cell_type": "code",
   "execution_count": 515,
   "metadata": {},
   "outputs": [],
   "source": [
    "questions_in = questions[questions.days_btw_quest_kt == 0].reset_index(drop=True).copy()"
   ]
  },
  {
   "cell_type": "code",
   "execution_count": 516,
   "metadata": {},
   "outputs": [],
   "source": [
    "questions_in = questions_in.groupby(['idx', 'DATE'])[questions_columns].max().reset_index()"
   ]
  },
  {
   "cell_type": "code",
   "execution_count": 517,
   "metadata": {},
   "outputs": [],
   "source": [
    "questions_in_rename = {}\n",
    "for col in questions_columns:\n",
    "    questions_in_rename[col] = 'in_'+col"
   ]
  },
  {
   "cell_type": "code",
   "execution_count": 518,
   "metadata": {},
   "outputs": [],
   "source": [
    "questions_in = questions_in.rename(columns=questions_in_rename)"
   ]
  },
  {
   "cell_type": "code",
   "execution_count": 519,
   "metadata": {},
   "outputs": [],
   "source": [
    "data_train = pd.merge(data_train, questions_in, on=['idx', 'DATE'], how='left')\n",
    "# data_train[list(questions_in_rename.values())] = data_train[list(questions_in_rename.values())].fillna(-1).astype(int)\n",
    "\n",
    "data_test = pd.merge(data_test, questions_in, on=['idx', 'DATE'], how='left')\n",
    "# data_test[list(questions_in_rename.values())] = data_test[list(questions_in_rename.values())].fillna(-1).astype(int)"
   ]
  },
  {
   "cell_type": "code",
   "execution_count": 520,
   "metadata": {},
   "outputs": [
    {
     "name": "stdout",
     "output_type": "stream",
     "text": [
      "(132289, 3162)\n",
      "(33080, 3162)\n"
     ]
    }
   ],
   "source": [
    "print(data_train.shape)\n",
    "print(data_test.shape)"
   ]
  },
  {
   "cell_type": "markdown",
   "metadata": {
    "tags": []
   },
   "source": [
    "# Построение модели Кэтбуст"
   ]
  },
  {
   "cell_type": "code",
   "execution_count": 678,
   "metadata": {},
   "outputs": [],
   "source": [
    "data_train['month'] = data_train.DATE.apply(lambda x: x.month)\n",
    "data_train['day'] = data_train.DATE.apply(lambda x: x.day)\n",
    "\n",
    "data_test['month'] = data_test.DATE.apply(lambda x: x.month)\n",
    "data_test['day'] = data_test.DATE.apply(lambda x: x.day)"
   ]
  },
  {
   "cell_type": "code",
   "execution_count": 679,
   "metadata": {},
   "outputs": [],
   "source": [
    "# data_train.to_feather('temp_data/data_train.ftr')\n",
    "# data_test.to_feather('temp_data/data_test.ftr')"
   ]
  },
  {
   "cell_type": "code",
   "execution_count": 5,
   "metadata": {},
   "outputs": [],
   "source": [
    "data_train = pd.read_feather('temp_data/data_train.ftr')\n",
    "data_test = pd.read_feather('temp_data/data_test.ftr')"
   ]
  },
  {
   "cell_type": "code",
   "execution_count": 6,
   "metadata": {},
   "outputs": [],
   "source": [
    "# fip = pd.read_csv('fip.csv')\n",
    "# cut_features = list(fip[fip.value >= 0.01].feature.values)\n",
    "# print(fip.shape)\n",
    "# len(cut_features)"
   ]
  },
  {
   "cell_type": "markdown",
   "metadata": {
    "tags": []
   },
   "source": [
    "#### 0"
   ]
  },
  {
   "cell_type": "code",
   "execution_count": 7,
   "metadata": {},
   "outputs": [],
   "source": [
    "X_train, X_val, y_train, y_val = train_test_split(data_train[data_train.columns[3:]], data_train['KT_RESULT'],\n",
    "                                                  stratify=data_train['KT_RESULT'], test_size=0.15,\n",
    "                                                  random_state=17)"
   ]
  },
  {
   "cell_type": "code",
   "execution_count": 8,
   "metadata": {
    "tags": []
   },
   "outputs": [
    {
     "name": "stdout",
     "output_type": "stream",
     "text": [
      "Learning rate set to 0.11835\n",
      "0:\tlearn: 1.5478178\ttest: 1.5470620\tbest: 1.5470620 (0)\ttotal: 1.35s\tremaining: 22m 26s\n",
      "200:\tlearn: 0.9659036\ttest: 1.1734941\tbest: 1.1729128 (189)\ttotal: 2m 49s\tremaining: 11m 13s\n",
      "400:\tlearn: 0.8228372\ttest: 1.2153705\tbest: 1.1695491 (221)\ttotal: 5m 30s\tremaining: 8m 13s\n",
      "Stopped by overfitting detector  (250 iterations wait)\n",
      "\n",
      "bestTest = 1.169549067\n",
      "bestIteration = 221\n",
      "\n",
      "Shrink model to first 222 iterations.\n",
      "\n",
      "0.7572679640433846\n",
      "\n",
      "Learning rate set to 0.11835\n",
      "0:\tlearn: 1.5589127\ttest: 1.5597948\tbest: 1.5597948 (0)\ttotal: 943ms\tremaining: 15m 42s\n",
      "200:\tlearn: 0.9633578\ttest: 1.1443196\tbest: 1.1441264 (199)\ttotal: 2m 43s\tremaining: 10m 51s\n",
      "400:\tlearn: 0.8236621\ttest: 1.1518001\tbest: 1.1375109 (230)\ttotal: 5m 23s\tremaining: 8m 3s\n",
      "Stopped by overfitting detector  (250 iterations wait)\n",
      "\n",
      "bestTest = 1.137510881\n",
      "bestIteration = 230\n",
      "\n",
      "Shrink model to first 231 iterations.\n",
      "\n",
      "0.7563366322786989\n",
      "\n",
      "Learning rate set to 0.11835\n",
      "0:\tlearn: 1.5550655\ttest: 1.5547030\tbest: 1.5547030 (0)\ttotal: 1.1s\tremaining: 18m 16s\n",
      "200:\tlearn: 0.9607107\ttest: 1.1678026\tbest: 1.1678026 (200)\ttotal: 2m 44s\tremaining: 10m 53s\n",
      "400:\tlearn: 0.8268269\ttest: 1.1786052\tbest: 1.1666820 (204)\ttotal: 5m 18s\tremaining: 7m 56s\n",
      "Stopped by overfitting detector  (250 iterations wait)\n",
      "\n",
      "bestTest = 1.166682002\n",
      "bestIteration = 204\n",
      "\n",
      "Shrink model to first 205 iterations.\n",
      "\n",
      "0.7496902461904773\n",
      "\n",
      "Learning rate set to 0.11835\n",
      "0:\tlearn: 1.5493768\ttest: 1.5495052\tbest: 1.5495052 (0)\ttotal: 1.05s\tremaining: 17m 26s\n",
      "200:\tlearn: 0.9539839\ttest: 1.1627883\tbest: 1.1619346 (198)\ttotal: 2m 47s\tremaining: 11m 5s\n",
      "400:\tlearn: 0.8168468\ttest: 1.1624002\tbest: 1.1522883 (273)\ttotal: 5m 26s\tremaining: 8m 8s\n",
      "Stopped by overfitting detector  (250 iterations wait)\n",
      "\n",
      "bestTest = 1.152288281\n",
      "bestIteration = 273\n",
      "\n",
      "Shrink model to first 274 iterations.\n",
      "\n",
      "0.7665398439885803\n",
      "\n",
      "Learning rate set to 0.11835\n",
      "0:\tlearn: 1.5591970\ttest: 1.5568475\tbest: 1.5568475 (0)\ttotal: 1.1s\tremaining: 18m 20s\n",
      "200:\tlearn: 0.9652709\ttest: 1.1310451\tbest: 1.1289488 (188)\ttotal: 2m 45s\tremaining: 10m 58s\n",
      "400:\tlearn: 0.8241058\ttest: 1.1341582\tbest: 1.1267918 (236)\ttotal: 5m 24s\tremaining: 8m 4s\n",
      "Stopped by overfitting detector  (250 iterations wait)\n",
      "\n",
      "bestTest = 1.126791827\n",
      "bestIteration = 236\n",
      "\n",
      "Shrink model to first 237 iterations.\n",
      "\n",
      "0.7689865627226037\n",
      "\n",
      "Learning rate set to 0.11835\n",
      "0:\tlearn: 1.5534159\ttest: 1.5571795\tbest: 1.5571795 (0)\ttotal: 1.12s\tremaining: 18m 37s\n",
      "200:\tlearn: 0.9621891\ttest: 1.1776656\tbest: 1.1775595 (198)\ttotal: 2m 46s\tremaining: 11m\n",
      "400:\tlearn: 0.8237093\ttest: 1.1859330\tbest: 1.1712934 (254)\ttotal: 5m 24s\tremaining: 8m 5s\n",
      "Stopped by overfitting detector  (250 iterations wait)\n",
      "\n",
      "bestTest = 1.171293374\n",
      "bestIteration = 254\n",
      "\n",
      "Shrink model to first 255 iterations.\n",
      "\n",
      "0.7583135549902029\n",
      "\n",
      "Learning rate set to 0.11835\n",
      "0:\tlearn: 1.5490401\ttest: 1.5512785\tbest: 1.5512785 (0)\ttotal: 1.16s\tremaining: 19m 17s\n",
      "200:\tlearn: 0.9594926\ttest: 1.1925609\tbest: 1.1925609 (200)\ttotal: 2m 44s\tremaining: 10m 52s\n",
      "400:\tlearn: 0.8205619\ttest: 1.2098515\tbest: 1.1918453 (205)\ttotal: 5m 19s\tremaining: 7m 57s\n",
      "Stopped by overfitting detector  (250 iterations wait)\n",
      "\n",
      "bestTest = 1.191845309\n",
      "bestIteration = 205\n",
      "\n",
      "Shrink model to first 206 iterations.\n",
      "\n",
      "0.7454018890921\n",
      "\n",
      "Learning rate set to 0.11835\n",
      "0:\tlearn: 1.5565785\ttest: 1.5573097\tbest: 1.5573097 (0)\ttotal: 1.06s\tremaining: 17m 35s\n",
      "200:\tlearn: 0.9621696\ttest: 1.1648043\tbest: 1.1638990 (194)\ttotal: 2m 45s\tremaining: 10m 59s\n",
      "400:\tlearn: 0.8257101\ttest: 1.1752547\tbest: 1.1615614 (274)\ttotal: 5m 22s\tremaining: 8m 1s\n",
      "Stopped by overfitting detector  (250 iterations wait)\n",
      "\n",
      "bestTest = 1.161561351\n",
      "bestIteration = 274\n",
      "\n",
      "Shrink model to first 275 iterations.\n",
      "\n",
      "0.7578759744802869\n",
      "\n"
     ]
    }
   ],
   "source": [
    "models = []\n",
    "\n",
    "for train_index, test_index in StratifiedKFold(n_splits=8, random_state=17, shuffle=True).split(X_train, y_train):\n",
    "    \n",
    "    X_train_skf, y_train_skf = X_train.iloc[train_index], y_train.iloc[train_index]\n",
    "    X_val_skf, y_val_skf = X_train.iloc[test_index], y_train.iloc[test_index]\n",
    "    \n",
    "    # X_train_skf = X_train_skf[cut_features]\n",
    "    # X_val_skf = X_val_skf[cut_features]\n",
    "    \n",
    "    model = CatBoostClassifier(random_seed=17, verbose=200, \n",
    "                               auto_class_weights='Balanced',\n",
    "                               loss_function='MultiClass',\n",
    "                               class_names=[0, 1, 2, 3, 4], \n",
    "                               early_stopping_rounds=250,\n",
    "                              )\n",
    "    model.fit(X_train_skf, y_train_skf, \n",
    "              eval_set=(X_val_skf, y_val_skf))\n",
    "    \n",
    "    models.append(model)\n",
    "    \n",
    "    print('\\n{}\\n'.format(compete_metric(y_val_skf.values, model.predict(X_val_skf))[0]))"
   ]
  },
  {
   "cell_type": "code",
   "execution_count": 9,
   "metadata": {},
   "outputs": [
    {
     "name": "stdout",
     "output_type": "stream",
     "text": [
      "0.7567697705371672\n",
      "0.7545373836902505\n"
     ]
    }
   ],
   "source": [
    "preds = []\n",
    "for model in models:\n",
    "    preds.append(model.predict_proba(X_val))\n",
    "\n",
    "preds_default = []\n",
    "for pred in np.mean(preds, axis=0):\n",
    "    preds_default.append(np.where(pred == pred.max())[0][0])\n",
    "print(compete_metric(y_val.values, preds_default))\n",
    "\n",
    "preds_default = []\n",
    "for pred in np.median(preds, axis=0):\n",
    "    preds_default.append(np.where(pred == pred.max())[0][0])\n",
    "print(compete_metric(y_val.values, preds_default))"
   ]
  },
  {
   "cell_type": "code",
   "execution_count": 10,
   "metadata": {},
   "outputs": [],
   "source": [
    "preds = np.mean(preds, axis=0)"
   ]
  },
  {
   "cell_type": "code",
   "execution_count": 12,
   "metadata": {
    "tags": []
   },
   "outputs": [
    {
     "name": "stdout",
     "output_type": "stream",
     "text": [
      "0.7700821364806602 [12, 20, 25, 25, 6]\n",
      "0.7731374549817401 [6, 15, 25, 23, 14]\n",
      "0.7755902208539744 [9, 10, 29, 19, 7]\n",
      "0.7769990016489766 [6, 5, 37, 23, 2]\n",
      "0.778743769660503 [2, 1, 25, 19, 1]\n",
      "0.7794724701401214 [11, 18, 34, 27, 1]\n",
      "0.7799308406083572 [6, 12, 28, 21, 0]\n",
      "0.7813638937517231 [4, 14, 30, 21, 2]\n",
      "0.7817412520430584 [8, 9, 36, 28, 1]\n",
      "0.7837016749400872 [5, 15, 36, 29, 10]\n",
      "0.7838810811496257 [3, 20, 32, 24, 3]\n",
      "0.7838810811496257 [3, 20, 32, 24, 3]\n"
     ]
    }
   ],
   "source": [
    "best_score = 0\n",
    "best_weights = []\n",
    "\n",
    "for j in range(1000):\n",
    "    \n",
    "    a1 = np.random.randint(0, 15)\n",
    "    a2 = np.random.randint(0, 25)\n",
    "    a3 = np.random.randint(15, 40)\n",
    "    a4 = np.random.randint(15, 30)\n",
    "    a5 = np.random.randint(0, 20)\n",
    "                    \n",
    "    preds_ = []\n",
    "    for pred in preds:\n",
    "        pred_ = pred + np.array([a1/100, a2/100, a3/100, a4/100, a5/100])\n",
    "        max_pred_indx = np.where(pred_ == pred_.max())[0][0]\n",
    "        preds_.append(max_pred_indx)\n",
    "    metr = compete_metric(y_val.values, preds_)\n",
    "    \n",
    "    if metr > best_score:\n",
    "        best_score = metr\n",
    "        best_weights = [a1, a2, a3, a4, a5]\n",
    "        print(best_score, best_weights)\n",
    "                        \n",
    "print(best_score, best_weights)"
   ]
  },
  {
   "cell_type": "code",
   "execution_count": 15,
   "metadata": {},
   "outputs": [],
   "source": [
    "fip = pd.DataFrame()\n",
    "fip['feature'] = X_train.columns\n",
    "fip['value'] = np.mean([model.get_feature_importance() for model in models], axis=0)\n",
    "fip = fip.sort_values('value', ascending=False)"
   ]
  },
  {
   "cell_type": "code",
   "execution_count": 18,
   "metadata": {},
   "outputs": [],
   "source": [
    "# 0.7838810811496257 [3, 20, 32, 24, 3]\n",
    "for i, model in enumerate(models):\n",
    "    model.save_model('models/0_{}_model'.format(i))\n",
    "fip.to_csv('models/fip_0.csv', index=False)"
   ]
  },
  {
   "cell_type": "markdown",
   "metadata": {},
   "source": [
    "#### 1"
   ]
  },
  {
   "cell_type": "code",
   "execution_count": 24,
   "metadata": {},
   "outputs": [
    {
     "name": "stdout",
     "output_type": "stream",
     "text": [
      "(2661, 2)\n",
      "1311\n"
     ]
    }
   ],
   "source": [
    "cut_features = list(fip[fip.value >= 0.001].feature.values)\n",
    "print(fip.shape)\n",
    "print(len(cut_features))"
   ]
  },
  {
   "cell_type": "code",
   "execution_count": 25,
   "metadata": {},
   "outputs": [],
   "source": [
    "X_train, X_val, y_train, y_val = train_test_split(data_train[cut_features], data_train['KT_RESULT'],\n",
    "                                                  stratify=data_train['KT_RESULT'], test_size=0.15,\n",
    "                                                  random_state=18)"
   ]
  },
  {
   "cell_type": "code",
   "execution_count": 27,
   "metadata": {
    "tags": []
   },
   "outputs": [
    {
     "name": "stdout",
     "output_type": "stream",
     "text": [
      "Learning rate set to 0.11835\n",
      "0:\tlearn: 1.5543473\ttest: 1.5544324\tbest: 1.5544324 (0)\ttotal: 778ms\tremaining: 12m 56s\n",
      "200:\tlearn: 0.9651684\ttest: 1.1574301\tbest: 1.1563409 (188)\ttotal: 1m 51s\tremaining: 7m 21s\n",
      "400:\tlearn: 0.8214927\ttest: 1.1679156\tbest: 1.1499475 (287)\ttotal: 3m 35s\tremaining: 5m 21s\n",
      "Stopped by overfitting detector  (250 iterations wait)\n",
      "\n",
      "bestTest = 1.149947539\n",
      "bestIteration = 287\n",
      "\n",
      "Shrink model to first 288 iterations.\n",
      "\n",
      "0.7642296675528724\n",
      "\n",
      "Learning rate set to 0.11835\n",
      "0:\tlearn: 1.5591872\ttest: 1.5585032\tbest: 1.5585032 (0)\ttotal: 631ms\tremaining: 10m 29s\n",
      "200:\tlearn: 0.9610292\ttest: 1.1403715\tbest: 1.1397791 (199)\ttotal: 1m 50s\tremaining: 7m 18s\n",
      "400:\tlearn: 0.8228664\ttest: 1.1435326\tbest: 1.1318511 (265)\ttotal: 3m 34s\tremaining: 5m 20s\n",
      "Stopped by overfitting detector  (250 iterations wait)\n",
      "\n",
      "bestTest = 1.131851122\n",
      "bestIteration = 265\n",
      "\n",
      "Shrink model to first 266 iterations.\n",
      "\n",
      "0.7685504446920254\n",
      "\n",
      "Learning rate set to 0.11835\n",
      "0:\tlearn: 1.5547678\ttest: 1.5574566\tbest: 1.5574566 (0)\ttotal: 741ms\tremaining: 12m 20s\n",
      "200:\tlearn: 0.9572234\ttest: 1.1820690\tbest: 1.1807015 (193)\ttotal: 1m 50s\tremaining: 7m 20s\n",
      "400:\tlearn: 0.8171181\ttest: 1.2080910\tbest: 1.1807015 (193)\ttotal: 3m 37s\tremaining: 5m 24s\n",
      "Stopped by overfitting detector  (250 iterations wait)\n",
      "\n",
      "bestTest = 1.180701487\n",
      "bestIteration = 193\n",
      "\n",
      "Shrink model to first 194 iterations.\n",
      "\n",
      "0.7414707802589313\n",
      "\n",
      "Learning rate set to 0.11835\n",
      "0:\tlearn: 1.5569985\ttest: 1.5562849\tbest: 1.5562849 (0)\ttotal: 662ms\tremaining: 11m 1s\n",
      "200:\tlearn: 0.9566197\ttest: 1.1571500\tbest: 1.1571103 (198)\ttotal: 1m 50s\tremaining: 7m 20s\n",
      "400:\tlearn: 0.8197290\ttest: 1.1647274\tbest: 1.1500903 (255)\ttotal: 3m 36s\tremaining: 5m 23s\n",
      "Stopped by overfitting detector  (250 iterations wait)\n",
      "\n",
      "bestTest = 1.150090252\n",
      "bestIteration = 255\n",
      "\n",
      "Shrink model to first 256 iterations.\n",
      "\n",
      "0.7610965358803679\n",
      "\n",
      "Learning rate set to 0.11835\n",
      "0:\tlearn: 1.5530373\ttest: 1.5549613\tbest: 1.5549613 (0)\ttotal: 733ms\tremaining: 12m 12s\n",
      "200:\tlearn: 0.9518424\ttest: 1.1726127\tbest: 1.1697104 (191)\ttotal: 1m 51s\tremaining: 7m 24s\n",
      "400:\tlearn: 0.8171191\ttest: 1.1837663\tbest: 1.1697104 (191)\ttotal: 3m 35s\tremaining: 5m 22s\n",
      "Stopped by overfitting detector  (250 iterations wait)\n",
      "\n",
      "bestTest = 1.169710398\n",
      "bestIteration = 191\n",
      "\n",
      "Shrink model to first 192 iterations.\n",
      "\n",
      "0.741471107203909\n",
      "\n",
      "Learning rate set to 0.11835\n",
      "0:\tlearn: 1.5515001\ttest: 1.5541461\tbest: 1.5541461 (0)\ttotal: 733ms\tremaining: 12m 12s\n",
      "200:\tlearn: 0.9623214\ttest: 1.1656037\tbest: 1.1655160 (199)\ttotal: 1m 48s\tremaining: 7m 12s\n",
      "400:\tlearn: 0.8186422\ttest: 1.1815893\tbest: 1.1618510 (219)\ttotal: 3m 34s\tremaining: 5m 20s\n",
      "Stopped by overfitting detector  (250 iterations wait)\n",
      "\n",
      "bestTest = 1.161850982\n",
      "bestIteration = 219\n",
      "\n",
      "Shrink model to first 220 iterations.\n",
      "\n",
      "0.7532873577294298\n",
      "\n",
      "Learning rate set to 0.11835\n",
      "0:\tlearn: 1.5646183\ttest: 1.5633925\tbest: 1.5633925 (0)\ttotal: 672ms\tremaining: 11m 11s\n",
      "200:\tlearn: 0.9589018\ttest: 1.1431446\tbest: 1.1414830 (197)\ttotal: 1m 50s\tremaining: 7m 17s\n",
      "400:\tlearn: 0.8242672\ttest: 1.1415362\tbest: 1.1358864 (355)\ttotal: 3m 36s\tremaining: 5m 22s\n",
      "600:\tlearn: 0.7497356\ttest: 1.1739229\tbest: 1.1358864 (355)\ttotal: 5m 21s\tremaining: 3m 33s\n",
      "Stopped by overfitting detector  (250 iterations wait)\n",
      "\n",
      "bestTest = 1.13588644\n",
      "bestIteration = 355\n",
      "\n",
      "Shrink model to first 356 iterations.\n",
      "\n",
      "0.76793744892515\n",
      "\n",
      "Learning rate set to 0.11835\n",
      "0:\tlearn: 1.5569957\ttest: 1.5564097\tbest: 1.5564097 (0)\ttotal: 684ms\tremaining: 11m 23s\n",
      "200:\tlearn: 0.9603361\ttest: 1.1705285\tbest: 1.1705285 (200)\ttotal: 1m 52s\tremaining: 7m 29s\n",
      "400:\tlearn: 0.8218572\ttest: 1.2001555\tbest: 1.1675718 (264)\ttotal: 3m 38s\tremaining: 5m 26s\n",
      "Stopped by overfitting detector  (250 iterations wait)\n",
      "\n",
      "bestTest = 1.167571809\n",
      "bestIteration = 264\n",
      "\n",
      "Shrink model to first 265 iterations.\n",
      "\n",
      "0.758783315217157\n",
      "\n"
     ]
    }
   ],
   "source": [
    "models = []\n",
    "\n",
    "for train_index, test_index in StratifiedKFold(n_splits=8, random_state=18, shuffle=True).split(X_train, y_train):\n",
    "    \n",
    "    X_train_skf, y_train_skf = X_train.iloc[train_index], y_train.iloc[train_index]\n",
    "    X_val_skf, y_val_skf = X_train.iloc[test_index], y_train.iloc[test_index]\n",
    "    \n",
    "    model = CatBoostClassifier(random_seed=17, verbose=200, \n",
    "                               auto_class_weights='Balanced',\n",
    "                               loss_function='MultiClass',\n",
    "                               class_names=[0, 1, 2, 3, 4], \n",
    "                               early_stopping_rounds=250,\n",
    "                              )\n",
    "    model.fit(X_train_skf, y_train_skf, \n",
    "              eval_set=(X_val_skf, y_val_skf))\n",
    "    \n",
    "    models.append(model)\n",
    "    \n",
    "    print('\\n{}\\n'.format(compete_metric(y_val_skf.values, model.predict(X_val_skf))[0]))"
   ]
  },
  {
   "cell_type": "code",
   "execution_count": 28,
   "metadata": {},
   "outputs": [
    {
     "name": "stdout",
     "output_type": "stream",
     "text": [
      "0.7675148984923775\n",
      "0.7652489310102035\n"
     ]
    }
   ],
   "source": [
    "preds = []\n",
    "for model in models:\n",
    "    preds.append(model.predict_proba(X_val))\n",
    "\n",
    "preds_default = []\n",
    "for pred in np.mean(preds, axis=0):\n",
    "    preds_default.append(np.where(pred == pred.max())[0][0])\n",
    "print(compete_metric(y_val.values, preds_default))\n",
    "\n",
    "preds_default = []\n",
    "for pred in np.median(preds, axis=0):\n",
    "    preds_default.append(np.where(pred == pred.max())[0][0])\n",
    "print(compete_metric(y_val.values, preds_default))"
   ]
  },
  {
   "cell_type": "code",
   "execution_count": 29,
   "metadata": {},
   "outputs": [],
   "source": [
    "preds = np.mean(preds, axis=0)"
   ]
  },
  {
   "cell_type": "code",
   "execution_count": 30,
   "metadata": {
    "tags": []
   },
   "outputs": [
    {
     "name": "stdout",
     "output_type": "stream",
     "text": [
      "0.7825736044746088 [5, 3, 29, 26, 14]\n",
      "0.7848953404199024 [10, 24, 35, 29, 15]\n",
      "0.7869872059077383 [7, 19, 33, 29, 0]\n",
      "0.7872001340948386 [2, 14, 31, 24, 5]\n",
      "0.7873261944081609 [3, 11, 30, 28, 2]\n",
      "0.7876685967900964 [6, 23, 34, 25, 0]\n",
      "0.787683369751736 [6, 24, 35, 28, 0]\n",
      "0.787683369751736 [6, 24, 35, 28, 0]\n"
     ]
    }
   ],
   "source": [
    "best_score = 0\n",
    "best_weights = []\n",
    "\n",
    "for j in range(1000):\n",
    "    \n",
    "    a1 = np.random.randint(0, 15)\n",
    "    a2 = np.random.randint(0, 25)\n",
    "    a3 = np.random.randint(15, 40)\n",
    "    a4 = np.random.randint(15, 30)\n",
    "    a5 = np.random.randint(0, 20)\n",
    "                    \n",
    "    preds_ = []\n",
    "    for pred in preds:\n",
    "        pred_ = pred + np.array([a1/100, a2/100, a3/100, a4/100, a5/100])\n",
    "        max_pred_indx = np.where(pred_ == pred_.max())[0][0]\n",
    "        preds_.append(max_pred_indx)\n",
    "    metr = compete_metric(y_val.values, preds_)\n",
    "    \n",
    "    if metr > best_score:\n",
    "        best_score = metr\n",
    "        best_weights = [a1, a2, a3, a4, a5]\n",
    "        print(best_score, best_weights)\n",
    "                        \n",
    "print(best_score, best_weights)"
   ]
  },
  {
   "cell_type": "code",
   "execution_count": 31,
   "metadata": {},
   "outputs": [],
   "source": [
    "fip = pd.DataFrame()\n",
    "fip['feature'] = X_train.columns\n",
    "fip['value'] = np.mean([model.get_feature_importance() for model in models], axis=0)\n",
    "fip = fip.sort_values('value', ascending=False)"
   ]
  },
  {
   "cell_type": "code",
   "execution_count": 32,
   "metadata": {},
   "outputs": [],
   "source": [
    "# 0.787683369751736 [6, 24, 35, 28, 0]\n",
    "for i, model in enumerate(models):\n",
    "    model.save_model('models/1_{}_model'.format(i))\n",
    "fip.to_csv('models/fip_1.csv', index=False)"
   ]
  },
  {
   "cell_type": "markdown",
   "metadata": {},
   "source": [
    "#### 2"
   ]
  },
  {
   "cell_type": "code",
   "execution_count": 34,
   "metadata": {},
   "outputs": [
    {
     "name": "stdout",
     "output_type": "stream",
     "text": [
      "(1311, 2)\n",
      "779\n"
     ]
    }
   ],
   "source": [
    "cut_features = list(fip[fip.value >= 0.01].feature.values)\n",
    "print(fip.shape)\n",
    "print(len(cut_features))"
   ]
  },
  {
   "cell_type": "code",
   "execution_count": 35,
   "metadata": {},
   "outputs": [],
   "source": [
    "X_train, X_val, y_train, y_val = train_test_split(data_train[cut_features], data_train['KT_RESULT'],\n",
    "                                                  stratify=data_train['KT_RESULT'], test_size=0.15,\n",
    "                                                  random_state=17)"
   ]
  },
  {
   "cell_type": "code",
   "execution_count": 36,
   "metadata": {
    "tags": []
   },
   "outputs": [
    {
     "name": "stdout",
     "output_type": "stream",
     "text": [
      "Learning rate set to 0.11835\n",
      "0:\tlearn: 1.5582499\ttest: 1.5578102\tbest: 1.5578102 (0)\ttotal: 418ms\tremaining: 6m 57s\n",
      "200:\tlearn: 0.9467015\ttest: 1.1484611\tbest: 1.1434725 (178)\ttotal: 1m 8s\tremaining: 4m 34s\n",
      "400:\tlearn: 0.8113910\ttest: 1.1749236\tbest: 1.1434725 (178)\ttotal: 2m 12s\tremaining: 3m 17s\n",
      "Stopped by overfitting detector  (250 iterations wait)\n",
      "\n",
      "bestTest = 1.143472497\n",
      "bestIteration = 178\n",
      "\n",
      "Shrink model to first 179 iterations.\n",
      "\n",
      "0.7625354755535498\n",
      "\n",
      "Learning rate set to 0.11835\n",
      "0:\tlearn: 1.5595206\ttest: 1.5604162\tbest: 1.5604162 (0)\ttotal: 399ms\tremaining: 6m 38s\n",
      "200:\tlearn: 0.9394925\ttest: 1.1525290\tbest: 1.1515599 (182)\ttotal: 1m 7s\tremaining: 4m 26s\n",
      "400:\tlearn: 0.8050012\ttest: 1.1774588\tbest: 1.1515599 (182)\ttotal: 2m 13s\tremaining: 3m 19s\n",
      "Stopped by overfitting detector  (250 iterations wait)\n",
      "\n",
      "bestTest = 1.151559895\n",
      "bestIteration = 182\n",
      "\n",
      "Shrink model to first 183 iterations.\n",
      "\n",
      "0.747716832884718\n",
      "\n",
      "Learning rate set to 0.11835\n",
      "0:\tlearn: 1.5571170\ttest: 1.5585508\tbest: 1.5585508 (0)\ttotal: 454ms\tremaining: 7m 33s\n",
      "200:\tlearn: 0.9485406\ttest: 1.1594564\tbest: 1.1591940 (198)\ttotal: 1m 5s\tremaining: 4m 19s\n",
      "400:\tlearn: 0.8133501\ttest: 1.1757171\tbest: 1.1579635 (226)\ttotal: 2m 10s\tremaining: 3m 15s\n",
      "Stopped by overfitting detector  (250 iterations wait)\n",
      "\n",
      "bestTest = 1.157963481\n",
      "bestIteration = 226\n",
      "\n",
      "Shrink model to first 227 iterations.\n",
      "\n",
      "0.7579342647726789\n",
      "\n",
      "Learning rate set to 0.11835\n",
      "0:\tlearn: 1.5572967\ttest: 1.5571545\tbest: 1.5571545 (0)\ttotal: 398ms\tremaining: 6m 37s\n",
      "200:\tlearn: 0.9461420\ttest: 1.1611003\tbest: 1.1594520 (186)\ttotal: 1m 7s\tremaining: 4m 29s\n",
      "400:\tlearn: 0.8081797\ttest: 1.1813820\tbest: 1.1575942 (230)\ttotal: 2m 15s\tremaining: 3m 22s\n",
      "Stopped by overfitting detector  (250 iterations wait)\n",
      "\n",
      "bestTest = 1.157594196\n",
      "bestIteration = 230\n",
      "\n",
      "Shrink model to first 231 iterations.\n",
      "\n",
      "0.7594343711961357\n",
      "\n",
      "Learning rate set to 0.11835\n",
      "0:\tlearn: 1.5514954\ttest: 1.5500238\tbest: 1.5500238 (0)\ttotal: 481ms\tremaining: 8m\n",
      "200:\tlearn: 0.9436217\ttest: 1.1308754\tbest: 1.1304918 (198)\ttotal: 1m 14s\tremaining: 4m 56s\n",
      "400:\tlearn: 0.8110413\ttest: 1.1319523\tbest: 1.1209042 (318)\ttotal: 2m 18s\tremaining: 3m 27s\n",
      "Stopped by overfitting detector  (250 iterations wait)\n",
      "\n",
      "bestTest = 1.120904222\n",
      "bestIteration = 318\n",
      "\n",
      "Shrink model to first 319 iterations.\n",
      "\n",
      "0.7766897906064635\n",
      "\n",
      "Learning rate set to 0.11835\n",
      "0:\tlearn: 1.5608998\ttest: 1.5632648\tbest: 1.5632648 (0)\ttotal: 395ms\tremaining: 6m 34s\n",
      "200:\tlearn: 0.9488764\ttest: 1.1707915\tbest: 1.1707915 (200)\ttotal: 1m 8s\tremaining: 4m 30s\n",
      "400:\tlearn: 0.8117379\ttest: 1.1919385\tbest: 1.1673573 (210)\ttotal: 2m 12s\tremaining: 3m 18s\n",
      "Stopped by overfitting detector  (250 iterations wait)\n",
      "\n",
      "bestTest = 1.167357298\n",
      "bestIteration = 210\n",
      "\n",
      "Shrink model to first 211 iterations.\n",
      "\n",
      "0.7611868767682076\n",
      "\n",
      "Learning rate set to 0.11835\n",
      "0:\tlearn: 1.5484645\ttest: 1.5500251\tbest: 1.5500251 (0)\ttotal: 402ms\tremaining: 6m 41s\n",
      "200:\tlearn: 0.9368794\ttest: 1.1888654\tbest: 1.1888654 (200)\ttotal: 1m 10s\tremaining: 4m 41s\n",
      "400:\tlearn: 0.8030479\ttest: 1.2095544\tbest: 1.1842118 (224)\ttotal: 2m 20s\tremaining: 3m 29s\n",
      "Stopped by overfitting detector  (250 iterations wait)\n",
      "\n",
      "bestTest = 1.184211805\n",
      "bestIteration = 224\n",
      "\n",
      "Shrink model to first 225 iterations.\n",
      "\n",
      "0.7513921591539771\n",
      "\n",
      "Learning rate set to 0.11835\n",
      "0:\tlearn: 1.5548703\ttest: 1.5566639\tbest: 1.5566639 (0)\ttotal: 485ms\tremaining: 8m 4s\n",
      "200:\tlearn: 0.9501157\ttest: 1.1438211\tbest: 1.1405787 (190)\ttotal: 1m 12s\tremaining: 4m 49s\n",
      "400:\tlearn: 0.8122781\ttest: 1.1701243\tbest: 1.1401387 (229)\ttotal: 2m 19s\tremaining: 3m 27s\n",
      "Stopped by overfitting detector  (250 iterations wait)\n",
      "\n",
      "bestTest = 1.140138746\n",
      "bestIteration = 229\n",
      "\n",
      "Shrink model to first 230 iterations.\n",
      "\n",
      "0.7615456368760435\n",
      "\n"
     ]
    }
   ],
   "source": [
    "models = []\n",
    "\n",
    "for train_index, test_index in StratifiedKFold(n_splits=8, random_state=17, shuffle=True).split(X_train, y_train):\n",
    "    \n",
    "    X_train_skf, y_train_skf = X_train.iloc[train_index], y_train.iloc[train_index]\n",
    "    X_val_skf, y_val_skf = X_train.iloc[test_index], y_train.iloc[test_index]\n",
    "    \n",
    "    model = CatBoostClassifier(random_seed=17, verbose=200, \n",
    "                               auto_class_weights='Balanced',\n",
    "                               loss_function='MultiClass',\n",
    "                               class_names=[0, 1, 2, 3, 4], \n",
    "                               early_stopping_rounds=250,\n",
    "                              )\n",
    "    model.fit(X_train_skf, y_train_skf, \n",
    "              eval_set=(X_val_skf, y_val_skf))\n",
    "    \n",
    "    models.append(model)\n",
    "    \n",
    "    print('\\n{}\\n'.format(compete_metric(y_val_skf.values, model.predict(X_val_skf))[0]))"
   ]
  },
  {
   "cell_type": "code",
   "execution_count": 37,
   "metadata": {},
   "outputs": [
    {
     "name": "stdout",
     "output_type": "stream",
     "text": [
      "0.7551553087976053\n",
      "0.7537784808175056\n"
     ]
    }
   ],
   "source": [
    "preds = []\n",
    "for model in models:\n",
    "    preds.append(model.predict_proba(X_val))\n",
    "\n",
    "preds_default = []\n",
    "for pred in np.mean(preds, axis=0):\n",
    "    preds_default.append(np.where(pred == pred.max())[0][0])\n",
    "print(compete_metric(y_val.values, preds_default))\n",
    "\n",
    "preds_default = []\n",
    "for pred in np.median(preds, axis=0):\n",
    "    preds_default.append(np.where(pred == pred.max())[0][0])\n",
    "print(compete_metric(y_val.values, preds_default))"
   ]
  },
  {
   "cell_type": "code",
   "execution_count": 38,
   "metadata": {},
   "outputs": [],
   "source": [
    "preds = np.mean(preds, axis=0)"
   ]
  },
  {
   "cell_type": "code",
   "execution_count": 39,
   "metadata": {
    "tags": []
   },
   "outputs": [
    {
     "name": "stdout",
     "output_type": "stream",
     "text": [
      "0.7717876684586715 [0, 9, 16, 22, 9]\n",
      "0.7781528359236938 [13, 11, 37, 26, 4]\n",
      "0.7804066152877511 [9, 6, 31, 27, 3]\n",
      "0.7837619544912868 [3, 18, 32, 24, 8]\n",
      "0.7838399411846162 [4, 15, 32, 29, 4]\n",
      "0.7844541023734319 [2, 13, 32, 28, 2]\n",
      "0.784549943061603 [5, 17, 33, 27, 1]\n",
      "0.784549943061603 [5, 17, 33, 27, 1]\n"
     ]
    }
   ],
   "source": [
    "best_score = 0\n",
    "best_weights = []\n",
    "\n",
    "for j in range(1000):\n",
    "    \n",
    "    a1 = np.random.randint(0, 15)\n",
    "    a2 = np.random.randint(0, 25)\n",
    "    a3 = np.random.randint(15, 40)\n",
    "    a4 = np.random.randint(15, 30)\n",
    "    a5 = np.random.randint(0, 20)\n",
    "                    \n",
    "    preds_ = []\n",
    "    for pred in preds:\n",
    "        pred_ = pred + np.array([a1/100, a2/100, a3/100, a4/100, a5/100])\n",
    "        max_pred_indx = np.where(pred_ == pred_.max())[0][0]\n",
    "        preds_.append(max_pred_indx)\n",
    "    metr = compete_metric(y_val.values, preds_)\n",
    "    \n",
    "    if metr > best_score:\n",
    "        best_score = metr\n",
    "        best_weights = [a1, a2, a3, a4, a5]\n",
    "        print(best_score, best_weights)\n",
    "                        \n",
    "print(best_score, best_weights)"
   ]
  },
  {
   "cell_type": "code",
   "execution_count": 40,
   "metadata": {},
   "outputs": [],
   "source": [
    "fip = pd.DataFrame()\n",
    "fip['feature'] = X_train.columns\n",
    "fip['value'] = np.mean([model.get_feature_importance() for model in models], axis=0)\n",
    "fip = fip.sort_values('value', ascending=False)"
   ]
  },
  {
   "cell_type": "code",
   "execution_count": 41,
   "metadata": {},
   "outputs": [],
   "source": [
    "# 0.784549943061603 [5, 17, 33, 27, 1]\n",
    "for i, model in enumerate(models):\n",
    "    model.save_model('models/2_{}_model'.format(i))\n",
    "fip.to_csv('models/fip_2.csv', index=False)"
   ]
  },
  {
   "cell_type": "markdown",
   "metadata": {},
   "source": [
    "#### 3"
   ]
  },
  {
   "cell_type": "code",
   "execution_count": 49,
   "metadata": {},
   "outputs": [
    {
     "name": "stdout",
     "output_type": "stream",
     "text": [
      "(779, 2)\n",
      "368\n"
     ]
    }
   ],
   "source": [
    "cut_features = list(fip[fip.value >= 0.035].feature.values)\n",
    "print(fip.shape)\n",
    "print(len(cut_features))"
   ]
  },
  {
   "cell_type": "code",
   "execution_count": 50,
   "metadata": {},
   "outputs": [],
   "source": [
    "X_train, X_val, y_train, y_val = train_test_split(data_train[cut_features], data_train['KT_RESULT'],\n",
    "                                                  stratify=data_train['KT_RESULT'], test_size=0.15,\n",
    "                                                  random_state=17)"
   ]
  },
  {
   "cell_type": "code",
   "execution_count": 51,
   "metadata": {
    "tags": []
   },
   "outputs": [
    {
     "name": "stdout",
     "output_type": "stream",
     "text": [
      "Learning rate set to 0.11835\n",
      "0:\tlearn: 1.5470971\ttest: 1.5467406\tbest: 1.5467406 (0)\ttotal: 236ms\tremaining: 3m 55s\n",
      "200:\tlearn: 0.9349732\ttest: 1.1584812\tbest: 1.1544237 (163)\ttotal: 35.4s\tremaining: 2m 20s\n",
      "400:\tlearn: 0.7928296\ttest: 1.2170522\tbest: 1.1544237 (163)\ttotal: 1m 8s\tremaining: 1m 41s\n",
      "Stopped by overfitting detector  (250 iterations wait)\n",
      "\n",
      "bestTest = 1.154423693\n",
      "bestIteration = 163\n",
      "\n",
      "Shrink model to first 164 iterations.\n",
      "\n",
      "0.765474395803148\n",
      "\n",
      "Learning rate set to 0.11835\n",
      "0:\tlearn: 1.5619510\ttest: 1.5633574\tbest: 1.5633574 (0)\ttotal: 181ms\tremaining: 3m\n",
      "200:\tlearn: 0.9250479\ttest: 1.1492628\tbest: 1.1486028 (195)\ttotal: 33.7s\tremaining: 2m 13s\n",
      "400:\tlearn: 0.7846361\ttest: 1.1718221\tbest: 1.1434046 (220)\ttotal: 1m 6s\tremaining: 1m 39s\n",
      "Stopped by overfitting detector  (250 iterations wait)\n",
      "\n",
      "bestTest = 1.143404552\n",
      "bestIteration = 220\n",
      "\n",
      "Shrink model to first 221 iterations.\n",
      "\n",
      "0.7593598326629577\n",
      "\n",
      "Learning rate set to 0.11835\n",
      "0:\tlearn: 1.5591537\ttest: 1.5613759\tbest: 1.5613759 (0)\ttotal: 201ms\tremaining: 3m 21s\n",
      "200:\tlearn: 0.9281118\ttest: 1.1507651\tbest: 1.1502212 (173)\ttotal: 33.3s\tremaining: 2m 12s\n",
      "400:\tlearn: 0.7883113\ttest: 1.1738558\tbest: 1.1496019 (203)\ttotal: 1m 8s\tremaining: 1m 42s\n",
      "Stopped by overfitting detector  (250 iterations wait)\n",
      "\n",
      "bestTest = 1.149601864\n",
      "bestIteration = 203\n",
      "\n",
      "Shrink model to first 204 iterations.\n",
      "\n",
      "0.7571993921313519\n",
      "\n",
      "Learning rate set to 0.11835\n",
      "0:\tlearn: 1.5524853\ttest: 1.5517005\tbest: 1.5517005 (0)\ttotal: 252ms\tremaining: 4m 11s\n",
      "200:\tlearn: 0.9256420\ttest: 1.1433442\tbest: 1.1433442 (200)\ttotal: 35.5s\tremaining: 2m 21s\n",
      "400:\tlearn: 0.7853369\ttest: 1.1666138\tbest: 1.1421278 (206)\ttotal: 1m 9s\tremaining: 1m 43s\n",
      "Stopped by overfitting detector  (250 iterations wait)\n",
      "\n",
      "bestTest = 1.142127793\n",
      "bestIteration = 206\n",
      "\n",
      "Shrink model to first 207 iterations.\n",
      "\n",
      "0.7636885021400885\n",
      "\n",
      "Learning rate set to 0.11835\n",
      "0:\tlearn: 1.5549850\ttest: 1.5532358\tbest: 1.5532358 (0)\ttotal: 173ms\tremaining: 2m 53s\n",
      "200:\tlearn: 0.9267634\ttest: 1.1329403\tbest: 1.1308977 (170)\ttotal: 34.5s\tremaining: 2m 17s\n",
      "400:\tlearn: 0.7903995\ttest: 1.1568579\tbest: 1.1305255 (242)\ttotal: 1m 8s\tremaining: 1m 42s\n",
      "Stopped by overfitting detector  (250 iterations wait)\n",
      "\n",
      "bestTest = 1.130525507\n",
      "bestIteration = 242\n",
      "\n",
      "Shrink model to first 243 iterations.\n",
      "\n",
      "0.7730539051687277\n",
      "\n",
      "Learning rate set to 0.11835\n",
      "0:\tlearn: 1.5485399\ttest: 1.5521885\tbest: 1.5521885 (0)\ttotal: 232ms\tremaining: 3m 51s\n",
      "200:\tlearn: 0.9267050\ttest: 1.1724585\tbest: 1.1724585 (200)\ttotal: 33.6s\tremaining: 2m 13s\n",
      "400:\tlearn: 0.7871915\ttest: 1.2025301\tbest: 1.1706783 (219)\ttotal: 1m 7s\tremaining: 1m 41s\n",
      "Stopped by overfitting detector  (250 iterations wait)\n",
      "\n",
      "bestTest = 1.170678255\n",
      "bestIteration = 219\n",
      "\n",
      "Shrink model to first 220 iterations.\n",
      "\n",
      "0.7554046652191457\n",
      "\n",
      "Learning rate set to 0.11835\n",
      "0:\tlearn: 1.5551840\ttest: 1.5564406\tbest: 1.5564406 (0)\ttotal: 172ms\tremaining: 2m 51s\n",
      "200:\tlearn: 0.9192671\ttest: 1.1624467\tbest: 1.1623332 (199)\ttotal: 34.5s\tremaining: 2m 17s\n",
      "400:\tlearn: 0.7801731\ttest: 1.2005586\tbest: 1.1623332 (199)\ttotal: 1m 7s\tremaining: 1m 40s\n",
      "Stopped by overfitting detector  (250 iterations wait)\n",
      "\n",
      "bestTest = 1.162333164\n",
      "bestIteration = 199\n",
      "\n",
      "Shrink model to first 200 iterations.\n",
      "\n",
      "0.7479237690074397\n",
      "\n",
      "Learning rate set to 0.11835\n",
      "0:\tlearn: 1.5581851\ttest: 1.5598550\tbest: 1.5598550 (0)\ttotal: 186ms\tremaining: 3m 6s\n",
      "200:\tlearn: 0.9304152\ttest: 1.1456871\tbest: 1.1451051 (199)\ttotal: 33.5s\tremaining: 2m 13s\n",
      "400:\tlearn: 0.7895907\ttest: 1.1762329\tbest: 1.1439082 (254)\ttotal: 1m 5s\tremaining: 1m 38s\n",
      "Stopped by overfitting detector  (250 iterations wait)\n",
      "\n",
      "bestTest = 1.143908246\n",
      "bestIteration = 254\n",
      "\n",
      "Shrink model to first 255 iterations.\n",
      "\n",
      "0.7624653798769103\n",
      "\n"
     ]
    }
   ],
   "source": [
    "models = []\n",
    "\n",
    "for train_index, test_index in StratifiedKFold(n_splits=8, random_state=17, shuffle=True).split(X_train, y_train):\n",
    "    \n",
    "    X_train_skf, y_train_skf = X_train.iloc[train_index], y_train.iloc[train_index]\n",
    "    X_val_skf, y_val_skf = X_train.iloc[test_index], y_train.iloc[test_index]\n",
    "    \n",
    "    model = CatBoostClassifier(random_seed=17, verbose=200, \n",
    "                               auto_class_weights='Balanced',\n",
    "                               loss_function='MultiClass',\n",
    "                               class_names=[0, 1, 2, 3, 4], \n",
    "                               early_stopping_rounds=250,\n",
    "                              )\n",
    "    model.fit(X_train_skf, y_train_skf, \n",
    "              eval_set=(X_val_skf, y_val_skf))\n",
    "    \n",
    "    models.append(model)\n",
    "    \n",
    "    print('\\n{}\\n'.format(compete_metric(y_val_skf.values, model.predict(X_val_skf))[0]))"
   ]
  },
  {
   "cell_type": "code",
   "execution_count": 52,
   "metadata": {},
   "outputs": [
    {
     "name": "stdout",
     "output_type": "stream",
     "text": [
      "0.7559151500106946\n",
      "0.7531836518278191\n"
     ]
    }
   ],
   "source": [
    "preds = []\n",
    "for model in models:\n",
    "    preds.append(model.predict_proba(X_val))\n",
    "\n",
    "preds_default = []\n",
    "for pred in np.mean(preds, axis=0):\n",
    "    preds_default.append(np.where(pred == pred.max())[0][0])\n",
    "print(compete_metric(y_val.values, preds_default))\n",
    "\n",
    "preds_default = []\n",
    "for pred in np.median(preds, axis=0):\n",
    "    preds_default.append(np.where(pred == pred.max())[0][0])\n",
    "print(compete_metric(y_val.values, preds_default))"
   ]
  },
  {
   "cell_type": "code",
   "execution_count": 53,
   "metadata": {},
   "outputs": [],
   "source": [
    "preds = np.mean(preds, axis=0)"
   ]
  },
  {
   "cell_type": "code",
   "execution_count": 54,
   "metadata": {
    "tags": []
   },
   "outputs": [
    {
     "name": "stdout",
     "output_type": "stream",
     "text": [
      "0.7601372987347622 [11, 21, 20, 19, 18]\n",
      "0.7794374496292431 [1, 13, 29, 23, 18]\n",
      "0.780262940565704 [5, 13, 36, 26, 19]\n",
      "0.7834386624134133 [4, 20, 34, 29, 12]\n",
      "0.7836977265896262 [0, 16, 29, 22, 1]\n",
      "0.784154250317114 [2, 9, 29, 26, 8]\n",
      "0.784154250317114 [2, 9, 29, 26, 8]\n"
     ]
    }
   ],
   "source": [
    "best_score = 0\n",
    "best_weights = []\n",
    "\n",
    "for j in range(1000):\n",
    "    \n",
    "    a1 = np.random.randint(0, 15)\n",
    "    a2 = np.random.randint(0, 25)\n",
    "    a3 = np.random.randint(15, 40)\n",
    "    a4 = np.random.randint(15, 30)\n",
    "    a5 = np.random.randint(0, 20)\n",
    "                    \n",
    "    preds_ = []\n",
    "    for pred in preds:\n",
    "        pred_ = pred + np.array([a1/100, a2/100, a3/100, a4/100, a5/100])\n",
    "        max_pred_indx = np.where(pred_ == pred_.max())[0][0]\n",
    "        preds_.append(max_pred_indx)\n",
    "    metr = compete_metric(y_val.values, preds_)\n",
    "    \n",
    "    if metr > best_score:\n",
    "        best_score = metr\n",
    "        best_weights = [a1, a2, a3, a4, a5]\n",
    "        print(best_score, best_weights)\n",
    "                        \n",
    "print(best_score, best_weights)"
   ]
  },
  {
   "cell_type": "code",
   "execution_count": 55,
   "metadata": {},
   "outputs": [],
   "source": [
    "fip = pd.DataFrame()\n",
    "fip['feature'] = X_train.columns\n",
    "fip['value'] = np.mean([model.get_feature_importance() for model in models], axis=0)\n",
    "fip = fip.sort_values('value', ascending=False)"
   ]
  },
  {
   "cell_type": "code",
   "execution_count": 56,
   "metadata": {},
   "outputs": [],
   "source": [
    "# 0.784154250317114 [2, 9, 29, 26, 8]\n",
    "for i, model in enumerate(models):\n",
    "    model.save_model('models/3_{}_model'.format(i))\n",
    "fip.to_csv('models/fip_3.csv', index=False)"
   ]
  },
  {
   "cell_type": "markdown",
   "metadata": {},
   "source": [
    "#### 4"
   ]
  },
  {
   "cell_type": "code",
   "execution_count": 78,
   "metadata": {},
   "outputs": [
    {
     "name": "stdout",
     "output_type": "stream",
     "text": [
      "(368, 2)\n",
      "246\n"
     ]
    }
   ],
   "source": [
    "cut_features = list(fip[fip.value >= 0.075].feature.values)\n",
    "print(fip.shape)\n",
    "print(len(cut_features))"
   ]
  },
  {
   "cell_type": "code",
   "execution_count": 79,
   "metadata": {},
   "outputs": [],
   "source": [
    "X_train, X_val, y_train, y_val = train_test_split(data_train[cut_features], data_train['KT_RESULT'],\n",
    "                                                  stratify=data_train['KT_RESULT'], test_size=0.15,\n",
    "                                                  random_state=17)"
   ]
  },
  {
   "cell_type": "code",
   "execution_count": 80,
   "metadata": {
    "tags": []
   },
   "outputs": [
    {
     "name": "stdout",
     "output_type": "stream",
     "text": [
      "Learning rate set to 0.11835\n",
      "0:\tlearn: 1.5606694\ttest: 1.5604614\tbest: 1.5604614 (0)\ttotal: 131ms\tremaining: 2m 10s\n",
      "200:\tlearn: 0.9234737\ttest: 1.1713547\tbest: 1.1653584 (141)\ttotal: 24.6s\tremaining: 1m 37s\n",
      "Stopped by overfitting detector  (250 iterations wait)\n",
      "\n",
      "bestTest = 1.165358429\n",
      "bestIteration = 141\n",
      "\n",
      "Shrink model to first 142 iterations.\n",
      "\n",
      "0.7497240639160523\n",
      "\n",
      "Learning rate set to 0.11835\n",
      "0:\tlearn: 1.5527486\ttest: 1.5553457\tbest: 1.5553457 (0)\ttotal: 126ms\tremaining: 2m 5s\n",
      "200:\tlearn: 0.9170061\ttest: 1.1550362\tbest: 1.1510445 (175)\ttotal: 23.6s\tremaining: 1m 34s\n",
      "400:\tlearn: 0.7800513\ttest: 1.2004128\tbest: 1.1510445 (175)\ttotal: 46.9s\tremaining: 1m 10s\n",
      "Stopped by overfitting detector  (250 iterations wait)\n",
      "\n",
      "bestTest = 1.151044466\n",
      "bestIteration = 175\n",
      "\n",
      "Shrink model to first 176 iterations.\n",
      "\n",
      "0.7489064002148855\n",
      "\n",
      "Learning rate set to 0.11835\n",
      "0:\tlearn: 1.5582762\ttest: 1.5592330\tbest: 1.5592330 (0)\ttotal: 133ms\tremaining: 2m 13s\n",
      "200:\tlearn: 0.9221522\ttest: 1.1660116\tbest: 1.1641415 (168)\ttotal: 23.4s\tremaining: 1m 32s\n",
      "400:\tlearn: 0.7796771\ttest: 1.1978932\tbest: 1.1641415 (168)\ttotal: 46.2s\tremaining: 1m 9s\n",
      "Stopped by overfitting detector  (250 iterations wait)\n",
      "\n",
      "bestTest = 1.164141546\n",
      "bestIteration = 168\n",
      "\n",
      "Shrink model to first 169 iterations.\n",
      "\n",
      "0.7547454311621309\n",
      "\n",
      "Learning rate set to 0.11835\n",
      "0:\tlearn: 1.5532991\ttest: 1.5532266\tbest: 1.5532266 (0)\ttotal: 122ms\tremaining: 2m 1s\n",
      "200:\tlearn: 0.9154579\ttest: 1.1418043\tbest: 1.1413323 (199)\ttotal: 23.5s\tremaining: 1m 33s\n",
      "400:\tlearn: 0.7780715\ttest: 1.1598454\tbest: 1.1361755 (238)\ttotal: 46.4s\tremaining: 1m 9s\n",
      "Stopped by overfitting detector  (250 iterations wait)\n",
      "\n",
      "bestTest = 1.136175496\n",
      "bestIteration = 238\n",
      "\n",
      "Shrink model to first 239 iterations.\n",
      "\n",
      "0.7663883582364409\n",
      "\n",
      "Learning rate set to 0.11835\n",
      "0:\tlearn: 1.5557171\ttest: 1.5546000\tbest: 1.5546000 (0)\ttotal: 123ms\tremaining: 2m 2s\n",
      "200:\tlearn: 0.9188752\ttest: 1.1251746\tbest: 1.1251746 (200)\ttotal: 24.9s\tremaining: 1m 39s\n",
      "400:\tlearn: 0.7767889\ttest: 1.1504270\tbest: 1.1240433 (208)\ttotal: 50.7s\tremaining: 1m 15s\n",
      "Stopped by overfitting detector  (250 iterations wait)\n",
      "\n",
      "bestTest = 1.124043262\n",
      "bestIteration = 208\n",
      "\n",
      "Shrink model to first 209 iterations.\n",
      "\n",
      "0.7686014439597684\n",
      "\n",
      "Learning rate set to 0.11835\n",
      "0:\tlearn: 1.5525892\ttest: 1.5558721\tbest: 1.5558721 (0)\ttotal: 133ms\tremaining: 2m 12s\n",
      "200:\tlearn: 0.9207200\ttest: 1.1736820\tbest: 1.1709145 (176)\ttotal: 24.7s\tremaining: 1m 38s\n",
      "400:\tlearn: 0.7787882\ttest: 1.2057940\tbest: 1.1709145 (176)\ttotal: 48.5s\tremaining: 1m 12s\n",
      "Stopped by overfitting detector  (250 iterations wait)\n",
      "\n",
      "bestTest = 1.170914463\n",
      "bestIteration = 176\n",
      "\n",
      "Shrink model to first 177 iterations.\n",
      "\n",
      "0.7515047400538337\n",
      "\n",
      "Learning rate set to 0.11835\n",
      "0:\tlearn: 1.5446816\ttest: 1.5467799\tbest: 1.5467799 (0)\ttotal: 154ms\tremaining: 2m 34s\n",
      "200:\tlearn: 0.9209880\ttest: 1.1752643\tbest: 1.1731422 (173)\ttotal: 24.2s\tremaining: 1m 36s\n",
      "400:\tlearn: 0.7781996\ttest: 1.2032028\tbest: 1.1706745 (227)\ttotal: 49.2s\tremaining: 1m 13s\n",
      "Stopped by overfitting detector  (250 iterations wait)\n",
      "\n",
      "bestTest = 1.170674492\n",
      "bestIteration = 227\n",
      "\n",
      "Shrink model to first 228 iterations.\n",
      "\n",
      "0.7517887681897018\n",
      "\n",
      "Learning rate set to 0.11835\n",
      "0:\tlearn: 1.5541517\ttest: 1.5553766\tbest: 1.5553766 (0)\ttotal: 136ms\tremaining: 2m 15s\n",
      "200:\tlearn: 0.9210354\ttest: 1.1626542\tbest: 1.1602008 (161)\ttotal: 24s\tremaining: 1m 35s\n",
      "400:\tlearn: 0.7815060\ttest: 1.1954443\tbest: 1.1602008 (161)\ttotal: 47.5s\tremaining: 1m 10s\n",
      "Stopped by overfitting detector  (250 iterations wait)\n",
      "\n",
      "bestTest = 1.160200797\n",
      "bestIteration = 161\n",
      "\n",
      "Shrink model to first 162 iterations.\n",
      "\n",
      "0.7469863967627759\n",
      "\n"
     ]
    }
   ],
   "source": [
    "models = []\n",
    "\n",
    "for train_index, test_index in StratifiedKFold(n_splits=8, random_state=17, shuffle=True).split(X_train, y_train):\n",
    "    \n",
    "    X_train_skf, y_train_skf = X_train.iloc[train_index], y_train.iloc[train_index]\n",
    "    X_val_skf, y_val_skf = X_train.iloc[test_index], y_train.iloc[test_index]\n",
    "    \n",
    "    model = CatBoostClassifier(random_seed=17, verbose=200, \n",
    "                               auto_class_weights='Balanced',\n",
    "                               loss_function='MultiClass',\n",
    "                               class_names=[0, 1, 2, 3, 4], \n",
    "                               early_stopping_rounds=250,\n",
    "                              )\n",
    "    model.fit(X_train_skf, y_train_skf, \n",
    "              eval_set=(X_val_skf, y_val_skf))\n",
    "    \n",
    "    models.append(model)\n",
    "    \n",
    "    print('\\n{}\\n'.format(compete_metric(y_val_skf.values, model.predict(X_val_skf))[0]))"
   ]
  },
  {
   "cell_type": "code",
   "execution_count": 81,
   "metadata": {},
   "outputs": [
    {
     "name": "stdout",
     "output_type": "stream",
     "text": [
      "0.7536131720133036\n",
      "0.7537275755745712\n"
     ]
    }
   ],
   "source": [
    "preds = []\n",
    "for model in models:\n",
    "    preds.append(model.predict_proba(X_val))\n",
    "\n",
    "preds_default = []\n",
    "for pred in np.mean(preds, axis=0):\n",
    "    preds_default.append(np.where(pred == pred.max())[0][0])\n",
    "print(compete_metric(y_val.values, preds_default))\n",
    "\n",
    "preds_default = []\n",
    "for pred in np.median(preds, axis=0):\n",
    "    preds_default.append(np.where(pred == pred.max())[0][0])\n",
    "print(compete_metric(y_val.values, preds_default))"
   ]
  },
  {
   "cell_type": "code",
   "execution_count": 82,
   "metadata": {},
   "outputs": [],
   "source": [
    "preds = np.mean(preds, axis=0)"
   ]
  },
  {
   "cell_type": "code",
   "execution_count": 83,
   "metadata": {
    "collapsed": true,
    "jupyter": {
     "outputs_hidden": true
    },
    "tags": []
   },
   "outputs": [
    {
     "name": "stdout",
     "output_type": "stream",
     "text": [
      "0.7750714165662067 [2, 11, 24, 20, 12]\n",
      "0.778161449003403 [1, 3, 36, 28, 15]\n",
      "0.7784477420484771 [11, 22, 31, 28, 4]\n",
      "0.7789270919059526 [0, 13, 26, 25, 8]\n",
      "0.7819441270888312 [3, 21, 33, 29, 1]\n",
      "0.7828796829347107 [6, 11, 34, 29, 7]\n",
      "0.7829537253871068 [1, 21, 31, 25, 2]\n",
      "0.7829752579395103 [7, 19, 36, 29, 9]\n"
     ]
    },
    {
     "ename": "KeyboardInterrupt",
     "evalue": "",
     "output_type": "error",
     "traceback": [
      "\u001b[0;31m---------------------------------------------------------------------------\u001b[0m",
      "\u001b[0;31mKeyboardInterrupt\u001b[0m                         Traceback (most recent call last)",
      "\u001b[0;32m/var/folders/8n/c9njytgn0g778_3wm9c937c80000gn/T/ipykernel_1455/1420280947.py\u001b[0m in \u001b[0;36m<module>\u001b[0;34m\u001b[0m\n\u001b[1;32m     15\u001b[0m         \u001b[0mmax_pred_indx\u001b[0m \u001b[0;34m=\u001b[0m \u001b[0mnp\u001b[0m\u001b[0;34m.\u001b[0m\u001b[0mwhere\u001b[0m\u001b[0;34m(\u001b[0m\u001b[0mpred_\u001b[0m \u001b[0;34m==\u001b[0m \u001b[0mpred_\u001b[0m\u001b[0;34m.\u001b[0m\u001b[0mmax\u001b[0m\u001b[0;34m(\u001b[0m\u001b[0;34m)\u001b[0m\u001b[0;34m)\u001b[0m\u001b[0;34m[\u001b[0m\u001b[0;36m0\u001b[0m\u001b[0;34m]\u001b[0m\u001b[0;34m[\u001b[0m\u001b[0;36m0\u001b[0m\u001b[0;34m]\u001b[0m\u001b[0;34m\u001b[0m\u001b[0;34m\u001b[0m\u001b[0m\n\u001b[1;32m     16\u001b[0m         \u001b[0mpreds_\u001b[0m\u001b[0;34m.\u001b[0m\u001b[0mappend\u001b[0m\u001b[0;34m(\u001b[0m\u001b[0mmax_pred_indx\u001b[0m\u001b[0;34m)\u001b[0m\u001b[0;34m\u001b[0m\u001b[0;34m\u001b[0m\u001b[0m\n\u001b[0;32m---> 17\u001b[0;31m     \u001b[0mmetr\u001b[0m \u001b[0;34m=\u001b[0m \u001b[0mcompete_metric\u001b[0m\u001b[0;34m(\u001b[0m\u001b[0my_val\u001b[0m\u001b[0;34m.\u001b[0m\u001b[0mvalues\u001b[0m\u001b[0;34m,\u001b[0m \u001b[0mpreds_\u001b[0m\u001b[0;34m)\u001b[0m\u001b[0;34m\u001b[0m\u001b[0;34m\u001b[0m\u001b[0m\n\u001b[0m\u001b[1;32m     18\u001b[0m \u001b[0;34m\u001b[0m\u001b[0m\n\u001b[1;32m     19\u001b[0m     \u001b[0;32mif\u001b[0m \u001b[0mmetr\u001b[0m \u001b[0;34m>\u001b[0m \u001b[0mbest_score\u001b[0m\u001b[0;34m:\u001b[0m\u001b[0;34m\u001b[0m\u001b[0;34m\u001b[0m\u001b[0m\n",
      "\u001b[0;32m/var/folders/8n/c9njytgn0g778_3wm9c937c80000gn/T/ipykernel_1455/2844132406.py\u001b[0m in \u001b[0;36mcompete_metric\u001b[0;34m(gt, pr)\u001b[0m\n\u001b[1;32m     12\u001b[0m \u001b[0;34m\u001b[0m\u001b[0m\n\u001b[1;32m     13\u001b[0m             \u001b[0mgt_val\u001b[0m \u001b[0;34m=\u001b[0m \u001b[0mgt\u001b[0m\u001b[0;34m[\u001b[0m\u001b[0mi\u001b[0m\u001b[0;34m]\u001b[0m\u001b[0;34m\u001b[0m\u001b[0;34m\u001b[0m\u001b[0m\n\u001b[0;32m---> 14\u001b[0;31m             \u001b[0mpr_val\u001b[0m \u001b[0;34m=\u001b[0m \u001b[0mpr\u001b[0m\u001b[0;34m[\u001b[0m\u001b[0mi\u001b[0m\u001b[0;34m]\u001b[0m\u001b[0;34m\u001b[0m\u001b[0;34m\u001b[0m\u001b[0m\n\u001b[0m\u001b[1;32m     15\u001b[0m \u001b[0;34m\u001b[0m\u001b[0m\n\u001b[1;32m     16\u001b[0m             \u001b[0;32mif\u001b[0m \u001b[0mgt_val\u001b[0m \u001b[0;34m==\u001b[0m \u001b[0mj\u001b[0m\u001b[0;34m:\u001b[0m\u001b[0;34m\u001b[0m\u001b[0;34m\u001b[0m\u001b[0m\n",
      "\u001b[0;31mKeyboardInterrupt\u001b[0m: "
     ]
    }
   ],
   "source": [
    "best_score = 0\n",
    "best_weights = []\n",
    "\n",
    "for j in range(1000):\n",
    "    \n",
    "    a1 = np.random.randint(0, 15)\n",
    "    a2 = np.random.randint(0, 25)\n",
    "    a3 = np.random.randint(15, 40)\n",
    "    a4 = np.random.randint(15, 30)\n",
    "    a5 = np.random.randint(0, 20)\n",
    "                    \n",
    "    preds_ = []\n",
    "    for pred in preds:\n",
    "        pred_ = pred + np.array([a1/100, a2/100, a3/100, a4/100, a5/100])\n",
    "        max_pred_indx = np.where(pred_ == pred_.max())[0][0]\n",
    "        preds_.append(max_pred_indx)\n",
    "    metr = compete_metric(y_val.values, preds_)\n",
    "    \n",
    "    if metr > best_score:\n",
    "        best_score = metr\n",
    "        best_weights = [a1, a2, a3, a4, a5]\n",
    "        print(best_score, best_weights)\n",
    "                        \n",
    "print(best_score, best_weights)"
   ]
  },
  {
   "cell_type": "code",
   "execution_count": 84,
   "metadata": {},
   "outputs": [],
   "source": [
    "fip = pd.DataFrame()\n",
    "fip['feature'] = X_train.columns\n",
    "fip['value'] = np.mean([model.get_feature_importance() for model in models], axis=0)\n",
    "fip = fip.sort_values('value', ascending=False)"
   ]
  },
  {
   "cell_type": "code",
   "execution_count": 85,
   "metadata": {},
   "outputs": [],
   "source": [
    "# [7, 19, 36, 29, 9]\n",
    "for i, model in enumerate(models):\n",
    "    model.save_model('models/4_{}_model'.format(i))\n",
    "fip.to_csv('models/fip_4.csv', index=False)"
   ]
  },
  {
   "cell_type": "markdown",
   "metadata": {},
   "source": [
    "#### scoring"
   ]
  },
  {
   "cell_type": "code",
   "execution_count": 87,
   "metadata": {},
   "outputs": [],
   "source": [
    "weights = [[0.03, 0.20, 0.32, 0.24, 0.03],\n",
    "           [0.06, 0.24, 0.35, 0.28, 0.0],\n",
    "           [0.05, 0.17, 0.33, 0.27, 0.01],\n",
    "           [0.02, 0.09, 0.29, 0.26, 0.08],\n",
    "           [0.07, 0.19, 0.36, 0.29, 0.09]]"
   ]
  },
  {
   "cell_type": "code",
   "execution_count": 96,
   "metadata": {},
   "outputs": [],
   "source": [
    "preds_all = []\n",
    "\n",
    "for i in range(5):\n",
    "    \n",
    "    models = []\n",
    "    preds = np.zeros((data_test.shape[0], 5))\n",
    "    \n",
    "    for j in range(8):\n",
    "        \n",
    "        model = CatBoostClassifier().load_model('models/{}_{}_model'.format(i, j))\n",
    "        preds += (model.predict_proba(data_test)) / 8\n",
    "#          + np.array(weights[i])\n",
    "    \n",
    "    preds_all.append(preds)\n",
    "\n",
    "preds_all = np.mean(preds_all, axis=0)"
   ]
  },
  {
   "cell_type": "code",
   "execution_count": 97,
   "metadata": {},
   "outputs": [],
   "source": [
    "preds_ = []\n",
    "for pred in preds_all:\n",
    "    max_pred_indx = np.where(pred == pred.max())[0][0]\n",
    "    preds_.append(max_pred_indx)"
   ]
  },
  {
   "cell_type": "code",
   "execution_count": 98,
   "metadata": {},
   "outputs": [],
   "source": [
    "data_test['KT_RESULT'] = preds_"
   ]
  },
  {
   "cell_type": "code",
   "execution_count": 99,
   "metadata": {},
   "outputs": [
    {
     "data": {
      "text/html": [
       "<div>\n",
       "<style scoped>\n",
       "    .dataframe tbody tr th:only-of-type {\n",
       "        vertical-align: middle;\n",
       "    }\n",
       "\n",
       "    .dataframe tbody tr th {\n",
       "        vertical-align: top;\n",
       "    }\n",
       "\n",
       "    .dataframe thead th {\n",
       "        text-align: right;\n",
       "    }\n",
       "</style>\n",
       "<table border=\"1\" class=\"dataframe\">\n",
       "  <thead>\n",
       "    <tr style=\"text-align: right;\">\n",
       "      <th></th>\n",
       "      <th>idx</th>\n",
       "      <th>DATE</th>\n",
       "      <th>KT_RESULT</th>\n",
       "    </tr>\n",
       "  </thead>\n",
       "  <tbody>\n",
       "    <tr>\n",
       "      <th>0</th>\n",
       "      <td>53</td>\n",
       "      <td>2020-05-05</td>\n",
       "      <td>КТ-1</td>\n",
       "    </tr>\n",
       "    <tr>\n",
       "      <th>1</th>\n",
       "      <td>91</td>\n",
       "      <td>2020-05-17</td>\n",
       "      <td>КТ-1</td>\n",
       "    </tr>\n",
       "    <tr>\n",
       "      <th>2</th>\n",
       "      <td>93</td>\n",
       "      <td>2020-05-17</td>\n",
       "      <td>КТ-0</td>\n",
       "    </tr>\n",
       "    <tr>\n",
       "      <th>3</th>\n",
       "      <td>138</td>\n",
       "      <td>2020-04-24</td>\n",
       "      <td>КТ-1</td>\n",
       "    </tr>\n",
       "    <tr>\n",
       "      <th>4</th>\n",
       "      <td>161</td>\n",
       "      <td>2020-05-16</td>\n",
       "      <td>КТ-0</td>\n",
       "    </tr>\n",
       "    <tr>\n",
       "      <th>...</th>\n",
       "      <td>...</td>\n",
       "      <td>...</td>\n",
       "      <td>...</td>\n",
       "    </tr>\n",
       "    <tr>\n",
       "      <th>33075</th>\n",
       "      <td>1296845</td>\n",
       "      <td>2020-07-02</td>\n",
       "      <td>КТ-1</td>\n",
       "    </tr>\n",
       "    <tr>\n",
       "      <th>33076</th>\n",
       "      <td>1297007</td>\n",
       "      <td>2020-07-03</td>\n",
       "      <td>КТ-0</td>\n",
       "    </tr>\n",
       "    <tr>\n",
       "      <th>33077</th>\n",
       "      <td>1297357</td>\n",
       "      <td>2020-07-05</td>\n",
       "      <td>КТ-1</td>\n",
       "    </tr>\n",
       "    <tr>\n",
       "      <th>33078</th>\n",
       "      <td>1297421</td>\n",
       "      <td>2020-07-01</td>\n",
       "      <td>КТ-1</td>\n",
       "    </tr>\n",
       "    <tr>\n",
       "      <th>33079</th>\n",
       "      <td>1297424</td>\n",
       "      <td>2020-07-01</td>\n",
       "      <td>КТ-0</td>\n",
       "    </tr>\n",
       "  </tbody>\n",
       "</table>\n",
       "<p>33080 rows × 3 columns</p>\n",
       "</div>"
      ],
      "text/plain": [
       "           idx        DATE KT_RESULT\n",
       "0           53  2020-05-05      КТ-1\n",
       "1           91  2020-05-17      КТ-1\n",
       "2           93  2020-05-17      КТ-0\n",
       "3          138  2020-04-24      КТ-1\n",
       "4          161  2020-05-16      КТ-0\n",
       "...        ...         ...       ...\n",
       "33075  1296845  2020-07-02      КТ-1\n",
       "33076  1297007  2020-07-03      КТ-0\n",
       "33077  1297357  2020-07-05      КТ-1\n",
       "33078  1297421  2020-07-01      КТ-1\n",
       "33079  1297424  2020-07-01      КТ-0\n",
       "\n",
       "[33080 rows x 3 columns]"
      ]
     },
     "execution_count": 99,
     "metadata": {},
     "output_type": "execute_result"
    }
   ],
   "source": [
    "test_result = data_test[['idx', 'DATE', 'KT_RESULT']].copy()\n",
    "test_result.DATE = test_result.DATE.astype(str)\n",
    "\n",
    "test_result.KT_RESULT = preds_\n",
    "test_result.KT_RESULT = test_result.KT_RESULT.apply(lambda x: 'КТ-'+str(x))\n",
    "\n",
    "test_result"
   ]
  },
  {
   "cell_type": "code",
   "execution_count": 100,
   "metadata": {},
   "outputs": [],
   "source": [
    "kt_test = pd.merge(kt_test[['idx', 'DATE']], test_result.drop_duplicates(), on=['idx', 'DATE'], how='left')"
   ]
  },
  {
   "cell_type": "code",
   "execution_count": 101,
   "metadata": {},
   "outputs": [
    {
     "data": {
      "text/html": [
       "<div>\n",
       "<style scoped>\n",
       "    .dataframe tbody tr th:only-of-type {\n",
       "        vertical-align: middle;\n",
       "    }\n",
       "\n",
       "    .dataframe tbody tr th {\n",
       "        vertical-align: top;\n",
       "    }\n",
       "\n",
       "    .dataframe thead th {\n",
       "        text-align: right;\n",
       "    }\n",
       "</style>\n",
       "<table border=\"1\" class=\"dataframe\">\n",
       "  <thead>\n",
       "    <tr style=\"text-align: right;\">\n",
       "      <th></th>\n",
       "      <th>idx</th>\n",
       "      <th>DATE</th>\n",
       "      <th>KT_RESULT</th>\n",
       "    </tr>\n",
       "  </thead>\n",
       "  <tbody>\n",
       "    <tr>\n",
       "      <th>0</th>\n",
       "      <td>644661</td>\n",
       "      <td>2020-04-17</td>\n",
       "      <td>КТ-2</td>\n",
       "    </tr>\n",
       "    <tr>\n",
       "      <th>1</th>\n",
       "      <td>292115</td>\n",
       "      <td>2020-04-18</td>\n",
       "      <td>КТ-1</td>\n",
       "    </tr>\n",
       "    <tr>\n",
       "      <th>2</th>\n",
       "      <td>556023</td>\n",
       "      <td>2020-04-18</td>\n",
       "      <td>КТ-0</td>\n",
       "    </tr>\n",
       "    <tr>\n",
       "      <th>3</th>\n",
       "      <td>233104</td>\n",
       "      <td>2020-04-18</td>\n",
       "      <td>КТ-3</td>\n",
       "    </tr>\n",
       "    <tr>\n",
       "      <th>4</th>\n",
       "      <td>90502</td>\n",
       "      <td>2020-04-18</td>\n",
       "      <td>КТ-4</td>\n",
       "    </tr>\n",
       "    <tr>\n",
       "      <th>...</th>\n",
       "      <td>...</td>\n",
       "      <td>...</td>\n",
       "      <td>...</td>\n",
       "    </tr>\n",
       "    <tr>\n",
       "      <th>33075</th>\n",
       "      <td>1119183</td>\n",
       "      <td>2020-07-11</td>\n",
       "      <td>КТ-1</td>\n",
       "    </tr>\n",
       "    <tr>\n",
       "      <th>33076</th>\n",
       "      <td>473620</td>\n",
       "      <td>2020-07-11</td>\n",
       "      <td>КТ-1</td>\n",
       "    </tr>\n",
       "    <tr>\n",
       "      <th>33077</th>\n",
       "      <td>327819</td>\n",
       "      <td>2020-07-11</td>\n",
       "      <td>КТ-0</td>\n",
       "    </tr>\n",
       "    <tr>\n",
       "      <th>33078</th>\n",
       "      <td>452847</td>\n",
       "      <td>2020-07-11</td>\n",
       "      <td>КТ-1</td>\n",
       "    </tr>\n",
       "    <tr>\n",
       "      <th>33079</th>\n",
       "      <td>963363</td>\n",
       "      <td>2020-07-11</td>\n",
       "      <td>КТ-0</td>\n",
       "    </tr>\n",
       "  </tbody>\n",
       "</table>\n",
       "<p>33080 rows × 3 columns</p>\n",
       "</div>"
      ],
      "text/plain": [
       "           idx        DATE KT_RESULT\n",
       "0       644661  2020-04-17      КТ-2\n",
       "1       292115  2020-04-18      КТ-1\n",
       "2       556023  2020-04-18      КТ-0\n",
       "3       233104  2020-04-18      КТ-3\n",
       "4        90502  2020-04-18      КТ-4\n",
       "...        ...         ...       ...\n",
       "33075  1119183  2020-07-11      КТ-1\n",
       "33076   473620  2020-07-11      КТ-1\n",
       "33077   327819  2020-07-11      КТ-0\n",
       "33078   452847  2020-07-11      КТ-1\n",
       "33079   963363  2020-07-11      КТ-0\n",
       "\n",
       "[33080 rows x 3 columns]"
      ]
     },
     "execution_count": 101,
     "metadata": {},
     "output_type": "execute_result"
    }
   ],
   "source": [
    "kt_test"
   ]
  },
  {
   "cell_type": "code",
   "execution_count": 102,
   "metadata": {},
   "outputs": [],
   "source": [
    "kt_test.to_csv('sub_new_new_3.csv', index=False)"
   ]
  },
  {
   "cell_type": "code",
   "execution_count": 103,
   "metadata": {},
   "outputs": [
    {
     "data": {
      "text/plain": [
       "KT_RESULT\n",
       "КТ-0    12293\n",
       "КТ-1    10654\n",
       "КТ-2     4516\n",
       "КТ-3     4819\n",
       "КТ-4      798\n",
       "Name: idx, dtype: int64"
      ]
     },
     "execution_count": 103,
     "metadata": {},
     "output_type": "execute_result"
    }
   ],
   "source": [
    "kt_test.groupby('KT_RESULT').idx.count()"
   ]
  },
  {
   "cell_type": "code",
   "execution_count": null,
   "metadata": {},
   "outputs": [],
   "source": []
  },
  {
   "cell_type": "code",
   "execution_count": null,
   "metadata": {},
   "outputs": [],
   "source": []
  },
  {
   "cell_type": "markdown",
   "metadata": {},
   "source": [
    "### score old"
   ]
  },
  {
   "cell_type": "code",
   "execution_count": 335,
   "metadata": {},
   "outputs": [],
   "source": [
    "preds = models[0].predict_proba(X_val) / len(models)\n",
    "\n",
    "for model in models[1:]:\n",
    "    preds += model.predict_proba(X_val) / len(models)\n",
    "    \n",
    "preds_ = []\n",
    "for pred in preds:\n",
    "    pred_ = pred + np.array([0.07, 0.19, 0.36, 0.29, 0.09])\n",
    "    max_pred_indx = np.where(pred_ == pred_.max())[0][0]\n",
    "    preds_.append(max_pred_indx)"
   ]
  },
  {
   "cell_type": "code",
   "execution_count": 339,
   "metadata": {},
   "outputs": [
    {
     "data": {
      "text/plain": [
       "0\n",
       "0    6113\n",
       "1    3374\n",
       "2    7339\n",
       "3    2914\n",
       "4      59\n",
       "Name: index, dtype: int64"
      ]
     },
     "execution_count": 339,
     "metadata": {},
     "output_type": "execute_result"
    }
   ],
   "source": [
    "pd.Series(preds_).reset_index().groupby(0).index.count()"
   ]
  },
  {
   "cell_type": "code",
   "execution_count": 342,
   "metadata": {},
   "outputs": [
    {
     "data": {
      "text/plain": [
       "KT_RESULT\n",
       "0    7198\n",
       "1    8335\n",
       "2    3176\n",
       "3    1000\n",
       "4      90\n",
       "Name: index, dtype: int64"
      ]
     },
     "execution_count": 342,
     "metadata": {},
     "output_type": "execute_result"
    }
   ],
   "source": [
    "y_val.reset_index().groupby('KT_RESULT').index.count()"
   ]
  },
  {
   "cell_type": "code",
   "execution_count": null,
   "metadata": {},
   "outputs": [],
   "source": []
  },
  {
   "cell_type": "code",
   "execution_count": null,
   "metadata": {},
   "outputs": [],
   "source": []
  },
  {
   "cell_type": "code",
   "execution_count": 327,
   "metadata": {
    "tags": []
   },
   "outputs": [],
   "source": [
    "preds = models[0].predict_proba(data_test[X_train.columns]) / len(models)\n",
    "\n",
    "for model in models[1:]:\n",
    "    preds += model.predict_proba(data_test[X_train.columns]) / len(models)\n",
    "    \n",
    "preds_ = []\n",
    "for pred in preds:\n",
    "    pred_ = pred + np.array([0.07, 0.19, 0.36, 0.29, 0.09])\n",
    "    max_pred_indx = np.where(pred_ == pred_.max())[0][0]\n",
    "    preds_.append(max_pred_indx)"
   ]
  },
  {
   "cell_type": "code",
   "execution_count": 328,
   "metadata": {},
   "outputs": [],
   "source": [
    "data_test['KT_RESULT'] = preds_"
   ]
  },
  {
   "cell_type": "code",
   "execution_count": 329,
   "metadata": {},
   "outputs": [
    {
     "data": {
      "text/html": [
       "<div>\n",
       "<style scoped>\n",
       "    .dataframe tbody tr th:only-of-type {\n",
       "        vertical-align: middle;\n",
       "    }\n",
       "\n",
       "    .dataframe tbody tr th {\n",
       "        vertical-align: top;\n",
       "    }\n",
       "\n",
       "    .dataframe thead th {\n",
       "        text-align: right;\n",
       "    }\n",
       "</style>\n",
       "<table border=\"1\" class=\"dataframe\">\n",
       "  <thead>\n",
       "    <tr style=\"text-align: right;\">\n",
       "      <th></th>\n",
       "      <th>idx</th>\n",
       "      <th>DATE</th>\n",
       "      <th>KT_RESULT</th>\n",
       "    </tr>\n",
       "  </thead>\n",
       "  <tbody>\n",
       "    <tr>\n",
       "      <th>0</th>\n",
       "      <td>53</td>\n",
       "      <td>2020-05-05</td>\n",
       "      <td>КТ-1</td>\n",
       "    </tr>\n",
       "    <tr>\n",
       "      <th>1</th>\n",
       "      <td>91</td>\n",
       "      <td>2020-05-17</td>\n",
       "      <td>КТ-1</td>\n",
       "    </tr>\n",
       "    <tr>\n",
       "      <th>2</th>\n",
       "      <td>93</td>\n",
       "      <td>2020-05-17</td>\n",
       "      <td>КТ-0</td>\n",
       "    </tr>\n",
       "    <tr>\n",
       "      <th>3</th>\n",
       "      <td>138</td>\n",
       "      <td>2020-04-24</td>\n",
       "      <td>КТ-2</td>\n",
       "    </tr>\n",
       "    <tr>\n",
       "      <th>4</th>\n",
       "      <td>161</td>\n",
       "      <td>2020-05-16</td>\n",
       "      <td>КТ-0</td>\n",
       "    </tr>\n",
       "    <tr>\n",
       "      <th>...</th>\n",
       "      <td>...</td>\n",
       "      <td>...</td>\n",
       "      <td>...</td>\n",
       "    </tr>\n",
       "    <tr>\n",
       "      <th>33075</th>\n",
       "      <td>1296845</td>\n",
       "      <td>2020-07-02</td>\n",
       "      <td>КТ-1</td>\n",
       "    </tr>\n",
       "    <tr>\n",
       "      <th>33076</th>\n",
       "      <td>1297007</td>\n",
       "      <td>2020-07-03</td>\n",
       "      <td>КТ-0</td>\n",
       "    </tr>\n",
       "    <tr>\n",
       "      <th>33077</th>\n",
       "      <td>1297357</td>\n",
       "      <td>2020-07-05</td>\n",
       "      <td>КТ-1</td>\n",
       "    </tr>\n",
       "    <tr>\n",
       "      <th>33078</th>\n",
       "      <td>1297421</td>\n",
       "      <td>2020-07-01</td>\n",
       "      <td>КТ-2</td>\n",
       "    </tr>\n",
       "    <tr>\n",
       "      <th>33079</th>\n",
       "      <td>1297424</td>\n",
       "      <td>2020-07-01</td>\n",
       "      <td>КТ-0</td>\n",
       "    </tr>\n",
       "  </tbody>\n",
       "</table>\n",
       "<p>33080 rows × 3 columns</p>\n",
       "</div>"
      ],
      "text/plain": [
       "           idx        DATE KT_RESULT\n",
       "0           53  2020-05-05      КТ-1\n",
       "1           91  2020-05-17      КТ-1\n",
       "2           93  2020-05-17      КТ-0\n",
       "3          138  2020-04-24      КТ-2\n",
       "4          161  2020-05-16      КТ-0\n",
       "...        ...         ...       ...\n",
       "33075  1296845  2020-07-02      КТ-1\n",
       "33076  1297007  2020-07-03      КТ-0\n",
       "33077  1297357  2020-07-05      КТ-1\n",
       "33078  1297421  2020-07-01      КТ-2\n",
       "33079  1297424  2020-07-01      КТ-0\n",
       "\n",
       "[33080 rows x 3 columns]"
      ]
     },
     "execution_count": 329,
     "metadata": {},
     "output_type": "execute_result"
    }
   ],
   "source": [
    "# kt_test.KT_RESULT = model.predict(data_test[X_train.columns])\n",
    "# kt_test.KT_RESULT = 2\n",
    "\n",
    "test_result = data_test[['idx', 'DATE', 'KT_RESULT']].copy()\n",
    "test_result.DATE = test_result.DATE.astype(str)\n",
    "\n",
    "test_result.KT_RESULT = preds_\n",
    "test_result.KT_RESULT = test_result.KT_RESULT.apply(lambda x: 'КТ-'+str(x))\n",
    "\n",
    "test_result"
   ]
  },
  {
   "cell_type": "code",
   "execution_count": 330,
   "metadata": {},
   "outputs": [],
   "source": [
    "kt_test = pd.merge(kt_test[['idx', 'DATE']], test_result.drop_duplicates(), on=['idx', 'DATE'], how='left')"
   ]
  },
  {
   "cell_type": "code",
   "execution_count": 334,
   "metadata": {},
   "outputs": [],
   "source": [
    "kt_test.to_csv('sub_new_6.csv', index=False)"
   ]
  },
  {
   "cell_type": "code",
   "execution_count": 332,
   "metadata": {},
   "outputs": [
    {
     "data": {
      "text/plain": [
       "KT_RESULT\n",
       "КТ-0    10231\n",
       "КТ-1     5591\n",
       "КТ-2    12391\n",
       "КТ-3     4771\n",
       "КТ-4       96\n",
       "Name: idx, dtype: int64"
      ]
     },
     "execution_count": 332,
     "metadata": {},
     "output_type": "execute_result"
    }
   ],
   "source": [
    "kt_test.groupby('KT_RESULT').idx.count()"
   ]
  },
  {
   "cell_type": "code",
   "execution_count": 333,
   "metadata": {},
   "outputs": [
    {
     "data": {
      "text/plain": [
       "KT_RESULT\n",
       "КТ-0    48092\n",
       "КТ-1    55685\n",
       "КТ-2    21231\n",
       "КТ-3     6678\n",
       "КТ-4      603\n",
       "Name: idx, dtype: int64"
      ]
     },
     "execution_count": 333,
     "metadata": {},
     "output_type": "execute_result"
    }
   ],
   "source": [
    "kt_train.groupby('KT_RESULT').idx.count()"
   ]
  },
  {
   "cell_type": "markdown",
   "metadata": {},
   "source": [
    "## Regression"
   ]
  },
  {
   "cell_type": "code",
   "execution_count": 900,
   "metadata": {},
   "outputs": [],
   "source": [
    "X_train, X_val, y_train, y_val = train_test_split(data_train[data_train.columns[3:]], data_train['KT_RESULT'],\n",
    "                                                 stratify=data_train['KT_RESULT'], test_size=0.2)"
   ]
  },
  {
   "cell_type": "code",
   "execution_count": null,
   "metadata": {},
   "outputs": [],
   "source": [
    "# MAE 0.56 / 0.65\n",
    "# MAPE 0.55 / 0.61\n",
    "# Poisson 0.61 / 0.68\n",
    "# Quantile 0.56 / 0.65\n",
    "# RMSE 0.61 / 0.68\n",
    "# RMSEWithUncertainty 0.61 / 0.68\n",
    "# LogLinQuantile 0.25 / 0.43"
   ]
  },
  {
   "cell_type": "code",
   "execution_count": 292,
   "metadata": {},
   "outputs": [
    {
     "name": "stdout",
     "output_type": "stream",
     "text": [
      "Learning rate set to 0.112442\n",
      "0:\tlearn: 0.8439656\ttest: 0.8441211\tbest: 0.8441211 (0)\ttotal: 209ms\tremaining: 3m 28s\n",
      "50:\tlearn: 0.6523400\ttest: 0.6579450\tbest: 0.6579450 (50)\ttotal: 7.65s\tremaining: 2m 22s\n",
      "100:\tlearn: 0.6304630\ttest: 0.6378625\tbest: 0.6378625 (100)\ttotal: 14.5s\tremaining: 2m 9s\n",
      "150:\tlearn: 0.6164192\ttest: 0.6260306\tbest: 0.6260306 (150)\ttotal: 21.2s\tremaining: 1m 59s\n",
      "200:\tlearn: 0.6083218\ttest: 0.6199645\tbest: 0.6199645 (200)\ttotal: 27.4s\tremaining: 1m 49s\n",
      "250:\tlearn: 0.6028070\ttest: 0.6163956\tbest: 0.6163956 (250)\ttotal: 33.6s\tremaining: 1m 40s\n",
      "300:\tlearn: 0.5985596\ttest: 0.6140303\tbest: 0.6140303 (300)\ttotal: 40s\tremaining: 1m 32s\n",
      "350:\tlearn: 0.5947773\ttest: 0.6123020\tbest: 0.6123020 (350)\ttotal: 46s\tremaining: 1m 25s\n",
      "400:\tlearn: 0.5912572\ttest: 0.6106187\tbest: 0.6106187 (400)\ttotal: 52.2s\tremaining: 1m 17s\n",
      "450:\tlearn: 0.5883349\ttest: 0.6093178\tbest: 0.6093178 (450)\ttotal: 58.4s\tremaining: 1m 11s\n",
      "500:\tlearn: 0.5859175\ttest: 0.6082551\tbest: 0.6082446 (499)\ttotal: 1m 3s\tremaining: 1m 3s\n",
      "550:\tlearn: 0.5835083\ttest: 0.6072305\tbest: 0.6072305 (550)\ttotal: 1m 9s\tremaining: 56.7s\n",
      "600:\tlearn: 0.5815848\ttest: 0.6066534\tbest: 0.6066466 (599)\ttotal: 1m 15s\tremaining: 50s\n",
      "650:\tlearn: 0.5797107\ttest: 0.6061329\tbest: 0.6061329 (650)\ttotal: 1m 20s\tremaining: 43.4s\n",
      "700:\tlearn: 0.5779111\ttest: 0.6056971\tbest: 0.6056971 (700)\ttotal: 1m 26s\tremaining: 36.9s\n",
      "750:\tlearn: 0.5760467\ttest: 0.6051885\tbest: 0.6051764 (748)\ttotal: 1m 32s\tremaining: 30.6s\n",
      "800:\tlearn: 0.5746752\ttest: 0.6049232\tbest: 0.6049232 (800)\ttotal: 1m 37s\tremaining: 24.3s\n",
      "850:\tlearn: 0.5731794\ttest: 0.6045655\tbest: 0.6045655 (850)\ttotal: 1m 43s\tremaining: 18.1s\n",
      "900:\tlearn: 0.5716615\ttest: 0.6042169\tbest: 0.6042169 (900)\ttotal: 1m 49s\tremaining: 12s\n",
      "950:\tlearn: 0.5704300\ttest: 0.6039157\tbest: 0.6039157 (950)\ttotal: 1m 55s\tremaining: 5.94s\n",
      "999:\tlearn: 0.5687831\ttest: 0.6035738\tbest: 0.6035738 (999)\ttotal: 2m 1s\tremaining: 0us\n",
      "\n",
      "bestTest = 0.6035737519\n",
      "bestIteration = 999\n",
      "\n"
     ]
    },
    {
     "data": {
      "text/plain": [
       "<catboost.core.CatBoostRegressor at 0x1ba2eeac0>"
      ]
     },
     "execution_count": 292,
     "metadata": {},
     "output_type": "execute_result"
    }
   ],
   "source": [
    "model = CatBoostRegressor(random_seed=17, verbose=50,\n",
    "                          loss_function='RMSE')\n",
    "model.fit(X_train, y_train, eval_set=(X_val, y_val))"
   ]
  },
  {
   "cell_type": "code",
   "execution_count": 299,
   "metadata": {},
   "outputs": [
    {
     "data": {
      "text/plain": [
       "array([ 0.93987752, -0.04816522,  1.24081703, ...,  1.86151268,\n",
       "        1.26725865,  0.64303593])"
      ]
     },
     "execution_count": 299,
     "metadata": {},
     "output_type": "execute_result"
    }
   ],
   "source": [
    "model.predict(X_val)"
   ]
  },
  {
   "cell_type": "code",
   "execution_count": 294,
   "metadata": {},
   "outputs": [
    {
     "data": {
      "text/plain": [
       "array([1, 0, 2, ..., 1, 2, 0])"
      ]
     },
     "execution_count": 294,
     "metadata": {},
     "output_type": "execute_result"
    }
   ],
   "source": [
    "y_val.values"
   ]
  },
  {
   "cell_type": "code",
   "execution_count": 295,
   "metadata": {},
   "outputs": [],
   "source": [
    "preds_ = []\n",
    "\n",
    "for pred in model.predict(X_val):\n",
    "    if pred < 1:\n",
    "        preds_.append(np.round(pred))\n",
    "    elif pred > 3:\n",
    "        preds_.append(np.round(pred))\n",
    "    else:\n",
    "        preds_.append(np.ceil(pred))"
   ]
  },
  {
   "cell_type": "code",
   "execution_count": 296,
   "metadata": {},
   "outputs": [
    {
     "data": {
      "text/plain": [
       "0.6932962631389123"
      ]
     },
     "execution_count": 296,
     "metadata": {},
     "output_type": "execute_result"
    }
   ],
   "source": [
    "compete_metric(y_val.values, model.predict(X_val))"
   ]
  },
  {
   "cell_type": "code",
   "execution_count": 301,
   "metadata": {},
   "outputs": [
    {
     "data": {
      "text/plain": [
       "0.7428659034803832"
      ]
     },
     "execution_count": 301,
     "metadata": {},
     "output_type": "execute_result"
    }
   ],
   "source": [
    "compete_metric(y_val.values, np.ceil(model.predict(X_val)))"
   ]
  },
  {
   "cell_type": "code",
   "execution_count": 298,
   "metadata": {},
   "outputs": [
    {
     "data": {
      "text/plain": [
       "0.7634000123460071"
      ]
     },
     "execution_count": 298,
     "metadata": {},
     "output_type": "execute_result"
    }
   ],
   "source": [
    "compete_metric(y_val.values, preds_)"
   ]
  },
  {
   "cell_type": "code",
   "execution_count": null,
   "metadata": {},
   "outputs": [],
   "source": []
  }
 ],
 "metadata": {
  "kernelspec": {
   "display_name": "Python 3 (ipykernel)",
   "language": "python",
   "name": "python3"
  },
  "language_info": {
   "codemirror_mode": {
    "name": "ipython",
    "version": 3
   },
   "file_extension": ".py",
   "mimetype": "text/x-python",
   "name": "python",
   "nbconvert_exporter": "python",
   "pygments_lexer": "ipython3",
   "version": "3.9.5"
  }
 },
 "nbformat": 4,
 "nbformat_minor": 4
}
